{
 "cells": [
  {
   "cell_type": "markdown",
   "metadata": {},
   "source": [
    "# Pair Trading With Cryptos Part 1"
   ]
  },
  {
   "cell_type": "markdown",
   "metadata": {},
   "source": [
    "## How To Scrape Cryptocurrency Data Using Python"
   ]
  },
  {
   "cell_type": "markdown",
   "metadata": {},
   "source": [
    "## Introduction\n",
    "\n",
    "Cryptocurrencies (or cryptos) captured the world's imagination during the last couple of years. From their spectacular rise in 2017, to their equally hard fall in 2018, and to their most recent revival this year. Cryptocurrencies and the blockchain engine powering them are regarded as disruptive forces proposing an alternative decentralized monetary system. They also garnered their fair share of criticism. Cryptocurrencies are accused of facilitating transfer of 'dirty money' between criminals. Due to the extremely volatile returns they provide, cryptocurrencies earned the reputation of being a 'get rich quick' scheme.\n",
    "\n",
    "In this article, we focus on cryptocurrencies as investment vehicles sharing common features with FX, commodities and precious metals. Both crypto and fiat currencies allow for wealth transfer. Cryptocurrencies are similar to commodities because both have limited supply. They also draw comparisons to gold which is viewed by many as a \"safe-haven\" investment. \n",
    "\n",
    "The research is divided in two parts. In this article, I will demonstrate how to retrieve cryptocurrency historical data from the web. In the next article, I will illustrate how to backest a pair-trading strategy using the data sourced here."
   ]
  },
  {
   "cell_type": "markdown",
   "metadata": {},
   "source": [
    "## Retrieving Cryptocurrencies Historical Data\n",
    "\n",
    "We retrieve data mainly through databases, APIs and web pages. As I don't have access to a database providing cryptocurrency historical data. I will use APIs and scrape web pages to retrieve cryptocurrency data necessary for backtesting purposes.\n",
    "\n",
    "### Step By Step\n",
    "1. Via APIs\n",
    "2. Via Scraping\n",
    "\n",
    "You can find the code on https://github.com/DinodC/pair-trading-cryptos.\n",
    "\n",
    "\n",
    "## Via APIs\n",
    "APIs provide a convenient way to source data from providers, exchanges and other platforms.\n",
    "\n",
    "### 1. Quandl\n",
    "\n",
    "[Quandl](https://www.quandl.com) is a financial, economic and alternative data provider. It specializes in distributing alternative data to investment firms, arguing that non-traditional data is an untapped source of alpha. Quandl sources data from various providers such as exchanges, tech firms and other private companies. It has free and premium datasets to choose from. \n",
    "\n",
    "To pull data from Quandl, you need to:\n",
    "1. Register with Quandl to get an API key, it is free of charge.\n",
    "2. Pull data from Quandl using their API, or you can use Python, R and Excel.\n",
    "3. If you use Python, then you need to install Quandl Python package quandl or pandas-datareader.\n",
    "\n",
    "Here we use quandl package to retrieve cryptocurreny data from Bitfinex and GDAX datasets. "
   ]
  },
  {
   "cell_type": "markdown",
   "metadata": {},
   "source": [
    "### Bitfinex \n",
    "\n",
    "[Bitfinex](https://www.bitfinex.com) is one of the largest cryptocurrency trading platforms in the world, and is headquartered in Hong Kong. It provides an extensive list of crypto-to-crypto and crypto-to-fiat datasets. Pulled data using quandl's get function is in a convenient DataFrame object. A drawback is the limited OHLCV(Open-High-Low-Close-Volume) historical data spanning 2 years only."
   ]
  },
  {
   "cell_type": "code",
   "execution_count": 1,
   "metadata": {},
   "outputs": [],
   "source": [
    "# # Quandl Python package\n",
    "# import quandl\n",
    "\n",
    "# # Set API key\n",
    "# quandl.ApiConfig.api_key = 'Your API Authentication Key'\n",
    "\n",
    "# # Set parameters\n",
    "# start = '2009-01-01'\n",
    "# exchange = 'BITFINEX'\n",
    "# id = 'ETHUSD'\n",
    "\n",
    "# data = quandl.get(exchange + '/' + id, start_date=start)"
   ]
  },
  {
   "cell_type": "markdown",
   "metadata": {},
   "source": [
    "### GDAX (Global Digital Asset Exchange) \n",
    "\n",
    "[GDAX](https://pro.coinbase.com) is a popular cryptocurrency exchange headquartered in San Francisco, California. It was formerly known as Coinbase Exchange. Pulled OHLCV historical data from GDAX spans 3y, which is longer than Bitfinex datasets. Pulled data using quandl's get function is in a convenient DataFrame object. A drawback is the limited number of cryptocurrency datasets compared to Bitfinex."
   ]
  },
  {
   "cell_type": "code",
   "execution_count": 2,
   "metadata": {},
   "outputs": [],
   "source": [
    "# # Quandl Python package\n",
    "# import quandl\n",
    "\n",
    "# # Set API key\n",
    "# quandl.ApiConfig.api_key = 'Your API Authentication Key'\n",
    "\n",
    "# # Set parameters\n",
    "# start = '2009-01-01'\n",
    "# exchange = 'GDAX'\n",
    "# id = 'ETH_USD'\n",
    "\n",
    "# data = quandl.get(exchange + '/' + id, start_date=start)"
   ]
  },
  {
   "cell_type": "markdown",
   "metadata": {},
   "source": [
    "### 2. CoinAPI\n",
    "\n",
    "[CoinAPI](https://www.coinapi.io) is a one-stop shop providing cryptocurrency data from various exchanges such as GDAX, Huobi, Kraken, etc. It provides data via their API and other channels as well. Here, I will use CoinAPI's free registration to pull cryptocurrency data.\n",
    "\n",
    "To pull data from CoinAPI, you need to:\n",
    "1. Register with CoinAPI to get an API key for authenticating requests.\n",
    "2. Pull data from CoinAPI using their API, or you can use Python, Java, C#, and etc.\n",
    "3. If you use Python, then you need to install Python package requests to source data from CoinAPI.\n",
    "\n",
    "CoinAPI provides a rich list of cryptocrurencies and exchanges to collect data from. Note that under the free subscription, requests are limited to 100 per day. Also, historical OHLCV data per request is limited to a 100 data points. CoinAPI returns data in JSON format. "
   ]
  },
  {
   "cell_type": "code",
   "execution_count": 3,
   "metadata": {},
   "outputs": [],
   "source": [
    "import requests\n",
    "\n",
    "start = '2009-01-01'\n",
    "exchange = 'BITSTAMP'\n",
    "id = 'ETH'\n",
    "period = '1DAY'\n",
    "\n",
    "url = 'https://rest.coinapi.io/v1/ohlcv/' + exchange + '_SPOT_' + id + '_USD/history?period_id=' + period + '&time_start=' + start + 'T00:00:00'\n",
    "headers = {'X-CoinAPI-Key' : '294BBC7C-E7FB-4CE0-97E3-D5CF60005B81'}\n",
    "response = requests.get(url, headers=headers)"
   ]
  },
  {
   "cell_type": "markdown",
   "metadata": {},
   "source": [
    "## Via Scraping\n",
    "Scraping provides a straightforward way of sourcing data from a web page.\n",
    "\n",
    "### CoinMarketCap\n",
    "\n",
    "[CoinMarketCap](https://coinmarketcap.com) provides cryptocurrency data by pulling information from different exchanges. \n",
    "It queries cryptocurrency data from the exchanges, processes and delivers it through their website. \n",
    "CoinMarketCap has specific guidelines for cryptocurrencies and exchanges on how to be listed on the platform.\n",
    "\n",
    "You can pull data from CoinMarketCap via their API but their free registration doesn't include historical data.\n",
    "I will illustrate step-by-step how to retrieve historical OHLCV by scraping their website.\n",
    "Python package BeautifulSoup is used to collect data from CoinMarketCap.\n",
    "\n",
    "CoinMarketCap provides an extensive list of crypto-to-crypto and crypto-to-fiat data.\n",
    "Cryptocurrency OHLCV historical data spans more than 5 years e.g. BTCUSD, LTCUSD and XRPUSD.\n",
    "A limitation from scraping CoinMarketCap is data type inconsistency for volume and market cap data."
   ]
  },
  {
   "cell_type": "markdown",
   "metadata": {},
   "source": [
    "### Scrape Cryptocurrency Data From CoinMarketCap\n",
    "\n",
    "We scrape data as follows:\n",
    "1. Identify the cryptocurrencies and their corresponding URL. \n",
    "2. Scrape data from the URLs using Python packages requests and BeautifulSoup.\n",
    "\n",
    "Note that I scraped data for the top 5 cryptocurrencies (Bitcoin, Ethereum, Litcoin and Ripple) with respect to their market capitalization. I excluded Bitcoin Cash because it has limited historical data."
   ]
  },
  {
   "cell_type": "markdown",
   "metadata": {},
   "source": [
    "Import packages"
   ]
  },
  {
   "cell_type": "code",
   "execution_count": 4,
   "metadata": {},
   "outputs": [],
   "source": [
    "from requests import get"
   ]
  },
  {
   "cell_type": "code",
   "execution_count": 5,
   "metadata": {},
   "outputs": [],
   "source": [
    "from bs4 import BeautifulSoup"
   ]
  },
  {
   "cell_type": "code",
   "execution_count": 6,
   "metadata": {},
   "outputs": [],
   "source": [
    "import pandas as pd"
   ]
  },
  {
   "cell_type": "code",
   "execution_count": 7,
   "metadata": {},
   "outputs": [],
   "source": [
    "from pandas import DataFrame"
   ]
  },
  {
   "cell_type": "code",
   "execution_count": 8,
   "metadata": {},
   "outputs": [],
   "source": [
    "import matplotlib.pyplot as plt"
   ]
  },
  {
   "cell_type": "code",
   "execution_count": 9,
   "metadata": {},
   "outputs": [],
   "source": [
    "import pickle"
   ]
  },
  {
   "cell_type": "code",
   "execution_count": 10,
   "metadata": {},
   "outputs": [],
   "source": [
    "%matplotlib inline"
   ]
  },
  {
   "cell_type": "markdown",
   "metadata": {},
   "source": [
    "### Identify Cryptocurrencies"
   ]
  },
  {
   "cell_type": "markdown",
   "metadata": {},
   "source": [
    "Set cryptocurrency ids"
   ]
  },
  {
   "cell_type": "code",
   "execution_count": 11,
   "metadata": {},
   "outputs": [],
   "source": [
    "id = ['BTC', 'ETH', 'XRP', 'LTC']"
   ]
  },
  {
   "cell_type": "markdown",
   "metadata": {},
   "source": [
    "Create a dictionary mapping cryptocurrency ids to their URLs"
   ]
  },
  {
   "cell_type": "code",
   "execution_count": 12,
   "metadata": {},
   "outputs": [],
   "source": [
    "url = {'BTC': 'https://coinmarketcap.com/currencies/bitcoin/historical-data/?start=20130428&end=20190521',\n",
    "       'ETH': 'https://coinmarketcap.com/currencies/ethereum/historical-data/?start=20130428&end=20190521',\n",
    "       'XRP': 'https://coinmarketcap.com/currencies/ripple/historical-data/?start=20130428&end=20190521',\n",
    "       'LTC': 'https://coinmarketcap.com/currencies/litecoin/historical-data/?start=20130428&end=20190525'}"
   ]
  },
  {
   "cell_type": "markdown",
   "metadata": {},
   "source": [
    "### Scrape Data"
   ]
  },
  {
   "cell_type": "markdown",
   "metadata": {},
   "source": [
    "Before pulling data, recall that I identified an inconsistency on volume and market cap data type:\n",
    "1. There are str and float in the volume and market cap Series.\n",
    "2. I created function my_convert to correct for this."
   ]
  },
  {
   "cell_type": "code",
   "execution_count": 13,
   "metadata": {},
   "outputs": [],
   "source": [
    "def my_convert(string):\n",
    "    \n",
    "    res = 0.0\n",
    "    \n",
    "    if string == 'NaN':\n",
    "        res = string\n",
    "    elif string == '-':\n",
    "        res = 0.0\n",
    "    elif type(string) == str:\n",
    "        res = string.replace(',', '')\n",
    "        res = float(res)\n",
    "    else:\n",
    "        pass\n",
    "    \n",
    "    return res"
   ]
  },
  {
   "cell_type": "markdown",
   "metadata": {},
   "source": [
    "To retrieve cryptocurrency historical data, we run the script below"
   ]
  },
  {
   "cell_type": "code",
   "execution_count": 14,
   "metadata": {},
   "outputs": [],
   "source": [
    "# Create a list for concat\n",
    "data_list = []\n",
    "\n",
    "for i in id:\n",
    "    \n",
    "    # Retrieve data from URL\n",
    "    response = get(url[i])\n",
    "    \n",
    "    # Create soup\n",
    "    html_soup = BeautifulSoup(response.text, 'html.parser')\n",
    "    \n",
    "    # Find OHLCV table\n",
    "    ohlcv_table = html_soup.find_all('tr', class_='text-right')\n",
    "    \n",
    "    # Store in a dictionary\n",
    "    data = {}\n",
    "    for j in range(len(ohlcv_table)):\n",
    "        ohlcv_row = ohlcv_table[j].text.split('\\n')\n",
    "        data[ohlcv_row[1]] = [float(ohlcv_row[2]), # Open\n",
    "                              float(ohlcv_row[3]), # High\n",
    "                              float(ohlcv_row[4]), # Low\n",
    "                              float(ohlcv_row[5]), # Close\n",
    "                              my_convert(ohlcv_row[6]), # Volume\n",
    "                              my_convert(ohlcv_row[7])] # Market cap\n",
    "        \n",
    "    # Store in a DataFrame\n",
    "    data_df = pd.DataFrame.from_dict(data, orient='index')\n",
    "        \n",
    "    # Rename columns\n",
    "    data_df.columns = pd.MultiIndex.from_product([[i], ['Open', 'High', 'Low', 'Close', 'Volume', 'Market Cap']])\n",
    "    \n",
    "    # Convert index to DateTimeIndex\n",
    "    data_df.index = pd.to_datetime(data_df.index)\n",
    "    \n",
    "    # Append to list\n",
    "    data_list.append(data_df)\n",
    "    \n",
    "# Create DataFrame containing all the cryptos\n",
    "crypto = pd.concat(data_list, axis=1)  "
   ]
  },
  {
   "cell_type": "markdown",
   "metadata": {},
   "source": [
    "Check the collected data"
   ]
  },
  {
   "cell_type": "code",
   "execution_count": 15,
   "metadata": {
    "scrolled": true
   },
   "outputs": [
    {
     "data": {
      "text/html": [
       "<div>\n",
       "<style scoped>\n",
       "    .dataframe tbody tr th:only-of-type {\n",
       "        vertical-align: middle;\n",
       "    }\n",
       "\n",
       "    .dataframe tbody tr th {\n",
       "        vertical-align: top;\n",
       "    }\n",
       "\n",
       "    .dataframe thead tr th {\n",
       "        text-align: left;\n",
       "    }\n",
       "</style>\n",
       "<table border=\"1\" class=\"dataframe\">\n",
       "  <thead>\n",
       "    <tr>\n",
       "      <th></th>\n",
       "      <th colspan=\"6\" halign=\"left\">BTC</th>\n",
       "      <th colspan=\"4\" halign=\"left\">ETH</th>\n",
       "      <th>...</th>\n",
       "      <th colspan=\"4\" halign=\"left\">XRP</th>\n",
       "      <th colspan=\"6\" halign=\"left\">LTC</th>\n",
       "    </tr>\n",
       "    <tr>\n",
       "      <th></th>\n",
       "      <th>Open</th>\n",
       "      <th>High</th>\n",
       "      <th>Low</th>\n",
       "      <th>Close</th>\n",
       "      <th>Volume</th>\n",
       "      <th>Market Cap</th>\n",
       "      <th>Open</th>\n",
       "      <th>High</th>\n",
       "      <th>Low</th>\n",
       "      <th>Close</th>\n",
       "      <th>...</th>\n",
       "      <th>Low</th>\n",
       "      <th>Close</th>\n",
       "      <th>Volume</th>\n",
       "      <th>Market Cap</th>\n",
       "      <th>Open</th>\n",
       "      <th>High</th>\n",
       "      <th>Low</th>\n",
       "      <th>Close</th>\n",
       "      <th>Volume</th>\n",
       "      <th>Market Cap</th>\n",
       "    </tr>\n",
       "  </thead>\n",
       "  <tbody>\n",
       "    <tr>\n",
       "      <th>2013-04-28</th>\n",
       "      <td>135.30</td>\n",
       "      <td>135.98</td>\n",
       "      <td>132.10</td>\n",
       "      <td>134.21</td>\n",
       "      <td>0.0</td>\n",
       "      <td>1.488567e+09</td>\n",
       "      <td>NaN</td>\n",
       "      <td>NaN</td>\n",
       "      <td>NaN</td>\n",
       "      <td>NaN</td>\n",
       "      <td>...</td>\n",
       "      <td>NaN</td>\n",
       "      <td>NaN</td>\n",
       "      <td>NaN</td>\n",
       "      <td>NaN</td>\n",
       "      <td>4.30</td>\n",
       "      <td>4.40</td>\n",
       "      <td>4.18</td>\n",
       "      <td>4.35</td>\n",
       "      <td>0.0</td>\n",
       "      <td>74636938.0</td>\n",
       "    </tr>\n",
       "    <tr>\n",
       "      <th>2013-04-29</th>\n",
       "      <td>134.44</td>\n",
       "      <td>147.49</td>\n",
       "      <td>134.00</td>\n",
       "      <td>144.54</td>\n",
       "      <td>0.0</td>\n",
       "      <td>1.603769e+09</td>\n",
       "      <td>NaN</td>\n",
       "      <td>NaN</td>\n",
       "      <td>NaN</td>\n",
       "      <td>NaN</td>\n",
       "      <td>...</td>\n",
       "      <td>NaN</td>\n",
       "      <td>NaN</td>\n",
       "      <td>NaN</td>\n",
       "      <td>NaN</td>\n",
       "      <td>4.37</td>\n",
       "      <td>4.57</td>\n",
       "      <td>4.23</td>\n",
       "      <td>4.38</td>\n",
       "      <td>0.0</td>\n",
       "      <td>75388964.0</td>\n",
       "    </tr>\n",
       "    <tr>\n",
       "      <th>2013-04-30</th>\n",
       "      <td>144.00</td>\n",
       "      <td>146.93</td>\n",
       "      <td>134.05</td>\n",
       "      <td>139.00</td>\n",
       "      <td>0.0</td>\n",
       "      <td>1.542813e+09</td>\n",
       "      <td>NaN</td>\n",
       "      <td>NaN</td>\n",
       "      <td>NaN</td>\n",
       "      <td>NaN</td>\n",
       "      <td>...</td>\n",
       "      <td>NaN</td>\n",
       "      <td>NaN</td>\n",
       "      <td>NaN</td>\n",
       "      <td>NaN</td>\n",
       "      <td>4.40</td>\n",
       "      <td>4.57</td>\n",
       "      <td>4.17</td>\n",
       "      <td>4.30</td>\n",
       "      <td>0.0</td>\n",
       "      <td>74020918.0</td>\n",
       "    </tr>\n",
       "    <tr>\n",
       "      <th>2013-05-01</th>\n",
       "      <td>139.00</td>\n",
       "      <td>139.89</td>\n",
       "      <td>107.72</td>\n",
       "      <td>116.99</td>\n",
       "      <td>0.0</td>\n",
       "      <td>1.298955e+09</td>\n",
       "      <td>NaN</td>\n",
       "      <td>NaN</td>\n",
       "      <td>NaN</td>\n",
       "      <td>NaN</td>\n",
       "      <td>...</td>\n",
       "      <td>NaN</td>\n",
       "      <td>NaN</td>\n",
       "      <td>NaN</td>\n",
       "      <td>NaN</td>\n",
       "      <td>4.29</td>\n",
       "      <td>4.36</td>\n",
       "      <td>3.52</td>\n",
       "      <td>3.80</td>\n",
       "      <td>0.0</td>\n",
       "      <td>65604596.0</td>\n",
       "    </tr>\n",
       "    <tr>\n",
       "      <th>2013-05-02</th>\n",
       "      <td>116.38</td>\n",
       "      <td>125.60</td>\n",
       "      <td>92.28</td>\n",
       "      <td>105.21</td>\n",
       "      <td>0.0</td>\n",
       "      <td>1.168517e+09</td>\n",
       "      <td>NaN</td>\n",
       "      <td>NaN</td>\n",
       "      <td>NaN</td>\n",
       "      <td>NaN</td>\n",
       "      <td>...</td>\n",
       "      <td>NaN</td>\n",
       "      <td>NaN</td>\n",
       "      <td>NaN</td>\n",
       "      <td>NaN</td>\n",
       "      <td>3.78</td>\n",
       "      <td>4.04</td>\n",
       "      <td>3.01</td>\n",
       "      <td>3.37</td>\n",
       "      <td>0.0</td>\n",
       "      <td>58287979.0</td>\n",
       "    </tr>\n",
       "  </tbody>\n",
       "</table>\n",
       "<p>5 rows × 24 columns</p>\n",
       "</div>"
      ],
      "text/plain": [
       "               BTC                                               ETH           \\\n",
       "              Open    High     Low   Close Volume    Market Cap Open High Low   \n",
       "2013-04-28  135.30  135.98  132.10  134.21    0.0  1.488567e+09  NaN  NaN NaN   \n",
       "2013-04-29  134.44  147.49  134.00  144.54    0.0  1.603769e+09  NaN  NaN NaN   \n",
       "2013-04-30  144.00  146.93  134.05  139.00    0.0  1.542813e+09  NaN  NaN NaN   \n",
       "2013-05-01  139.00  139.89  107.72  116.99    0.0  1.298955e+09  NaN  NaN NaN   \n",
       "2013-05-02  116.38  125.60   92.28  105.21    0.0  1.168517e+09  NaN  NaN NaN   \n",
       "\n",
       "                     ...     XRP                           LTC              \\\n",
       "           Close     ...     Low Close Volume Market Cap  Open  High   Low   \n",
       "2013-04-28   NaN     ...     NaN   NaN    NaN        NaN  4.30  4.40  4.18   \n",
       "2013-04-29   NaN     ...     NaN   NaN    NaN        NaN  4.37  4.57  4.23   \n",
       "2013-04-30   NaN     ...     NaN   NaN    NaN        NaN  4.40  4.57  4.17   \n",
       "2013-05-01   NaN     ...     NaN   NaN    NaN        NaN  4.29  4.36  3.52   \n",
       "2013-05-02   NaN     ...     NaN   NaN    NaN        NaN  3.78  4.04  3.01   \n",
       "\n",
       "                                     \n",
       "           Close Volume  Market Cap  \n",
       "2013-04-28  4.35    0.0  74636938.0  \n",
       "2013-04-29  4.38    0.0  75388964.0  \n",
       "2013-04-30  4.30    0.0  74020918.0  \n",
       "2013-05-01  3.80    0.0  65604596.0  \n",
       "2013-05-02  3.37    0.0  58287979.0  \n",
       "\n",
       "[5 rows x 24 columns]"
      ]
     },
     "execution_count": 15,
     "metadata": {},
     "output_type": "execute_result"
    }
   ],
   "source": [
    "crypto.head()"
   ]
  },
  {
   "cell_type": "code",
   "execution_count": 16,
   "metadata": {},
   "outputs": [
    {
     "data": {
      "text/html": [
       "<div>\n",
       "<style scoped>\n",
       "    .dataframe tbody tr th:only-of-type {\n",
       "        vertical-align: middle;\n",
       "    }\n",
       "\n",
       "    .dataframe tbody tr th {\n",
       "        vertical-align: top;\n",
       "    }\n",
       "\n",
       "    .dataframe thead tr th {\n",
       "        text-align: left;\n",
       "    }\n",
       "</style>\n",
       "<table border=\"1\" class=\"dataframe\">\n",
       "  <thead>\n",
       "    <tr>\n",
       "      <th></th>\n",
       "      <th colspan=\"6\" halign=\"left\">BTC</th>\n",
       "      <th colspan=\"4\" halign=\"left\">ETH</th>\n",
       "      <th>...</th>\n",
       "      <th colspan=\"4\" halign=\"left\">XRP</th>\n",
       "      <th colspan=\"6\" halign=\"left\">LTC</th>\n",
       "    </tr>\n",
       "    <tr>\n",
       "      <th></th>\n",
       "      <th>Open</th>\n",
       "      <th>High</th>\n",
       "      <th>Low</th>\n",
       "      <th>Close</th>\n",
       "      <th>Volume</th>\n",
       "      <th>Market Cap</th>\n",
       "      <th>Open</th>\n",
       "      <th>High</th>\n",
       "      <th>Low</th>\n",
       "      <th>Close</th>\n",
       "      <th>...</th>\n",
       "      <th>Low</th>\n",
       "      <th>Close</th>\n",
       "      <th>Volume</th>\n",
       "      <th>Market Cap</th>\n",
       "      <th>Open</th>\n",
       "      <th>High</th>\n",
       "      <th>Low</th>\n",
       "      <th>Close</th>\n",
       "      <th>Volume</th>\n",
       "      <th>Market Cap</th>\n",
       "    </tr>\n",
       "  </thead>\n",
       "  <tbody>\n",
       "    <tr>\n",
       "      <th>2019-05-21</th>\n",
       "      <td>7977.97</td>\n",
       "      <td>8062.17</td>\n",
       "      <td>7843.34</td>\n",
       "      <td>7963.33</td>\n",
       "      <td>2.512725e+10</td>\n",
       "      <td>1.410656e+11</td>\n",
       "      <td>251.65</td>\n",
       "      <td>262.11</td>\n",
       "      <td>248.2</td>\n",
       "      <td>255.22</td>\n",
       "      <td>...</td>\n",
       "      <td>0.389302</td>\n",
       "      <td>0.397603</td>\n",
       "      <td>1.811582e+09</td>\n",
       "      <td>1.674573e+10</td>\n",
       "      <td>91.57</td>\n",
       "      <td>92.44</td>\n",
       "      <td>89.59</td>\n",
       "      <td>91.51</td>\n",
       "      <td>3.145769e+09</td>\n",
       "      <td>5.662154e+09</td>\n",
       "    </tr>\n",
       "    <tr>\n",
       "      <th>2019-05-22</th>\n",
       "      <td>NaN</td>\n",
       "      <td>NaN</td>\n",
       "      <td>NaN</td>\n",
       "      <td>NaN</td>\n",
       "      <td>NaN</td>\n",
       "      <td>NaN</td>\n",
       "      <td>NaN</td>\n",
       "      <td>NaN</td>\n",
       "      <td>NaN</td>\n",
       "      <td>NaN</td>\n",
       "      <td>...</td>\n",
       "      <td>NaN</td>\n",
       "      <td>NaN</td>\n",
       "      <td>NaN</td>\n",
       "      <td>NaN</td>\n",
       "      <td>91.51</td>\n",
       "      <td>92.00</td>\n",
       "      <td>87.55</td>\n",
       "      <td>88.21</td>\n",
       "      <td>3.398528e+09</td>\n",
       "      <td>5.459427e+09</td>\n",
       "    </tr>\n",
       "    <tr>\n",
       "      <th>2019-05-23</th>\n",
       "      <td>NaN</td>\n",
       "      <td>NaN</td>\n",
       "      <td>NaN</td>\n",
       "      <td>NaN</td>\n",
       "      <td>NaN</td>\n",
       "      <td>NaN</td>\n",
       "      <td>NaN</td>\n",
       "      <td>NaN</td>\n",
       "      <td>NaN</td>\n",
       "      <td>NaN</td>\n",
       "      <td>...</td>\n",
       "      <td>NaN</td>\n",
       "      <td>NaN</td>\n",
       "      <td>NaN</td>\n",
       "      <td>NaN</td>\n",
       "      <td>88.20</td>\n",
       "      <td>89.74</td>\n",
       "      <td>85.23</td>\n",
       "      <td>89.18</td>\n",
       "      <td>3.208807e+09</td>\n",
       "      <td>5.520439e+09</td>\n",
       "    </tr>\n",
       "    <tr>\n",
       "      <th>2019-05-24</th>\n",
       "      <td>NaN</td>\n",
       "      <td>NaN</td>\n",
       "      <td>NaN</td>\n",
       "      <td>NaN</td>\n",
       "      <td>NaN</td>\n",
       "      <td>NaN</td>\n",
       "      <td>NaN</td>\n",
       "      <td>NaN</td>\n",
       "      <td>NaN</td>\n",
       "      <td>NaN</td>\n",
       "      <td>...</td>\n",
       "      <td>NaN</td>\n",
       "      <td>NaN</td>\n",
       "      <td>NaN</td>\n",
       "      <td>NaN</td>\n",
       "      <td>88.97</td>\n",
       "      <td>102.75</td>\n",
       "      <td>88.32</td>\n",
       "      <td>99.90</td>\n",
       "      <td>5.393658e+09</td>\n",
       "      <td>6.185976e+09</td>\n",
       "    </tr>\n",
       "    <tr>\n",
       "      <th>2019-05-25</th>\n",
       "      <td>NaN</td>\n",
       "      <td>NaN</td>\n",
       "      <td>NaN</td>\n",
       "      <td>NaN</td>\n",
       "      <td>NaN</td>\n",
       "      <td>NaN</td>\n",
       "      <td>NaN</td>\n",
       "      <td>NaN</td>\n",
       "      <td>NaN</td>\n",
       "      <td>NaN</td>\n",
       "      <td>...</td>\n",
       "      <td>NaN</td>\n",
       "      <td>NaN</td>\n",
       "      <td>NaN</td>\n",
       "      <td>NaN</td>\n",
       "      <td>100.05</td>\n",
       "      <td>104.11</td>\n",
       "      <td>98.72</td>\n",
       "      <td>102.67</td>\n",
       "      <td>4.507357e+09</td>\n",
       "      <td>6.358964e+09</td>\n",
       "    </tr>\n",
       "  </tbody>\n",
       "</table>\n",
       "<p>5 rows × 24 columns</p>\n",
       "</div>"
      ],
      "text/plain": [
       "                BTC                                                         \\\n",
       "               Open     High      Low    Close        Volume    Market Cap   \n",
       "2019-05-21  7977.97  8062.17  7843.34  7963.33  2.512725e+10  1.410656e+11   \n",
       "2019-05-22      NaN      NaN      NaN      NaN           NaN           NaN   \n",
       "2019-05-23      NaN      NaN      NaN      NaN           NaN           NaN   \n",
       "2019-05-24      NaN      NaN      NaN      NaN           NaN           NaN   \n",
       "2019-05-25      NaN      NaN      NaN      NaN           NaN           NaN   \n",
       "\n",
       "               ETH                             ...            XRP            \\\n",
       "              Open    High    Low   Close      ...            Low     Close   \n",
       "2019-05-21  251.65  262.11  248.2  255.22      ...       0.389302  0.397603   \n",
       "2019-05-22     NaN     NaN    NaN     NaN      ...            NaN       NaN   \n",
       "2019-05-23     NaN     NaN    NaN     NaN      ...            NaN       NaN   \n",
       "2019-05-24     NaN     NaN    NaN     NaN      ...            NaN       NaN   \n",
       "2019-05-25     NaN     NaN    NaN     NaN      ...            NaN       NaN   \n",
       "\n",
       "                                           LTC                         \\\n",
       "                  Volume    Market Cap    Open    High    Low   Close   \n",
       "2019-05-21  1.811582e+09  1.674573e+10   91.57   92.44  89.59   91.51   \n",
       "2019-05-22           NaN           NaN   91.51   92.00  87.55   88.21   \n",
       "2019-05-23           NaN           NaN   88.20   89.74  85.23   89.18   \n",
       "2019-05-24           NaN           NaN   88.97  102.75  88.32   99.90   \n",
       "2019-05-25           NaN           NaN  100.05  104.11  98.72  102.67   \n",
       "\n",
       "                                        \n",
       "                  Volume    Market Cap  \n",
       "2019-05-21  3.145769e+09  5.662154e+09  \n",
       "2019-05-22  3.398528e+09  5.459427e+09  \n",
       "2019-05-23  3.208807e+09  5.520439e+09  \n",
       "2019-05-24  5.393658e+09  6.185976e+09  \n",
       "2019-05-25  4.507357e+09  6.358964e+09  \n",
       "\n",
       "[5 rows x 24 columns]"
      ]
     },
     "execution_count": 16,
     "metadata": {},
     "output_type": "execute_result"
    }
   ],
   "source": [
    "crypto.tail()"
   ]
  },
  {
   "cell_type": "markdown",
   "metadata": {},
   "source": [
    "Plot the data"
   ]
  },
  {
   "cell_type": "code",
   "execution_count": 17,
   "metadata": {},
   "outputs": [
    {
     "data": {
      "text/plain": [
       "['BTC', 'ETH', 'XRP', 'LTC']"
      ]
     },
     "execution_count": 17,
     "metadata": {},
     "output_type": "execute_result"
    }
   ],
   "source": [
    "id"
   ]
  },
  {
   "cell_type": "code",
   "execution_count": 18,
   "metadata": {},
   "outputs": [
    {
     "data": {
      "text/plain": [
       "<matplotlib.legend.Legend at 0x11d1c9b38>"
      ]
     },
     "execution_count": 18,
     "metadata": {},
     "output_type": "execute_result"
    },
    {
     "data": {
      "image/png": "[encoded data removed]",
      "text/plain": [
       "<Figure size 1440x720 with 4 Axes>"
      ]
     },
     "metadata": {
      "needs_background": "light"
     },
     "output_type": "display_data"
    }
   ],
   "source": [
    "# Adjust plot size\n",
    "plt.figure(figsize=[20, 10])\n",
    "\n",
    "# Open\n",
    "plt.subplot(2, 2, 1)\n",
    "plt.plot(crypto.BTC.Open)\n",
    "plt.plot(crypto.ETH.Open)\n",
    "plt.plot(crypto.XRP.Open)\n",
    "plt.plot(crypto.LTC.Open)\n",
    "plt.title('Open')\n",
    "plt.legend(id)\n",
    "\n",
    "# Close\n",
    "plt.subplot(2, 2, 2)\n",
    "plt.plot(crypto.BTC.Close)\n",
    "plt.plot(crypto.ETH.Close)\n",
    "plt.plot(crypto.XRP.Close)\n",
    "plt.plot(crypto.LTC.Close)\n",
    "plt.title('Close')\n",
    "plt.legend(id)\n",
    "\n",
    "# Volume\n",
    "plt.subplot(2, 2, 3)\n",
    "plt.plot(crypto.BTC.Volume)\n",
    "plt.plot(crypto.ETH.Volume)\n",
    "plt.plot(crypto.XRP.Volume)\n",
    "plt.plot(crypto.LTC.Volume)\n",
    "plt.title('Volume')\n",
    "plt.legend(id)\n",
    "\n",
    "# Market cap\n",
    "plt.subplot(2, 2, 4)\n",
    "plt.plot(crypto.BTC['Market Cap'])\n",
    "plt.plot(crypto.ETH['Market Cap'])\n",
    "plt.plot(crypto.XRP['Market Cap'])\n",
    "plt.plot(crypto.LTC['Market Cap'])\n",
    "plt.title('Market Cap')\n",
    "plt.legend(id)"
   ]
  },
  {
   "cell_type": "markdown",
   "metadata": {},
   "source": [
    "Save data"
   ]
  },
  {
   "cell_type": "code",
   "execution_count": 19,
   "metadata": {},
   "outputs": [],
   "source": [
    "with open('data_coinmarketcap.pickle', 'wb') as f:\n",
    "    pickle.dump(crypto, f)\n",
    "    \n",
    "f.close()"
   ]
  },
  {
   "cell_type": "markdown",
   "metadata": {},
   "source": [
    "## Conclusion\n",
    "\n",
    "In this article, we identifed sources of cryptocurrency historical data such as APIs and web scraping. Using APIs provides a convenient way of retrieving data. A drawback using APIs, under the free subscription plan, is the limited historical data collected. Scraping websites requires a bit more effort than using APIs, but offers extensive datasets. In the next article, we will use the historical data collected here to backtest a pair-trading strategy involving cryptocurrencies."
   ]
  }
 ],
 "metadata": {
  "kernelspec": {
   "display_name": "Python 3",
   "language": "python",
   "name": "python3"
  },
  "language_info": {
   "codemirror_mode": {
    "name": "ipython",
    "version": 3
   },
   "file_extension": ".py",
   "mimetype": "text/x-python",
   "name": "python",
   "nbconvert_exporter": "python",
   "pygments_lexer": "ipython3",
   "version": "3.7.1"
  }
 },
 "nbformat": 4,
 "nbformat_minor": 2
}
