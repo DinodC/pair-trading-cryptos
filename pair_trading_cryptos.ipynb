{
 "cells": [
  {
   "cell_type": "markdown",
   "metadata": {},
   "source": [
    "# Pair Trading With Cryptocurrencies"
   ]
  },
  {
   "cell_type": "markdown",
   "metadata": {},
   "source": [
    "## How To Implement A Pair Trading Strategy Using Python"
   ]
  },
  {
   "cell_type": "markdown",
   "metadata": {},
   "source": [
    "## Introduction\n",
    "..."
   ]
  },
  {
   "cell_type": "markdown",
   "metadata": {},
   "source": [
    "Import packages"
   ]
  },
  {
   "cell_type": "code",
   "execution_count": 1,
   "metadata": {},
   "outputs": [],
   "source": [
    "import numpy as np"
   ]
  },
  {
   "cell_type": "code",
   "execution_count": 2,
   "metadata": {},
   "outputs": [],
   "source": [
    "import pandas as pd"
   ]
  },
  {
   "cell_type": "code",
   "execution_count": 3,
   "metadata": {},
   "outputs": [],
   "source": [
    "from pandas import Series, DataFrame"
   ]
  },
  {
   "cell_type": "code",
   "execution_count": 4,
   "metadata": {},
   "outputs": [],
   "source": [
    "import pickle"
   ]
  },
  {
   "cell_type": "code",
   "execution_count": 5,
   "metadata": {},
   "outputs": [],
   "source": [
    "import matplotlib.pyplot as plt"
   ]
  },
  {
   "cell_type": "code",
   "execution_count": 6,
   "metadata": {},
   "outputs": [],
   "source": [
    "import statsmodels.api as sm"
   ]
  },
  {
   "cell_type": "code",
   "execution_count": 7,
   "metadata": {},
   "outputs": [],
   "source": [
    "%matplotlib inline"
   ]
  },
  {
   "cell_type": "markdown",
   "metadata": {},
   "source": [
    "## Data Preparation"
   ]
  },
  {
   "cell_type": "markdown",
   "metadata": {},
   "source": [
    "Load data"
   ]
  },
  {
   "cell_type": "code",
   "execution_count": 8,
   "metadata": {},
   "outputs": [],
   "source": [
    "with open('data_bitfinex.pickle', 'rb') as f:\n",
    "    data = pickle.load(f)\n",
    "    \n",
    "f.close()"
   ]
  },
  {
   "cell_type": "markdown",
   "metadata": {},
   "source": [
    "Collect tickers"
   ]
  },
  {
   "cell_type": "code",
   "execution_count": 9,
   "metadata": {},
   "outputs": [],
   "source": [
    "tickers = list(data.columns.levels[0])"
   ]
  },
  {
   "cell_type": "code",
   "execution_count": 10,
   "metadata": {
    "scrolled": true
   },
   "outputs": [
    {
     "data": {
      "text/plain": [
       "['BCCUSD',\n",
       " 'BCUUSD',\n",
       " 'BTCUSD',\n",
       " 'DSHUSD',\n",
       " 'EOSUSD',\n",
       " 'ETCUSD',\n",
       " 'ETHUSD',\n",
       " 'LTCUSD',\n",
       " 'RRTUSD',\n",
       " 'SANUSD',\n",
       " 'XMRUSD',\n",
       " 'XRPUSD',\n",
       " 'ZECUSD']"
      ]
     },
     "execution_count": 10,
     "metadata": {},
     "output_type": "execute_result"
    }
   ],
   "source": [
    "tickers"
   ]
  },
  {
   "cell_type": "markdown",
   "metadata": {},
   "source": [
    "Create a dictionary of last prices"
   ]
  },
  {
   "cell_type": "code",
   "execution_count": 11,
   "metadata": {},
   "outputs": [],
   "source": [
    "last_dict = {}"
   ]
  },
  {
   "cell_type": "code",
   "execution_count": 12,
   "metadata": {},
   "outputs": [],
   "source": [
    "for i in tickers:\n",
    "    last_dict[i] = data[i].Last"
   ]
  },
  {
   "cell_type": "markdown",
   "metadata": {},
   "source": [
    "Convert dictionary of last prices to DataFrame"
   ]
  },
  {
   "cell_type": "code",
   "execution_count": 13,
   "metadata": {},
   "outputs": [],
   "source": [
    "last = pd.DataFrame(last_dict)"
   ]
  },
  {
   "cell_type": "markdown",
   "metadata": {},
   "source": [
    "Check"
   ]
  },
  {
   "cell_type": "code",
   "execution_count": 14,
   "metadata": {},
   "outputs": [
    {
     "data": {
      "text/html": [
       "<div>\n",
       "<style scoped>\n",
       "    .dataframe tbody tr th:only-of-type {\n",
       "        vertical-align: middle;\n",
       "    }\n",
       "\n",
       "    .dataframe tbody tr th {\n",
       "        vertical-align: top;\n",
       "    }\n",
       "\n",
       "    .dataframe thead th {\n",
       "        text-align: right;\n",
       "    }\n",
       "</style>\n",
       "<table border=\"1\" class=\"dataframe\">\n",
       "  <thead>\n",
       "    <tr style=\"text-align: right;\">\n",
       "      <th></th>\n",
       "      <th>BCCUSD</th>\n",
       "      <th>BCUUSD</th>\n",
       "      <th>BTCUSD</th>\n",
       "      <th>DSHUSD</th>\n",
       "      <th>EOSUSD</th>\n",
       "      <th>ETCUSD</th>\n",
       "      <th>ETHUSD</th>\n",
       "      <th>LTCUSD</th>\n",
       "      <th>RRTUSD</th>\n",
       "      <th>SANUSD</th>\n",
       "      <th>XMRUSD</th>\n",
       "      <th>XRPUSD</th>\n",
       "      <th>ZECUSD</th>\n",
       "    </tr>\n",
       "    <tr>\n",
       "      <th>Date</th>\n",
       "      <th></th>\n",
       "      <th></th>\n",
       "      <th></th>\n",
       "      <th></th>\n",
       "      <th></th>\n",
       "      <th></th>\n",
       "      <th></th>\n",
       "      <th></th>\n",
       "      <th></th>\n",
       "      <th></th>\n",
       "      <th></th>\n",
       "      <th></th>\n",
       "      <th></th>\n",
       "    </tr>\n",
       "  </thead>\n",
       "  <tbody>\n",
       "    <tr>\n",
       "      <th>2017-05-19</th>\n",
       "      <td>1787.6</td>\n",
       "      <td>201.30</td>\n",
       "      <td>1970.0</td>\n",
       "      <td>98.028</td>\n",
       "      <td>NaN</td>\n",
       "      <td>7.4993</td>\n",
       "      <td>125.79</td>\n",
       "      <td>26.824</td>\n",
       "      <td>0.090696</td>\n",
       "      <td>NaN</td>\n",
       "      <td>31.498</td>\n",
       "      <td>0.31800</td>\n",
       "      <td>105.84</td>\n",
       "    </tr>\n",
       "    <tr>\n",
       "      <th>2017-05-20</th>\n",
       "      <td>1820.0</td>\n",
       "      <td>193.85</td>\n",
       "      <td>2068.0</td>\n",
       "      <td>102.450</td>\n",
       "      <td>NaN</td>\n",
       "      <td>7.1010</td>\n",
       "      <td>126.30</td>\n",
       "      <td>27.467</td>\n",
       "      <td>0.090696</td>\n",
       "      <td>NaN</td>\n",
       "      <td>35.342</td>\n",
       "      <td>0.34689</td>\n",
       "      <td>106.75</td>\n",
       "    </tr>\n",
       "    <tr>\n",
       "      <th>2017-05-21</th>\n",
       "      <td>1753.0</td>\n",
       "      <td>200.15</td>\n",
       "      <td>2037.9</td>\n",
       "      <td>102.010</td>\n",
       "      <td>NaN</td>\n",
       "      <td>7.6000</td>\n",
       "      <td>144.40</td>\n",
       "      <td>26.050</td>\n",
       "      <td>0.088110</td>\n",
       "      <td>NaN</td>\n",
       "      <td>34.140</td>\n",
       "      <td>0.33345</td>\n",
       "      <td>117.71</td>\n",
       "    </tr>\n",
       "    <tr>\n",
       "      <th>2017-05-22</th>\n",
       "      <td>1850.0</td>\n",
       "      <td>200.00</td>\n",
       "      <td>1981.9</td>\n",
       "      <td>115.020</td>\n",
       "      <td>NaN</td>\n",
       "      <td>7.9482</td>\n",
       "      <td>137.00</td>\n",
       "      <td>23.291</td>\n",
       "      <td>0.089990</td>\n",
       "      <td>NaN</td>\n",
       "      <td>34.889</td>\n",
       "      <td>0.28001</td>\n",
       "      <td>194.10</td>\n",
       "    </tr>\n",
       "    <tr>\n",
       "      <th>2017-05-23</th>\n",
       "      <td>2000.0</td>\n",
       "      <td>214.53</td>\n",
       "      <td>2228.0</td>\n",
       "      <td>132.250</td>\n",
       "      <td>NaN</td>\n",
       "      <td>9.9974</td>\n",
       "      <td>167.02</td>\n",
       "      <td>29.750</td>\n",
       "      <td>0.092496</td>\n",
       "      <td>NaN</td>\n",
       "      <td>53.326</td>\n",
       "      <td>0.32090</td>\n",
       "      <td>250.00</td>\n",
       "    </tr>\n",
       "  </tbody>\n",
       "</table>\n",
       "</div>"
      ],
      "text/plain": [
       "            BCCUSD  BCUUSD  BTCUSD   DSHUSD  EOSUSD  ETCUSD  ETHUSD  LTCUSD  \\\n",
       "Date                                                                          \n",
       "2017-05-19  1787.6  201.30  1970.0   98.028     NaN  7.4993  125.79  26.824   \n",
       "2017-05-20  1820.0  193.85  2068.0  102.450     NaN  7.1010  126.30  27.467   \n",
       "2017-05-21  1753.0  200.15  2037.9  102.010     NaN  7.6000  144.40  26.050   \n",
       "2017-05-22  1850.0  200.00  1981.9  115.020     NaN  7.9482  137.00  23.291   \n",
       "2017-05-23  2000.0  214.53  2228.0  132.250     NaN  9.9974  167.02  29.750   \n",
       "\n",
       "              RRTUSD  SANUSD  XMRUSD   XRPUSD  ZECUSD  \n",
       "Date                                                   \n",
       "2017-05-19  0.090696     NaN  31.498  0.31800  105.84  \n",
       "2017-05-20  0.090696     NaN  35.342  0.34689  106.75  \n",
       "2017-05-21  0.088110     NaN  34.140  0.33345  117.71  \n",
       "2017-05-22  0.089990     NaN  34.889  0.28001  194.10  \n",
       "2017-05-23  0.092496     NaN  53.326  0.32090  250.00  "
      ]
     },
     "execution_count": 14,
     "metadata": {},
     "output_type": "execute_result"
    }
   ],
   "source": [
    "last.head()"
   ]
  },
  {
   "cell_type": "code",
   "execution_count": 15,
   "metadata": {},
   "outputs": [
    {
     "data": {
      "text/html": [
       "<div>\n",
       "<style scoped>\n",
       "    .dataframe tbody tr th:only-of-type {\n",
       "        vertical-align: middle;\n",
       "    }\n",
       "\n",
       "    .dataframe tbody tr th {\n",
       "        vertical-align: top;\n",
       "    }\n",
       "\n",
       "    .dataframe thead th {\n",
       "        text-align: right;\n",
       "    }\n",
       "</style>\n",
       "<table border=\"1\" class=\"dataframe\">\n",
       "  <thead>\n",
       "    <tr style=\"text-align: right;\">\n",
       "      <th></th>\n",
       "      <th>BCCUSD</th>\n",
       "      <th>BCUUSD</th>\n",
       "      <th>BTCUSD</th>\n",
       "      <th>DSHUSD</th>\n",
       "      <th>EOSUSD</th>\n",
       "      <th>ETCUSD</th>\n",
       "      <th>ETHUSD</th>\n",
       "      <th>LTCUSD</th>\n",
       "      <th>RRTUSD</th>\n",
       "      <th>SANUSD</th>\n",
       "      <th>XMRUSD</th>\n",
       "      <th>XRPUSD</th>\n",
       "      <th>ZECUSD</th>\n",
       "    </tr>\n",
       "    <tr>\n",
       "      <th>Date</th>\n",
       "      <th></th>\n",
       "      <th></th>\n",
       "      <th></th>\n",
       "      <th></th>\n",
       "      <th></th>\n",
       "      <th></th>\n",
       "      <th></th>\n",
       "      <th></th>\n",
       "      <th></th>\n",
       "      <th></th>\n",
       "      <th></th>\n",
       "      <th></th>\n",
       "      <th></th>\n",
       "    </tr>\n",
       "  </thead>\n",
       "  <tbody>\n",
       "    <tr>\n",
       "      <th>2019-05-19</th>\n",
       "      <td>NaN</td>\n",
       "      <td>NaN</td>\n",
       "      <td>8174.8</td>\n",
       "      <td>164.46</td>\n",
       "      <td>6.477079</td>\n",
       "      <td>7.8201</td>\n",
       "      <td>261.43</td>\n",
       "      <td>96.002</td>\n",
       "      <td>0.043800</td>\n",
       "      <td>1.02730</td>\n",
       "      <td>89.805</td>\n",
       "      <td>0.42290</td>\n",
       "      <td>77.911</td>\n",
       "    </tr>\n",
       "    <tr>\n",
       "      <th>2019-05-20</th>\n",
       "      <td>NaN</td>\n",
       "      <td>NaN</td>\n",
       "      <td>7914.4</td>\n",
       "      <td>167.43</td>\n",
       "      <td>6.242500</td>\n",
       "      <td>7.3603</td>\n",
       "      <td>250.53</td>\n",
       "      <td>90.967</td>\n",
       "      <td>0.043700</td>\n",
       "      <td>0.97400</td>\n",
       "      <td>86.704</td>\n",
       "      <td>0.39650</td>\n",
       "      <td>75.697</td>\n",
       "    </tr>\n",
       "    <tr>\n",
       "      <th>2019-05-21</th>\n",
       "      <td>NaN</td>\n",
       "      <td>NaN</td>\n",
       "      <td>7966.9</td>\n",
       "      <td>166.99</td>\n",
       "      <td>6.301800</td>\n",
       "      <td>7.4557</td>\n",
       "      <td>256.60</td>\n",
       "      <td>91.729</td>\n",
       "      <td>0.042301</td>\n",
       "      <td>0.96700</td>\n",
       "      <td>89.026</td>\n",
       "      <td>0.39900</td>\n",
       "      <td>75.178</td>\n",
       "    </tr>\n",
       "    <tr>\n",
       "      <th>2019-05-22</th>\n",
       "      <td>NaN</td>\n",
       "      <td>NaN</td>\n",
       "      <td>7729.7</td>\n",
       "      <td>155.95</td>\n",
       "      <td>5.964400</td>\n",
       "      <td>6.9617</td>\n",
       "      <td>245.78</td>\n",
       "      <td>88.645</td>\n",
       "      <td>0.042270</td>\n",
       "      <td>0.98555</td>\n",
       "      <td>84.304</td>\n",
       "      <td>0.37734</td>\n",
       "      <td>70.679</td>\n",
       "    </tr>\n",
       "    <tr>\n",
       "      <th>2019-05-23</th>\n",
       "      <td>NaN</td>\n",
       "      <td>NaN</td>\n",
       "      <td>7891.3</td>\n",
       "      <td>154.52</td>\n",
       "      <td>6.064500</td>\n",
       "      <td>7.0569</td>\n",
       "      <td>246.10</td>\n",
       "      <td>89.251</td>\n",
       "      <td>0.042270</td>\n",
       "      <td>0.93645</td>\n",
       "      <td>84.664</td>\n",
       "      <td>0.38003</td>\n",
       "      <td>71.724</td>\n",
       "    </tr>\n",
       "  </tbody>\n",
       "</table>\n",
       "</div>"
      ],
      "text/plain": [
       "            BCCUSD  BCUUSD  BTCUSD  DSHUSD    EOSUSD  ETCUSD  ETHUSD  LTCUSD  \\\n",
       "Date                                                                           \n",
       "2019-05-19     NaN     NaN  8174.8  164.46  6.477079  7.8201  261.43  96.002   \n",
       "2019-05-20     NaN     NaN  7914.4  167.43  6.242500  7.3603  250.53  90.967   \n",
       "2019-05-21     NaN     NaN  7966.9  166.99  6.301800  7.4557  256.60  91.729   \n",
       "2019-05-22     NaN     NaN  7729.7  155.95  5.964400  6.9617  245.78  88.645   \n",
       "2019-05-23     NaN     NaN  7891.3  154.52  6.064500  7.0569  246.10  89.251   \n",
       "\n",
       "              RRTUSD   SANUSD  XMRUSD   XRPUSD  ZECUSD  \n",
       "Date                                                    \n",
       "2019-05-19  0.043800  1.02730  89.805  0.42290  77.911  \n",
       "2019-05-20  0.043700  0.97400  86.704  0.39650  75.697  \n",
       "2019-05-21  0.042301  0.96700  89.026  0.39900  75.178  \n",
       "2019-05-22  0.042270  0.98555  84.304  0.37734  70.679  \n",
       "2019-05-23  0.042270  0.93645  84.664  0.38003  71.724  "
      ]
     },
     "execution_count": 15,
     "metadata": {},
     "output_type": "execute_result"
    }
   ],
   "source": [
    "last.tail()"
   ]
  },
  {
   "cell_type": "code",
   "execution_count": 16,
   "metadata": {},
   "outputs": [
    {
     "data": {
      "text/html": [
       "<div>\n",
       "<style scoped>\n",
       "    .dataframe tbody tr th:only-of-type {\n",
       "        vertical-align: middle;\n",
       "    }\n",
       "\n",
       "    .dataframe tbody tr th {\n",
       "        vertical-align: top;\n",
       "    }\n",
       "\n",
       "    .dataframe thead th {\n",
       "        text-align: right;\n",
       "    }\n",
       "</style>\n",
       "<table border=\"1\" class=\"dataframe\">\n",
       "  <thead>\n",
       "    <tr style=\"text-align: right;\">\n",
       "      <th></th>\n",
       "      <th>BCCUSD</th>\n",
       "      <th>BCUUSD</th>\n",
       "      <th>BTCUSD</th>\n",
       "      <th>DSHUSD</th>\n",
       "      <th>EOSUSD</th>\n",
       "      <th>ETCUSD</th>\n",
       "      <th>ETHUSD</th>\n",
       "      <th>LTCUSD</th>\n",
       "      <th>RRTUSD</th>\n",
       "      <th>SANUSD</th>\n",
       "      <th>XMRUSD</th>\n",
       "      <th>XRPUSD</th>\n",
       "      <th>ZECUSD</th>\n",
       "    </tr>\n",
       "  </thead>\n",
       "  <tbody>\n",
       "    <tr>\n",
       "      <th>count</th>\n",
       "      <td>215.000000</td>\n",
       "      <td>215.000000</td>\n",
       "      <td>712.000000</td>\n",
       "      <td>712.000000</td>\n",
       "      <td>483.000000</td>\n",
       "      <td>712.000000</td>\n",
       "      <td>712.000000</td>\n",
       "      <td>711.000000</td>\n",
       "      <td>711.000000</td>\n",
       "      <td>472.000000</td>\n",
       "      <td>712.000000</td>\n",
       "      <td>712.000000</td>\n",
       "      <td>711.000000</td>\n",
       "    </tr>\n",
       "    <tr>\n",
       "      <th>mean</th>\n",
       "      <td>4797.132093</td>\n",
       "      <td>292.164488</td>\n",
       "      <td>6297.287691</td>\n",
       "      <td>287.632192</td>\n",
       "      <td>3.683205</td>\n",
       "      <td>14.281943</td>\n",
       "      <td>368.428862</td>\n",
       "      <td>84.798965</td>\n",
       "      <td>0.078213</td>\n",
       "      <td>0.602140</td>\n",
       "      <td>125.295864</td>\n",
       "      <td>0.468881</td>\n",
       "      <td>205.455135</td>\n",
       "    </tr>\n",
       "    <tr>\n",
       "      <th>std</th>\n",
       "      <td>3809.541788</td>\n",
       "      <td>156.675981</td>\n",
       "      <td>3046.770749</td>\n",
       "      <td>231.953919</td>\n",
       "      <td>2.227089</td>\n",
       "      <td>8.135075</td>\n",
       "      <td>254.802203</td>\n",
       "      <td>58.395382</td>\n",
       "      <td>0.056773</td>\n",
       "      <td>0.662396</td>\n",
       "      <td>88.610652</td>\n",
       "      <td>0.364259</td>\n",
       "      <td>132.558672</td>\n",
       "    </tr>\n",
       "    <tr>\n",
       "      <th>min</th>\n",
       "      <td>1345.000000</td>\n",
       "      <td>64.000000</td>\n",
       "      <td>1949.900000</td>\n",
       "      <td>59.512000</td>\n",
       "      <td>0.488800</td>\n",
       "      <td>3.452200</td>\n",
       "      <td>85.039000</td>\n",
       "      <td>21.845000</td>\n",
       "      <td>0.033010</td>\n",
       "      <td>0.145010</td>\n",
       "      <td>29.744000</td>\n",
       "      <td>0.148210</td>\n",
       "      <td>47.051000</td>\n",
       "    </tr>\n",
       "    <tr>\n",
       "      <th>25%</th>\n",
       "      <td>2398.300000</td>\n",
       "      <td>192.970000</td>\n",
       "      <td>3965.200000</td>\n",
       "      <td>132.195000</td>\n",
       "      <td>1.788650</td>\n",
       "      <td>7.451100</td>\n",
       "      <td>178.225000</td>\n",
       "      <td>46.686500</td>\n",
       "      <td>0.040348</td>\n",
       "      <td>0.310993</td>\n",
       "      <td>53.109000</td>\n",
       "      <td>0.261860</td>\n",
       "      <td>85.598500</td>\n",
       "    </tr>\n",
       "    <tr>\n",
       "      <th>50%</th>\n",
       "      <td>3500.000000</td>\n",
       "      <td>230.010000</td>\n",
       "      <td>6284.350000</td>\n",
       "      <td>202.760000</td>\n",
       "      <td>3.590000</td>\n",
       "      <td>13.954500</td>\n",
       "      <td>292.545000</td>\n",
       "      <td>61.000000</td>\n",
       "      <td>0.056213</td>\n",
       "      <td>0.456895</td>\n",
       "      <td>101.530000</td>\n",
       "      <td>0.335150</td>\n",
       "      <td>191.270000</td>\n",
       "    </tr>\n",
       "    <tr>\n",
       "      <th>75%</th>\n",
       "      <td>5310.600000</td>\n",
       "      <td>387.550000</td>\n",
       "      <td>7681.375000</td>\n",
       "      <td>348.690000</td>\n",
       "      <td>5.395750</td>\n",
       "      <td>17.399750</td>\n",
       "      <td>471.400000</td>\n",
       "      <td>100.087500</td>\n",
       "      <td>0.085495</td>\n",
       "      <td>0.629570</td>\n",
       "      <td>161.325000</td>\n",
       "      <td>0.525350</td>\n",
       "      <td>270.150000</td>\n",
       "    </tr>\n",
       "    <tr>\n",
       "      <th>max</th>\n",
       "      <td>19433.000000</td>\n",
       "      <td>810.000000</td>\n",
       "      <td>19210.000000</td>\n",
       "      <td>1424.600000</td>\n",
       "      <td>11.491000</td>\n",
       "      <td>42.416000</td>\n",
       "      <td>1380.000000</td>\n",
       "      <td>355.510000</td>\n",
       "      <td>0.372000</td>\n",
       "      <td>4.642000</td>\n",
       "      <td>470.990000</td>\n",
       "      <td>2.760400</td>\n",
       "      <td>753.570000</td>\n",
       "    </tr>\n",
       "  </tbody>\n",
       "</table>\n",
       "</div>"
      ],
      "text/plain": [
       "             BCCUSD      BCUUSD        BTCUSD       DSHUSD      EOSUSD  \\\n",
       "count    215.000000  215.000000    712.000000   712.000000  483.000000   \n",
       "mean    4797.132093  292.164488   6297.287691   287.632192    3.683205   \n",
       "std     3809.541788  156.675981   3046.770749   231.953919    2.227089   \n",
       "min     1345.000000   64.000000   1949.900000    59.512000    0.488800   \n",
       "25%     2398.300000  192.970000   3965.200000   132.195000    1.788650   \n",
       "50%     3500.000000  230.010000   6284.350000   202.760000    3.590000   \n",
       "75%     5310.600000  387.550000   7681.375000   348.690000    5.395750   \n",
       "max    19433.000000  810.000000  19210.000000  1424.600000   11.491000   \n",
       "\n",
       "           ETCUSD       ETHUSD      LTCUSD      RRTUSD      SANUSD  \\\n",
       "count  712.000000   712.000000  711.000000  711.000000  472.000000   \n",
       "mean    14.281943   368.428862   84.798965    0.078213    0.602140   \n",
       "std      8.135075   254.802203   58.395382    0.056773    0.662396   \n",
       "min      3.452200    85.039000   21.845000    0.033010    0.145010   \n",
       "25%      7.451100   178.225000   46.686500    0.040348    0.310993   \n",
       "50%     13.954500   292.545000   61.000000    0.056213    0.456895   \n",
       "75%     17.399750   471.400000  100.087500    0.085495    0.629570   \n",
       "max     42.416000  1380.000000  355.510000    0.372000    4.642000   \n",
       "\n",
       "           XMRUSD      XRPUSD      ZECUSD  \n",
       "count  712.000000  712.000000  711.000000  \n",
       "mean   125.295864    0.468881  205.455135  \n",
       "std     88.610652    0.364259  132.558672  \n",
       "min     29.744000    0.148210   47.051000  \n",
       "25%     53.109000    0.261860   85.598500  \n",
       "50%    101.530000    0.335150  191.270000  \n",
       "75%    161.325000    0.525350  270.150000  \n",
       "max    470.990000    2.760400  753.570000  "
      ]
     },
     "execution_count": 16,
     "metadata": {},
     "output_type": "execute_result"
    }
   ],
   "source": [
    "last.describe()"
   ]
  },
  {
   "cell_type": "markdown",
   "metadata": {},
   "source": [
    "Drop cryptocurrencies which have less than 2y data"
   ]
  },
  {
   "cell_type": "code",
   "execution_count": 17,
   "metadata": {},
   "outputs": [],
   "source": [
    "last.drop(['BCCUSD', 'BCUUSD', 'EOSUSD', 'SANUSD'], axis='columns', inplace=True)"
   ]
  },
  {
   "cell_type": "markdown",
   "metadata": {},
   "source": [
    "Check"
   ]
  },
  {
   "cell_type": "code",
   "execution_count": 18,
   "metadata": {},
   "outputs": [
    {
     "data": {
      "text/html": [
       "<div>\n",
       "<style scoped>\n",
       "    .dataframe tbody tr th:only-of-type {\n",
       "        vertical-align: middle;\n",
       "    }\n",
       "\n",
       "    .dataframe tbody tr th {\n",
       "        vertical-align: top;\n",
       "    }\n",
       "\n",
       "    .dataframe thead th {\n",
       "        text-align: right;\n",
       "    }\n",
       "</style>\n",
       "<table border=\"1\" class=\"dataframe\">\n",
       "  <thead>\n",
       "    <tr style=\"text-align: right;\">\n",
       "      <th></th>\n",
       "      <th>BTCUSD</th>\n",
       "      <th>DSHUSD</th>\n",
       "      <th>ETCUSD</th>\n",
       "      <th>ETHUSD</th>\n",
       "      <th>LTCUSD</th>\n",
       "      <th>RRTUSD</th>\n",
       "      <th>XMRUSD</th>\n",
       "      <th>XRPUSD</th>\n",
       "      <th>ZECUSD</th>\n",
       "    </tr>\n",
       "  </thead>\n",
       "  <tbody>\n",
       "    <tr>\n",
       "      <th>count</th>\n",
       "      <td>712.000000</td>\n",
       "      <td>712.000000</td>\n",
       "      <td>712.000000</td>\n",
       "      <td>712.000000</td>\n",
       "      <td>711.000000</td>\n",
       "      <td>711.000000</td>\n",
       "      <td>712.000000</td>\n",
       "      <td>712.000000</td>\n",
       "      <td>711.000000</td>\n",
       "    </tr>\n",
       "    <tr>\n",
       "      <th>mean</th>\n",
       "      <td>6297.287691</td>\n",
       "      <td>287.632192</td>\n",
       "      <td>14.281943</td>\n",
       "      <td>368.428862</td>\n",
       "      <td>84.798965</td>\n",
       "      <td>0.078213</td>\n",
       "      <td>125.295864</td>\n",
       "      <td>0.468881</td>\n",
       "      <td>205.455135</td>\n",
       "    </tr>\n",
       "    <tr>\n",
       "      <th>std</th>\n",
       "      <td>3046.770749</td>\n",
       "      <td>231.953919</td>\n",
       "      <td>8.135075</td>\n",
       "      <td>254.802203</td>\n",
       "      <td>58.395382</td>\n",
       "      <td>0.056773</td>\n",
       "      <td>88.610652</td>\n",
       "      <td>0.364259</td>\n",
       "      <td>132.558672</td>\n",
       "    </tr>\n",
       "    <tr>\n",
       "      <th>min</th>\n",
       "      <td>1949.900000</td>\n",
       "      <td>59.512000</td>\n",
       "      <td>3.452200</td>\n",
       "      <td>85.039000</td>\n",
       "      <td>21.845000</td>\n",
       "      <td>0.033010</td>\n",
       "      <td>29.744000</td>\n",
       "      <td>0.148210</td>\n",
       "      <td>47.051000</td>\n",
       "    </tr>\n",
       "    <tr>\n",
       "      <th>25%</th>\n",
       "      <td>3965.200000</td>\n",
       "      <td>132.195000</td>\n",
       "      <td>7.451100</td>\n",
       "      <td>178.225000</td>\n",
       "      <td>46.686500</td>\n",
       "      <td>0.040348</td>\n",
       "      <td>53.109000</td>\n",
       "      <td>0.261860</td>\n",
       "      <td>85.598500</td>\n",
       "    </tr>\n",
       "    <tr>\n",
       "      <th>50%</th>\n",
       "      <td>6284.350000</td>\n",
       "      <td>202.760000</td>\n",
       "      <td>13.954500</td>\n",
       "      <td>292.545000</td>\n",
       "      <td>61.000000</td>\n",
       "      <td>0.056213</td>\n",
       "      <td>101.530000</td>\n",
       "      <td>0.335150</td>\n",
       "      <td>191.270000</td>\n",
       "    </tr>\n",
       "    <tr>\n",
       "      <th>75%</th>\n",
       "      <td>7681.375000</td>\n",
       "      <td>348.690000</td>\n",
       "      <td>17.399750</td>\n",
       "      <td>471.400000</td>\n",
       "      <td>100.087500</td>\n",
       "      <td>0.085495</td>\n",
       "      <td>161.325000</td>\n",
       "      <td>0.525350</td>\n",
       "      <td>270.150000</td>\n",
       "    </tr>\n",
       "    <tr>\n",
       "      <th>max</th>\n",
       "      <td>19210.000000</td>\n",
       "      <td>1424.600000</td>\n",
       "      <td>42.416000</td>\n",
       "      <td>1380.000000</td>\n",
       "      <td>355.510000</td>\n",
       "      <td>0.372000</td>\n",
       "      <td>470.990000</td>\n",
       "      <td>2.760400</td>\n",
       "      <td>753.570000</td>\n",
       "    </tr>\n",
       "  </tbody>\n",
       "</table>\n",
       "</div>"
      ],
      "text/plain": [
       "             BTCUSD       DSHUSD      ETCUSD       ETHUSD      LTCUSD  \\\n",
       "count    712.000000   712.000000  712.000000   712.000000  711.000000   \n",
       "mean    6297.287691   287.632192   14.281943   368.428862   84.798965   \n",
       "std     3046.770749   231.953919    8.135075   254.802203   58.395382   \n",
       "min     1949.900000    59.512000    3.452200    85.039000   21.845000   \n",
       "25%     3965.200000   132.195000    7.451100   178.225000   46.686500   \n",
       "50%     6284.350000   202.760000   13.954500   292.545000   61.000000   \n",
       "75%     7681.375000   348.690000   17.399750   471.400000  100.087500   \n",
       "max    19210.000000  1424.600000   42.416000  1380.000000  355.510000   \n",
       "\n",
       "           RRTUSD      XMRUSD      XRPUSD      ZECUSD  \n",
       "count  711.000000  712.000000  712.000000  711.000000  \n",
       "mean     0.078213  125.295864    0.468881  205.455135  \n",
       "std      0.056773   88.610652    0.364259  132.558672  \n",
       "min      0.033010   29.744000    0.148210   47.051000  \n",
       "25%      0.040348   53.109000    0.261860   85.598500  \n",
       "50%      0.056213  101.530000    0.335150  191.270000  \n",
       "75%      0.085495  161.325000    0.525350  270.150000  \n",
       "max      0.372000  470.990000    2.760400  753.570000  "
      ]
     },
     "execution_count": 18,
     "metadata": {},
     "output_type": "execute_result"
    }
   ],
   "source": [
    "last.describe()"
   ]
  },
  {
   "cell_type": "markdown",
   "metadata": {},
   "source": [
    "Plot"
   ]
  },
  {
   "cell_type": "code",
   "execution_count": 19,
   "metadata": {
    "scrolled": true
   },
   "outputs": [
    {
     "data": {
      "text/plain": [
       "<matplotlib.legend.Legend at 0x1c17e6bef0>"
      ]
     },
     "execution_count": 19,
     "metadata": {},
     "output_type": "execute_result"
    },
    {
     "data": {
      "image/png": "[encoded data removed]",
      "text/plain": [
       "<Figure size 1440x1440 with 3 Axes>"
      ]
     },
     "metadata": {
      "needs_background": "light"
     },
     "output_type": "display_data"
    }
   ],
   "source": [
    "# Adjust plot size\n",
    "plt.figure(figsize=(20, 20))\n",
    "\n",
    "plt.subplot(3, 1, 1)\n",
    "# BTCUSD and ETHUSD\n",
    "plt.plot(last['BTCUSD'])\n",
    "plt.plot(last['ETHUSD'])\n",
    "# Title\n",
    "plt.title('BTCUSD AND ETHUSD')\n",
    "# Legend\n",
    "plt.legend(['BTCUSD', 'ETHUSD'])\n",
    "\n",
    "plt.subplot(3, 1, 2)\n",
    "# DSHUSD, ETHUSD and ZECUSD\n",
    "plt.plot(last['DSHUSD'])\n",
    "plt.plot(last['ETHUSD'])\n",
    "plt.plot(last['ZECUSD'])\n",
    "# Title\n",
    "plt.title('DSHUSD, ETHUSD and ZECUSD')\n",
    "# Legend\n",
    "plt.legend(['DSHUSD', 'ETHUSD', 'ZECUSD'])\n",
    "\n",
    "plt.subplot(3, 1, 3)\n",
    "# LTCUSD and XMRUSD\n",
    "plt.plot(last['LTCUSD'])\n",
    "plt.plot(last['XMRUSD'])\n",
    "# Title\n",
    "plt.title('LTCUSD and XMRUSD')\n",
    "# Legend\n",
    "plt.legend(['LTCUSD', 'XMRUSD'])"
   ]
  },
  {
   "cell_type": "markdown",
   "metadata": {},
   "source": [
    "## Pair Trading Strategy"
   ]
  },
  {
   "cell_type": "markdown",
   "metadata": {},
   "source": [
    "### Training Set"
   ]
  },
  {
   "cell_type": "markdown",
   "metadata": {},
   "source": [
    "Define the training set"
   ]
  },
  {
   "cell_type": "code",
   "execution_count": 20,
   "metadata": {},
   "outputs": [],
   "source": [
    "cutoff1 = '2018-05-18'"
   ]
  },
  {
   "cell_type": "code",
   "execution_count": 21,
   "metadata": {},
   "outputs": [],
   "source": [
    "cutoff2 = '2018-05-21'"
   ]
  },
  {
   "cell_type": "code",
   "execution_count": 22,
   "metadata": {},
   "outputs": [],
   "source": [
    "training_set = last.loc[:cutoff1]"
   ]
  },
  {
   "cell_type": "markdown",
   "metadata": {},
   "source": [
    "Check"
   ]
  },
  {
   "cell_type": "code",
   "execution_count": 23,
   "metadata": {},
   "outputs": [
    {
     "data": {
      "text/html": [
       "<div>\n",
       "<style scoped>\n",
       "    .dataframe tbody tr th:only-of-type {\n",
       "        vertical-align: middle;\n",
       "    }\n",
       "\n",
       "    .dataframe tbody tr th {\n",
       "        vertical-align: top;\n",
       "    }\n",
       "\n",
       "    .dataframe thead th {\n",
       "        text-align: right;\n",
       "    }\n",
       "</style>\n",
       "<table border=\"1\" class=\"dataframe\">\n",
       "  <thead>\n",
       "    <tr style=\"text-align: right;\">\n",
       "      <th></th>\n",
       "      <th>BTCUSD</th>\n",
       "      <th>DSHUSD</th>\n",
       "      <th>ETCUSD</th>\n",
       "      <th>ETHUSD</th>\n",
       "      <th>LTCUSD</th>\n",
       "      <th>RRTUSD</th>\n",
       "      <th>XMRUSD</th>\n",
       "      <th>XRPUSD</th>\n",
       "      <th>ZECUSD</th>\n",
       "    </tr>\n",
       "    <tr>\n",
       "      <th>Date</th>\n",
       "      <th></th>\n",
       "      <th></th>\n",
       "      <th></th>\n",
       "      <th></th>\n",
       "      <th></th>\n",
       "      <th></th>\n",
       "      <th></th>\n",
       "      <th></th>\n",
       "      <th></th>\n",
       "    </tr>\n",
       "  </thead>\n",
       "  <tbody>\n",
       "    <tr>\n",
       "      <th>2017-05-19</th>\n",
       "      <td>1970.0</td>\n",
       "      <td>98.028</td>\n",
       "      <td>7.4993</td>\n",
       "      <td>125.79</td>\n",
       "      <td>26.824</td>\n",
       "      <td>0.090696</td>\n",
       "      <td>31.498</td>\n",
       "      <td>0.31800</td>\n",
       "      <td>105.84</td>\n",
       "    </tr>\n",
       "    <tr>\n",
       "      <th>2017-05-20</th>\n",
       "      <td>2068.0</td>\n",
       "      <td>102.450</td>\n",
       "      <td>7.1010</td>\n",
       "      <td>126.30</td>\n",
       "      <td>27.467</td>\n",
       "      <td>0.090696</td>\n",
       "      <td>35.342</td>\n",
       "      <td>0.34689</td>\n",
       "      <td>106.75</td>\n",
       "    </tr>\n",
       "    <tr>\n",
       "      <th>2017-05-21</th>\n",
       "      <td>2037.9</td>\n",
       "      <td>102.010</td>\n",
       "      <td>7.6000</td>\n",
       "      <td>144.40</td>\n",
       "      <td>26.050</td>\n",
       "      <td>0.088110</td>\n",
       "      <td>34.140</td>\n",
       "      <td>0.33345</td>\n",
       "      <td>117.71</td>\n",
       "    </tr>\n",
       "    <tr>\n",
       "      <th>2017-05-22</th>\n",
       "      <td>1981.9</td>\n",
       "      <td>115.020</td>\n",
       "      <td>7.9482</td>\n",
       "      <td>137.00</td>\n",
       "      <td>23.291</td>\n",
       "      <td>0.089990</td>\n",
       "      <td>34.889</td>\n",
       "      <td>0.28001</td>\n",
       "      <td>194.10</td>\n",
       "    </tr>\n",
       "    <tr>\n",
       "      <th>2017-05-23</th>\n",
       "      <td>2228.0</td>\n",
       "      <td>132.250</td>\n",
       "      <td>9.9974</td>\n",
       "      <td>167.02</td>\n",
       "      <td>29.750</td>\n",
       "      <td>0.092496</td>\n",
       "      <td>53.326</td>\n",
       "      <td>0.32090</td>\n",
       "      <td>250.00</td>\n",
       "    </tr>\n",
       "  </tbody>\n",
       "</table>\n",
       "</div>"
      ],
      "text/plain": [
       "            BTCUSD   DSHUSD  ETCUSD  ETHUSD  LTCUSD    RRTUSD  XMRUSD  \\\n",
       "Date                                                                    \n",
       "2017-05-19  1970.0   98.028  7.4993  125.79  26.824  0.090696  31.498   \n",
       "2017-05-20  2068.0  102.450  7.1010  126.30  27.467  0.090696  35.342   \n",
       "2017-05-21  2037.9  102.010  7.6000  144.40  26.050  0.088110  34.140   \n",
       "2017-05-22  1981.9  115.020  7.9482  137.00  23.291  0.089990  34.889   \n",
       "2017-05-23  2228.0  132.250  9.9974  167.02  29.750  0.092496  53.326   \n",
       "\n",
       "             XRPUSD  ZECUSD  \n",
       "Date                         \n",
       "2017-05-19  0.31800  105.84  \n",
       "2017-05-20  0.34689  106.75  \n",
       "2017-05-21  0.33345  117.71  \n",
       "2017-05-22  0.28001  194.10  \n",
       "2017-05-23  0.32090  250.00  "
      ]
     },
     "execution_count": 23,
     "metadata": {},
     "output_type": "execute_result"
    }
   ],
   "source": [
    "training_set.head()"
   ]
  },
  {
   "cell_type": "code",
   "execution_count": 24,
   "metadata": {},
   "outputs": [
    {
     "data": {
      "text/html": [
       "<div>\n",
       "<style scoped>\n",
       "    .dataframe tbody tr th:only-of-type {\n",
       "        vertical-align: middle;\n",
       "    }\n",
       "\n",
       "    .dataframe tbody tr th {\n",
       "        vertical-align: top;\n",
       "    }\n",
       "\n",
       "    .dataframe thead th {\n",
       "        text-align: right;\n",
       "    }\n",
       "</style>\n",
       "<table border=\"1\" class=\"dataframe\">\n",
       "  <thead>\n",
       "    <tr style=\"text-align: right;\">\n",
       "      <th></th>\n",
       "      <th>BTCUSD</th>\n",
       "      <th>DSHUSD</th>\n",
       "      <th>ETCUSD</th>\n",
       "      <th>ETHUSD</th>\n",
       "      <th>LTCUSD</th>\n",
       "      <th>RRTUSD</th>\n",
       "      <th>XMRUSD</th>\n",
       "      <th>XRPUSD</th>\n",
       "      <th>ZECUSD</th>\n",
       "    </tr>\n",
       "    <tr>\n",
       "      <th>Date</th>\n",
       "      <th></th>\n",
       "      <th></th>\n",
       "      <th></th>\n",
       "      <th></th>\n",
       "      <th></th>\n",
       "      <th></th>\n",
       "      <th></th>\n",
       "      <th></th>\n",
       "      <th></th>\n",
       "    </tr>\n",
       "  </thead>\n",
       "  <tbody>\n",
       "    <tr>\n",
       "      <th>2018-05-14</th>\n",
       "      <td>8679.5</td>\n",
       "      <td>432.95</td>\n",
       "      <td>18.492</td>\n",
       "      <td>722.31</td>\n",
       "      <td>146.83</td>\n",
       "      <td>0.054001</td>\n",
       "      <td>209.66</td>\n",
       "      <td>0.72685</td>\n",
       "      <td>307.18</td>\n",
       "    </tr>\n",
       "    <tr>\n",
       "      <th>2018-05-15</th>\n",
       "      <td>8430.9</td>\n",
       "      <td>426.64</td>\n",
       "      <td>18.137</td>\n",
       "      <td>697.70</td>\n",
       "      <td>138.44</td>\n",
       "      <td>0.053850</td>\n",
       "      <td>201.29</td>\n",
       "      <td>0.68357</td>\n",
       "      <td>318.50</td>\n",
       "    </tr>\n",
       "    <tr>\n",
       "      <th>2018-05-16</th>\n",
       "      <td>8290.3</td>\n",
       "      <td>411.77</td>\n",
       "      <td>17.414</td>\n",
       "      <td>700.17</td>\n",
       "      <td>138.14</td>\n",
       "      <td>0.048231</td>\n",
       "      <td>196.72</td>\n",
       "      <td>0.69319</td>\n",
       "      <td>361.33</td>\n",
       "    </tr>\n",
       "    <tr>\n",
       "      <th>2018-05-17</th>\n",
       "      <td>8077.8</td>\n",
       "      <td>386.06</td>\n",
       "      <td>16.926</td>\n",
       "      <td>672.71</td>\n",
       "      <td>132.80</td>\n",
       "      <td>0.049750</td>\n",
       "      <td>192.51</td>\n",
       "      <td>0.66151</td>\n",
       "      <td>318.00</td>\n",
       "    </tr>\n",
       "    <tr>\n",
       "      <th>2018-05-18</th>\n",
       "      <td>8202.1</td>\n",
       "      <td>394.46</td>\n",
       "      <td>17.872</td>\n",
       "      <td>689.66</td>\n",
       "      <td>136.10</td>\n",
       "      <td>0.051777</td>\n",
       "      <td>199.75</td>\n",
       "      <td>0.67392</td>\n",
       "      <td>351.31</td>\n",
       "    </tr>\n",
       "  </tbody>\n",
       "</table>\n",
       "</div>"
      ],
      "text/plain": [
       "            BTCUSD  DSHUSD  ETCUSD  ETHUSD  LTCUSD    RRTUSD  XMRUSD   XRPUSD  \\\n",
       "Date                                                                            \n",
       "2018-05-14  8679.5  432.95  18.492  722.31  146.83  0.054001  209.66  0.72685   \n",
       "2018-05-15  8430.9  426.64  18.137  697.70  138.44  0.053850  201.29  0.68357   \n",
       "2018-05-16  8290.3  411.77  17.414  700.17  138.14  0.048231  196.72  0.69319   \n",
       "2018-05-17  8077.8  386.06  16.926  672.71  132.80  0.049750  192.51  0.66151   \n",
       "2018-05-18  8202.1  394.46  17.872  689.66  136.10  0.051777  199.75  0.67392   \n",
       "\n",
       "            ZECUSD  \n",
       "Date                \n",
       "2018-05-14  307.18  \n",
       "2018-05-15  318.50  \n",
       "2018-05-16  361.33  \n",
       "2018-05-17  318.00  \n",
       "2018-05-18  351.31  "
      ]
     },
     "execution_count": 24,
     "metadata": {},
     "output_type": "execute_result"
    }
   ],
   "source": [
    "training_set.tail()"
   ]
  },
  {
   "cell_type": "code",
   "execution_count": 25,
   "metadata": {},
   "outputs": [
    {
     "data": {
      "text/html": [
       "<div>\n",
       "<style scoped>\n",
       "    .dataframe tbody tr th:only-of-type {\n",
       "        vertical-align: middle;\n",
       "    }\n",
       "\n",
       "    .dataframe tbody tr th {\n",
       "        vertical-align: top;\n",
       "    }\n",
       "\n",
       "    .dataframe thead th {\n",
       "        text-align: right;\n",
       "    }\n",
       "</style>\n",
       "<table border=\"1\" class=\"dataframe\">\n",
       "  <thead>\n",
       "    <tr style=\"text-align: right;\">\n",
       "      <th></th>\n",
       "      <th>BTCUSD</th>\n",
       "      <th>DSHUSD</th>\n",
       "      <th>ETCUSD</th>\n",
       "      <th>ETHUSD</th>\n",
       "      <th>LTCUSD</th>\n",
       "      <th>RRTUSD</th>\n",
       "      <th>XMRUSD</th>\n",
       "      <th>XRPUSD</th>\n",
       "      <th>ZECUSD</th>\n",
       "    </tr>\n",
       "  </thead>\n",
       "  <tbody>\n",
       "    <tr>\n",
       "      <th>count</th>\n",
       "      <td>353.000000</td>\n",
       "      <td>353.000000</td>\n",
       "      <td>353.000000</td>\n",
       "      <td>353.000000</td>\n",
       "      <td>353.000000</td>\n",
       "      <td>353.000000</td>\n",
       "      <td>353.000000</td>\n",
       "      <td>353.000000</td>\n",
       "      <td>353.000000</td>\n",
       "    </tr>\n",
       "    <tr>\n",
       "      <th>mean</th>\n",
       "      <td>6987.291356</td>\n",
       "      <td>423.336629</td>\n",
       "      <td>19.511745</td>\n",
       "      <td>490.360042</td>\n",
       "      <td>106.833167</td>\n",
       "      <td>0.112877</td>\n",
       "      <td>162.266008</td>\n",
       "      <td>0.540041</td>\n",
       "      <td>299.923116</td>\n",
       "    </tr>\n",
       "    <tr>\n",
       "      <th>std</th>\n",
       "      <td>3952.418615</td>\n",
       "      <td>258.007650</td>\n",
       "      <td>7.565879</td>\n",
       "      <td>280.976151</td>\n",
       "      <td>72.667836</td>\n",
       "      <td>0.062670</td>\n",
       "      <td>108.389376</td>\n",
       "      <td>0.497804</td>\n",
       "      <td>116.848225</td>\n",
       "    </tr>\n",
       "    <tr>\n",
       "      <th>min</th>\n",
       "      <td>1949.900000</td>\n",
       "      <td>97.592000</td>\n",
       "      <td>7.101000</td>\n",
       "      <td>125.790000</td>\n",
       "      <td>21.845000</td>\n",
       "      <td>0.037999</td>\n",
       "      <td>29.744000</td>\n",
       "      <td>0.148210</td>\n",
       "      <td>105.840000</td>\n",
       "    </tr>\n",
       "    <tr>\n",
       "      <th>25%</th>\n",
       "      <td>3681.000000</td>\n",
       "      <td>210.000000</td>\n",
       "      <td>14.264000</td>\n",
       "      <td>292.680000</td>\n",
       "      <td>47.440000</td>\n",
       "      <td>0.065403</td>\n",
       "      <td>53.326000</td>\n",
       "      <td>0.206700</td>\n",
       "      <td>222.420000</td>\n",
       "    </tr>\n",
       "    <tr>\n",
       "      <th>50%</th>\n",
       "      <td>6780.000000</td>\n",
       "      <td>343.150000</td>\n",
       "      <td>17.110000</td>\n",
       "      <td>354.400000</td>\n",
       "      <td>71.720000</td>\n",
       "      <td>0.082120</td>\n",
       "      <td>129.700000</td>\n",
       "      <td>0.260900</td>\n",
       "      <td>264.330000</td>\n",
       "    </tr>\n",
       "    <tr>\n",
       "      <th>75%</th>\n",
       "      <td>9303.000000</td>\n",
       "      <td>557.360000</td>\n",
       "      <td>22.605000</td>\n",
       "      <td>690.690000</td>\n",
       "      <td>159.000000</td>\n",
       "      <td>0.149240</td>\n",
       "      <td>247.000000</td>\n",
       "      <td>0.780990</td>\n",
       "      <td>344.420000</td>\n",
       "    </tr>\n",
       "    <tr>\n",
       "      <th>max</th>\n",
       "      <td>19210.000000</td>\n",
       "      <td>1424.600000</td>\n",
       "      <td>42.416000</td>\n",
       "      <td>1380.000000</td>\n",
       "      <td>355.510000</td>\n",
       "      <td>0.372000</td>\n",
       "      <td>470.990000</td>\n",
       "      <td>2.760400</td>\n",
       "      <td>753.570000</td>\n",
       "    </tr>\n",
       "  </tbody>\n",
       "</table>\n",
       "</div>"
      ],
      "text/plain": [
       "             BTCUSD       DSHUSD      ETCUSD       ETHUSD      LTCUSD  \\\n",
       "count    353.000000   353.000000  353.000000   353.000000  353.000000   \n",
       "mean    6987.291356   423.336629   19.511745   490.360042  106.833167   \n",
       "std     3952.418615   258.007650    7.565879   280.976151   72.667836   \n",
       "min     1949.900000    97.592000    7.101000   125.790000   21.845000   \n",
       "25%     3681.000000   210.000000   14.264000   292.680000   47.440000   \n",
       "50%     6780.000000   343.150000   17.110000   354.400000   71.720000   \n",
       "75%     9303.000000   557.360000   22.605000   690.690000  159.000000   \n",
       "max    19210.000000  1424.600000   42.416000  1380.000000  355.510000   \n",
       "\n",
       "           RRTUSD      XMRUSD      XRPUSD      ZECUSD  \n",
       "count  353.000000  353.000000  353.000000  353.000000  \n",
       "mean     0.112877  162.266008    0.540041  299.923116  \n",
       "std      0.062670  108.389376    0.497804  116.848225  \n",
       "min      0.037999   29.744000    0.148210  105.840000  \n",
       "25%      0.065403   53.326000    0.206700  222.420000  \n",
       "50%      0.082120  129.700000    0.260900  264.330000  \n",
       "75%      0.149240  247.000000    0.780990  344.420000  \n",
       "max      0.372000  470.990000    2.760400  753.570000  "
      ]
     },
     "execution_count": 25,
     "metadata": {},
     "output_type": "execute_result"
    }
   ],
   "source": [
    "training_set.describe()"
   ]
  },
  {
   "cell_type": "markdown",
   "metadata": {},
   "source": [
    "### The Hedge Ratio"
   ]
  },
  {
   "cell_type": "markdown",
   "metadata": {},
   "source": [
    "Model $$ Crypto_1 = HedgeRatio * Crypto_2 $$"
   ]
  },
  {
   "cell_type": "code",
   "execution_count": 26,
   "metadata": {},
   "outputs": [],
   "source": [
    "crypto1 = 'BTCUSD'"
   ]
  },
  {
   "cell_type": "code",
   "execution_count": 27,
   "metadata": {},
   "outputs": [],
   "source": [
    "crypto2 = 'ETHUSD'"
   ]
  },
  {
   "cell_type": "code",
   "execution_count": 28,
   "metadata": {},
   "outputs": [],
   "source": [
    "model = sm.OLS(training_set[crypto1], training_set[crypto2])"
   ]
  },
  {
   "cell_type": "code",
   "execution_count": 29,
   "metadata": {},
   "outputs": [],
   "source": [
    "result = model.fit()"
   ]
  },
  {
   "cell_type": "code",
   "execution_count": 30,
   "metadata": {},
   "outputs": [
    {
     "data": {
      "text/html": [
       "<table class=\"simpletable\">\n",
       "<caption>OLS Regression Results</caption>\n",
       "<tr>\n",
       "  <th>Dep. Variable:</th>         <td>BTCUSD</td>      <th>  R-squared:         </th> <td>   0.903</td> \n",
       "</tr>\n",
       "<tr>\n",
       "  <th>Model:</th>                   <td>OLS</td>       <th>  Adj. R-squared:    </th> <td>   0.903</td> \n",
       "</tr>\n",
       "<tr>\n",
       "  <th>Method:</th>             <td>Least Squares</td>  <th>  F-statistic:       </th> <td>   3286.</td> \n",
       "</tr>\n",
       "<tr>\n",
       "  <th>Date:</th>             <td>Fri, 24 May 2019</td> <th>  Prob (F-statistic):</th> <td>1.37e-180</td>\n",
       "</tr>\n",
       "<tr>\n",
       "  <th>Time:</th>                 <td>22:14:19</td>     <th>  Log-Likelihood:    </th> <td> -3262.3</td> \n",
       "</tr>\n",
       "<tr>\n",
       "  <th>No. Observations:</th>      <td>   353</td>      <th>  AIC:               </th> <td>   6527.</td> \n",
       "</tr>\n",
       "<tr>\n",
       "  <th>Df Residuals:</th>          <td>   352</td>      <th>  BIC:               </th> <td>   6530.</td> \n",
       "</tr>\n",
       "<tr>\n",
       "  <th>Df Model:</th>              <td>     1</td>      <th>                     </th>     <td> </td>    \n",
       "</tr>\n",
       "<tr>\n",
       "  <th>Covariance Type:</th>      <td>nonrobust</td>    <th>                     </th>     <td> </td>    \n",
       "</tr>\n",
       "</table>\n",
       "<table class=\"simpletable\">\n",
       "<tr>\n",
       "     <td></td>       <th>coef</th>     <th>std err</th>      <th>t</th>      <th>P>|t|</th>  <th>[0.025</th>    <th>0.975]</th>  \n",
       "</tr>\n",
       "<tr>\n",
       "  <th>ETHUSD</th> <td>   13.4998</td> <td>    0.236</td> <td>   57.321</td> <td> 0.000</td> <td>   13.037</td> <td>   13.963</td>\n",
       "</tr>\n",
       "</table>\n",
       "<table class=\"simpletable\">\n",
       "<tr>\n",
       "  <th>Omnibus:</th>       <td>104.115</td> <th>  Durbin-Watson:     </th> <td>   0.040</td>\n",
       "</tr>\n",
       "<tr>\n",
       "  <th>Prob(Omnibus):</th> <td> 0.000</td>  <th>  Jarque-Bera (JB):  </th> <td> 295.530</td>\n",
       "</tr>\n",
       "<tr>\n",
       "  <th>Skew:</th>          <td> 1.366</td>  <th>  Prob(JB):          </th> <td>6.71e-65</td>\n",
       "</tr>\n",
       "<tr>\n",
       "  <th>Kurtosis:</th>      <td> 6.554</td>  <th>  Cond. No.          </th> <td>    1.00</td>\n",
       "</tr>\n",
       "</table><br/><br/>Warnings:<br/>[1] Standard Errors assume that the covariance matrix of the errors is correctly specified."
      ],
      "text/plain": [
       "<class 'statsmodels.iolib.summary.Summary'>\n",
       "\"\"\"\n",
       "                            OLS Regression Results                            \n",
       "==============================================================================\n",
       "Dep. Variable:                 BTCUSD   R-squared:                       0.903\n",
       "Model:                            OLS   Adj. R-squared:                  0.903\n",
       "Method:                 Least Squares   F-statistic:                     3286.\n",
       "Date:                Fri, 24 May 2019   Prob (F-statistic):          1.37e-180\n",
       "Time:                        22:14:19   Log-Likelihood:                -3262.3\n",
       "No. Observations:                 353   AIC:                             6527.\n",
       "Df Residuals:                     352   BIC:                             6530.\n",
       "Df Model:                           1                                         \n",
       "Covariance Type:            nonrobust                                         \n",
       "==============================================================================\n",
       "                 coef    std err          t      P>|t|      [0.025      0.975]\n",
       "------------------------------------------------------------------------------\n",
       "ETHUSD        13.4998      0.236     57.321      0.000      13.037      13.963\n",
       "==============================================================================\n",
       "Omnibus:                      104.115   Durbin-Watson:                   0.040\n",
       "Prob(Omnibus):                  0.000   Jarque-Bera (JB):              295.530\n",
       "Skew:                           1.366   Prob(JB):                     6.71e-65\n",
       "Kurtosis:                       6.554   Cond. No.                         1.00\n",
       "==============================================================================\n",
       "\n",
       "Warnings:\n",
       "[1] Standard Errors assume that the covariance matrix of the errors is correctly specified.\n",
       "\"\"\""
      ]
     },
     "execution_count": 30,
     "metadata": {},
     "output_type": "execute_result"
    }
   ],
   "source": [
    "result.summary()"
   ]
  },
  {
   "cell_type": "markdown",
   "metadata": {},
   "source": [
    "Set the hedge ratio"
   ]
  },
  {
   "cell_type": "code",
   "execution_count": 31,
   "metadata": {},
   "outputs": [],
   "source": [
    "hedge_ratio = result.params[crypto2]"
   ]
  },
  {
   "cell_type": "markdown",
   "metadata": {},
   "source": [
    "Plot"
   ]
  },
  {
   "cell_type": "code",
   "execution_count": 32,
   "metadata": {},
   "outputs": [
    {
     "data": {
      "text/plain": [
       "<matplotlib.legend.Legend at 0x1041a7dd8>"
      ]
     },
     "execution_count": 32,
     "metadata": {},
     "output_type": "execute_result"
    },
    {
     "data": {
      "image/png": "[encoded data removed]",
      "text/plain": [
       "<Figure size 1440x360 with 1 Axes>"
      ]
     },
     "metadata": {
      "needs_background": "light"
     },
     "output_type": "display_data"
    }
   ],
   "source": [
    "# Adjust plot size\n",
    "plt.figure(figsize=[20, 5])\n",
    "\n",
    "plt.plot(last[crypto1])\n",
    "plt.plot(hedge_ratio * last[crypto2])\n",
    "\n",
    "# Title\n",
    "plt.title(crypto1 + ' and ' + crypto2)\n",
    "\n",
    "# Legend \n",
    "plt.legend([crypto1, 'hedge_ratio * ' + crypto2])"
   ]
  },
  {
   "cell_type": "markdown",
   "metadata": {},
   "source": [
    "### Calculate The Spread"
   ]
  },
  {
   "cell_type": "code",
   "execution_count": 33,
   "metadata": {},
   "outputs": [],
   "source": [
    "spread = last[crypto1] - hedge_ratio * last[crypto2]"
   ]
  },
  {
   "cell_type": "code",
   "execution_count": 34,
   "metadata": {},
   "outputs": [
    {
     "data": {
      "text/plain": [
       "<matplotlib.axes._subplots.AxesSubplot at 0x104249748>"
      ]
     },
     "execution_count": 34,
     "metadata": {},
     "output_type": "execute_result"
    },
    {
     "data": {
      "image/png": "[encoded data removed]",
      "text/plain": [
       "<Figure size 432x288 with 1 Axes>"
      ]
     },
     "metadata": {
      "needs_background": "light"
     },
     "output_type": "display_data"
    }
   ],
   "source": [
    "spread.plot()"
   ]
  },
  {
   "cell_type": "markdown",
   "metadata": {},
   "source": [
    "Mean of the spread on the training set"
   ]
  },
  {
   "cell_type": "code",
   "execution_count": 35,
   "metadata": {},
   "outputs": [],
   "source": [
    "spread_mean = spread[:cutoff1].mean()"
   ]
  },
  {
   "cell_type": "code",
   "execution_count": 36,
   "metadata": {},
   "outputs": [
    {
     "data": {
      "text/plain": [
       "367.54340990074894"
      ]
     },
     "execution_count": 36,
     "metadata": {},
     "output_type": "execute_result"
    }
   ],
   "source": [
    "spread_mean"
   ]
  },
  {
   "cell_type": "markdown",
   "metadata": {},
   "source": [
    "Standard deviation of the spread on the training set"
   ]
  },
  {
   "cell_type": "code",
   "execution_count": 37,
   "metadata": {},
   "outputs": [],
   "source": [
    "spread_std = spread[:cutoff1].std()"
   ]
  },
  {
   "cell_type": "code",
   "execution_count": 38,
   "metadata": {},
   "outputs": [
    {
     "data": {
      "text/plain": [
       "2472.613284011459"
      ]
     },
     "execution_count": 38,
     "metadata": {},
     "output_type": "execute_result"
    }
   ],
   "source": [
    "spread_std"
   ]
  },
  {
   "cell_type": "markdown",
   "metadata": {},
   "source": [
    "z-score"
   ]
  },
  {
   "cell_type": "code",
   "execution_count": 39,
   "metadata": {},
   "outputs": [],
   "source": [
    "z_score = (spread - spread_mean) / spread_std"
   ]
  },
  {
   "cell_type": "code",
   "execution_count": 40,
   "metadata": {},
   "outputs": [
    {
     "data": {
      "text/plain": [
       "<matplotlib.axes._subplots.AxesSubplot at 0x1c17ee17b8>"
      ]
     },
     "execution_count": 40,
     "metadata": {},
     "output_type": "execute_result"
    },
    {
     "data": {
      "image/png": "[encoded data removed]",
      "text/plain": [
       "<Figure size 432x288 with 1 Axes>"
      ]
     },
     "metadata": {
      "needs_background": "light"
     },
     "output_type": "display_data"
    }
   ],
   "source": [
    "z_score.plot()"
   ]
  },
  {
   "cell_type": "markdown",
   "metadata": {},
   "source": [
    "### Trading Strategy\n",
    "Take the following positions:\n",
    "- Long if the spread is below -1 STD\n",
    "- Short if the spread is above +1 STD\n",
    "- Exit if the spread is between -0.5 and +0.5 STD"
   ]
  },
  {
   "cell_type": "code",
   "execution_count": 41,
   "metadata": {},
   "outputs": [],
   "source": [
    "entry_threshold = 1"
   ]
  },
  {
   "cell_type": "code",
   "execution_count": 42,
   "metadata": {},
   "outputs": [],
   "source": [
    "exit_threshold = 0.5"
   ]
  },
  {
   "cell_type": "markdown",
   "metadata": {},
   "source": [
    "Long positions"
   ]
  },
  {
   "cell_type": "code",
   "execution_count": 43,
   "metadata": {},
   "outputs": [],
   "source": [
    "longs = z_score <= -entry_threshold"
   ]
  },
  {
   "cell_type": "markdown",
   "metadata": {},
   "source": [
    "Short positions"
   ]
  },
  {
   "cell_type": "code",
   "execution_count": 44,
   "metadata": {},
   "outputs": [],
   "source": [
    "shorts = z_score >= entry_threshold"
   ]
  },
  {
   "cell_type": "markdown",
   "metadata": {},
   "source": [
    "Exit positions"
   ]
  },
  {
   "cell_type": "code",
   "execution_count": 45,
   "metadata": {},
   "outputs": [],
   "source": [
    "exits = np.abs(z_score) <= exit_threshold"
   ]
  },
  {
   "cell_type": "markdown",
   "metadata": {},
   "source": [
    "Initialize positions"
   ]
  },
  {
   "cell_type": "code",
   "execution_count": 46,
   "metadata": {},
   "outputs": [],
   "source": [
    "# pd.Series(range(len(z_score)))"
   ]
  },
  {
   "cell_type": "code",
   "execution_count": 47,
   "metadata": {},
   "outputs": [],
   "source": [
    "positions = pd.DataFrame({crypto1: np.nan * pd.Series(range(len(z_score))),\n",
    "                          crypto2: np.nan * pd.Series(range(len(z_score)))},\n",
    "                          index=z_score.index)"
   ]
  },
  {
   "cell_type": "markdown",
   "metadata": {},
   "source": [
    "Check"
   ]
  },
  {
   "cell_type": "code",
   "execution_count": 48,
   "metadata": {},
   "outputs": [
    {
     "data": {
      "text/html": [
       "<div>\n",
       "<style scoped>\n",
       "    .dataframe tbody tr th:only-of-type {\n",
       "        vertical-align: middle;\n",
       "    }\n",
       "\n",
       "    .dataframe tbody tr th {\n",
       "        vertical-align: top;\n",
       "    }\n",
       "\n",
       "    .dataframe thead th {\n",
       "        text-align: right;\n",
       "    }\n",
       "</style>\n",
       "<table border=\"1\" class=\"dataframe\">\n",
       "  <thead>\n",
       "    <tr style=\"text-align: right;\">\n",
       "      <th></th>\n",
       "      <th>BTCUSD</th>\n",
       "      <th>ETHUSD</th>\n",
       "    </tr>\n",
       "    <tr>\n",
       "      <th>Date</th>\n",
       "      <th></th>\n",
       "      <th></th>\n",
       "    </tr>\n",
       "  </thead>\n",
       "  <tbody>\n",
       "    <tr>\n",
       "      <th>2017-05-19</th>\n",
       "      <td>NaN</td>\n",
       "      <td>NaN</td>\n",
       "    </tr>\n",
       "    <tr>\n",
       "      <th>2017-05-20</th>\n",
       "      <td>NaN</td>\n",
       "      <td>NaN</td>\n",
       "    </tr>\n",
       "    <tr>\n",
       "      <th>2017-05-21</th>\n",
       "      <td>NaN</td>\n",
       "      <td>NaN</td>\n",
       "    </tr>\n",
       "    <tr>\n",
       "      <th>2017-05-22</th>\n",
       "      <td>NaN</td>\n",
       "      <td>NaN</td>\n",
       "    </tr>\n",
       "    <tr>\n",
       "      <th>2017-05-23</th>\n",
       "      <td>NaN</td>\n",
       "      <td>NaN</td>\n",
       "    </tr>\n",
       "  </tbody>\n",
       "</table>\n",
       "</div>"
      ],
      "text/plain": [
       "            BTCUSD  ETHUSD\n",
       "Date                      \n",
       "2017-05-19     NaN     NaN\n",
       "2017-05-20     NaN     NaN\n",
       "2017-05-21     NaN     NaN\n",
       "2017-05-22     NaN     NaN\n",
       "2017-05-23     NaN     NaN"
      ]
     },
     "execution_count": 48,
     "metadata": {},
     "output_type": "execute_result"
    }
   ],
   "source": [
    "positions.head()"
   ]
  },
  {
   "cell_type": "code",
   "execution_count": 49,
   "metadata": {},
   "outputs": [
    {
     "data": {
      "text/html": [
       "<div>\n",
       "<style scoped>\n",
       "    .dataframe tbody tr th:only-of-type {\n",
       "        vertical-align: middle;\n",
       "    }\n",
       "\n",
       "    .dataframe tbody tr th {\n",
       "        vertical-align: top;\n",
       "    }\n",
       "\n",
       "    .dataframe thead th {\n",
       "        text-align: right;\n",
       "    }\n",
       "</style>\n",
       "<table border=\"1\" class=\"dataframe\">\n",
       "  <thead>\n",
       "    <tr style=\"text-align: right;\">\n",
       "      <th></th>\n",
       "      <th>BTCUSD</th>\n",
       "      <th>ETHUSD</th>\n",
       "    </tr>\n",
       "    <tr>\n",
       "      <th>Date</th>\n",
       "      <th></th>\n",
       "      <th></th>\n",
       "    </tr>\n",
       "  </thead>\n",
       "  <tbody>\n",
       "    <tr>\n",
       "      <th>2019-05-19</th>\n",
       "      <td>NaN</td>\n",
       "      <td>NaN</td>\n",
       "    </tr>\n",
       "    <tr>\n",
       "      <th>2019-05-20</th>\n",
       "      <td>NaN</td>\n",
       "      <td>NaN</td>\n",
       "    </tr>\n",
       "    <tr>\n",
       "      <th>2019-05-21</th>\n",
       "      <td>NaN</td>\n",
       "      <td>NaN</td>\n",
       "    </tr>\n",
       "    <tr>\n",
       "      <th>2019-05-22</th>\n",
       "      <td>NaN</td>\n",
       "      <td>NaN</td>\n",
       "    </tr>\n",
       "    <tr>\n",
       "      <th>2019-05-23</th>\n",
       "      <td>NaN</td>\n",
       "      <td>NaN</td>\n",
       "    </tr>\n",
       "  </tbody>\n",
       "</table>\n",
       "</div>"
      ],
      "text/plain": [
       "            BTCUSD  ETHUSD\n",
       "Date                      \n",
       "2019-05-19     NaN     NaN\n",
       "2019-05-20     NaN     NaN\n",
       "2019-05-21     NaN     NaN\n",
       "2019-05-22     NaN     NaN\n",
       "2019-05-23     NaN     NaN"
      ]
     },
     "execution_count": 49,
     "metadata": {},
     "output_type": "execute_result"
    }
   ],
   "source": [
    "positions.tail()"
   ]
  },
  {
   "cell_type": "markdown",
   "metadata": {},
   "source": [
    "Fill the positions"
   ]
  },
  {
   "cell_type": "code",
   "execution_count": 50,
   "metadata": {},
   "outputs": [],
   "source": [
    "[positions[crypto1][longs], positions[crypto2][longs]] = [1, -1]"
   ]
  },
  {
   "cell_type": "code",
   "execution_count": 51,
   "metadata": {},
   "outputs": [],
   "source": [
    "[positions[crypto1][shorts], positions[crypto2][shorts]] = [-1, 1]"
   ]
  },
  {
   "cell_type": "code",
   "execution_count": 52,
   "metadata": {},
   "outputs": [],
   "source": [
    "[positions[crypto1][exits], positions[crypto2][exits]] = [0, 0]"
   ]
  },
  {
   "cell_type": "markdown",
   "metadata": {},
   "source": [
    "Check"
   ]
  },
  {
   "cell_type": "code",
   "execution_count": 53,
   "metadata": {},
   "outputs": [
    {
     "data": {
      "text/html": [
       "<div>\n",
       "<style scoped>\n",
       "    .dataframe tbody tr th:only-of-type {\n",
       "        vertical-align: middle;\n",
       "    }\n",
       "\n",
       "    .dataframe tbody tr th {\n",
       "        vertical-align: top;\n",
       "    }\n",
       "\n",
       "    .dataframe thead th {\n",
       "        text-align: right;\n",
       "    }\n",
       "</style>\n",
       "<table border=\"1\" class=\"dataframe\">\n",
       "  <thead>\n",
       "    <tr style=\"text-align: right;\">\n",
       "      <th></th>\n",
       "      <th>BTCUSD</th>\n",
       "      <th>ETHUSD</th>\n",
       "    </tr>\n",
       "    <tr>\n",
       "      <th>Date</th>\n",
       "      <th></th>\n",
       "      <th></th>\n",
       "    </tr>\n",
       "  </thead>\n",
       "  <tbody>\n",
       "    <tr>\n",
       "      <th>2017-05-19</th>\n",
       "      <td>0.0</td>\n",
       "      <td>0.0</td>\n",
       "    </tr>\n",
       "    <tr>\n",
       "      <th>2017-05-20</th>\n",
       "      <td>0.0</td>\n",
       "      <td>0.0</td>\n",
       "    </tr>\n",
       "    <tr>\n",
       "      <th>2017-05-21</th>\n",
       "      <td>0.0</td>\n",
       "      <td>0.0</td>\n",
       "    </tr>\n",
       "    <tr>\n",
       "      <th>2017-05-22</th>\n",
       "      <td>0.0</td>\n",
       "      <td>0.0</td>\n",
       "    </tr>\n",
       "    <tr>\n",
       "      <th>2017-05-23</th>\n",
       "      <td>0.0</td>\n",
       "      <td>0.0</td>\n",
       "    </tr>\n",
       "  </tbody>\n",
       "</table>\n",
       "</div>"
      ],
      "text/plain": [
       "            BTCUSD  ETHUSD\n",
       "Date                      \n",
       "2017-05-19     0.0     0.0\n",
       "2017-05-20     0.0     0.0\n",
       "2017-05-21     0.0     0.0\n",
       "2017-05-22     0.0     0.0\n",
       "2017-05-23     0.0     0.0"
      ]
     },
     "execution_count": 53,
     "metadata": {},
     "output_type": "execute_result"
    }
   ],
   "source": [
    "positions.head()"
   ]
  },
  {
   "cell_type": "code",
   "execution_count": 54,
   "metadata": {},
   "outputs": [
    {
     "data": {
      "text/html": [
       "<div>\n",
       "<style scoped>\n",
       "    .dataframe tbody tr th:only-of-type {\n",
       "        vertical-align: middle;\n",
       "    }\n",
       "\n",
       "    .dataframe tbody tr th {\n",
       "        vertical-align: top;\n",
       "    }\n",
       "\n",
       "    .dataframe thead th {\n",
       "        text-align: right;\n",
       "    }\n",
       "</style>\n",
       "<table border=\"1\" class=\"dataframe\">\n",
       "  <thead>\n",
       "    <tr style=\"text-align: right;\">\n",
       "      <th></th>\n",
       "      <th>BTCUSD</th>\n",
       "      <th>ETHUSD</th>\n",
       "    </tr>\n",
       "    <tr>\n",
       "      <th>Date</th>\n",
       "      <th></th>\n",
       "      <th></th>\n",
       "    </tr>\n",
       "  </thead>\n",
       "  <tbody>\n",
       "    <tr>\n",
       "      <th>2019-05-19</th>\n",
       "      <td>-1.0</td>\n",
       "      <td>1.0</td>\n",
       "    </tr>\n",
       "    <tr>\n",
       "      <th>2019-05-20</th>\n",
       "      <td>-1.0</td>\n",
       "      <td>1.0</td>\n",
       "    </tr>\n",
       "    <tr>\n",
       "      <th>2019-05-21</th>\n",
       "      <td>-1.0</td>\n",
       "      <td>1.0</td>\n",
       "    </tr>\n",
       "    <tr>\n",
       "      <th>2019-05-22</th>\n",
       "      <td>-1.0</td>\n",
       "      <td>1.0</td>\n",
       "    </tr>\n",
       "    <tr>\n",
       "      <th>2019-05-23</th>\n",
       "      <td>-1.0</td>\n",
       "      <td>1.0</td>\n",
       "    </tr>\n",
       "  </tbody>\n",
       "</table>\n",
       "</div>"
      ],
      "text/plain": [
       "            BTCUSD  ETHUSD\n",
       "Date                      \n",
       "2019-05-19    -1.0     1.0\n",
       "2019-05-20    -1.0     1.0\n",
       "2019-05-21    -1.0     1.0\n",
       "2019-05-22    -1.0     1.0\n",
       "2019-05-23    -1.0     1.0"
      ]
     },
     "execution_count": 54,
     "metadata": {},
     "output_type": "execute_result"
    }
   ],
   "source": [
    "positions.tail()"
   ]
  },
  {
   "cell_type": "markdown",
   "metadata": {},
   "source": [
    "Make sure that existing positions are carried forward except when there is an exit"
   ]
  },
  {
   "cell_type": "code",
   "execution_count": 55,
   "metadata": {},
   "outputs": [],
   "source": [
    "positions.fillna(method='ffill', inplace=True)"
   ]
  },
  {
   "cell_type": "markdown",
   "metadata": {},
   "source": [
    "Check"
   ]
  },
  {
   "cell_type": "code",
   "execution_count": 56,
   "metadata": {},
   "outputs": [
    {
     "data": {
      "text/html": [
       "<div>\n",
       "<style scoped>\n",
       "    .dataframe tbody tr th:only-of-type {\n",
       "        vertical-align: middle;\n",
       "    }\n",
       "\n",
       "    .dataframe tbody tr th {\n",
       "        vertical-align: top;\n",
       "    }\n",
       "\n",
       "    .dataframe thead th {\n",
       "        text-align: right;\n",
       "    }\n",
       "</style>\n",
       "<table border=\"1\" class=\"dataframe\">\n",
       "  <thead>\n",
       "    <tr style=\"text-align: right;\">\n",
       "      <th></th>\n",
       "      <th>BTCUSD</th>\n",
       "      <th>ETHUSD</th>\n",
       "    </tr>\n",
       "    <tr>\n",
       "      <th>Date</th>\n",
       "      <th></th>\n",
       "      <th></th>\n",
       "    </tr>\n",
       "  </thead>\n",
       "  <tbody>\n",
       "    <tr>\n",
       "      <th>2017-05-19</th>\n",
       "      <td>0.0</td>\n",
       "      <td>0.0</td>\n",
       "    </tr>\n",
       "    <tr>\n",
       "      <th>2017-05-20</th>\n",
       "      <td>0.0</td>\n",
       "      <td>0.0</td>\n",
       "    </tr>\n",
       "    <tr>\n",
       "      <th>2017-05-21</th>\n",
       "      <td>0.0</td>\n",
       "      <td>0.0</td>\n",
       "    </tr>\n",
       "    <tr>\n",
       "      <th>2017-05-22</th>\n",
       "      <td>0.0</td>\n",
       "      <td>0.0</td>\n",
       "    </tr>\n",
       "    <tr>\n",
       "      <th>2017-05-23</th>\n",
       "      <td>0.0</td>\n",
       "      <td>0.0</td>\n",
       "    </tr>\n",
       "  </tbody>\n",
       "</table>\n",
       "</div>"
      ],
      "text/plain": [
       "            BTCUSD  ETHUSD\n",
       "Date                      \n",
       "2017-05-19     0.0     0.0\n",
       "2017-05-20     0.0     0.0\n",
       "2017-05-21     0.0     0.0\n",
       "2017-05-22     0.0     0.0\n",
       "2017-05-23     0.0     0.0"
      ]
     },
     "execution_count": 56,
     "metadata": {},
     "output_type": "execute_result"
    }
   ],
   "source": [
    "positions.head()"
   ]
  },
  {
   "cell_type": "code",
   "execution_count": 57,
   "metadata": {},
   "outputs": [
    {
     "data": {
      "text/html": [
       "<div>\n",
       "<style scoped>\n",
       "    .dataframe tbody tr th:only-of-type {\n",
       "        vertical-align: middle;\n",
       "    }\n",
       "\n",
       "    .dataframe tbody tr th {\n",
       "        vertical-align: top;\n",
       "    }\n",
       "\n",
       "    .dataframe thead th {\n",
       "        text-align: right;\n",
       "    }\n",
       "</style>\n",
       "<table border=\"1\" class=\"dataframe\">\n",
       "  <thead>\n",
       "    <tr style=\"text-align: right;\">\n",
       "      <th></th>\n",
       "      <th>BTCUSD</th>\n",
       "      <th>ETHUSD</th>\n",
       "    </tr>\n",
       "    <tr>\n",
       "      <th>Date</th>\n",
       "      <th></th>\n",
       "      <th></th>\n",
       "    </tr>\n",
       "  </thead>\n",
       "  <tbody>\n",
       "    <tr>\n",
       "      <th>2019-05-19</th>\n",
       "      <td>-1.0</td>\n",
       "      <td>1.0</td>\n",
       "    </tr>\n",
       "    <tr>\n",
       "      <th>2019-05-20</th>\n",
       "      <td>-1.0</td>\n",
       "      <td>1.0</td>\n",
       "    </tr>\n",
       "    <tr>\n",
       "      <th>2019-05-21</th>\n",
       "      <td>-1.0</td>\n",
       "      <td>1.0</td>\n",
       "    </tr>\n",
       "    <tr>\n",
       "      <th>2019-05-22</th>\n",
       "      <td>-1.0</td>\n",
       "      <td>1.0</td>\n",
       "    </tr>\n",
       "    <tr>\n",
       "      <th>2019-05-23</th>\n",
       "      <td>-1.0</td>\n",
       "      <td>1.0</td>\n",
       "    </tr>\n",
       "  </tbody>\n",
       "</table>\n",
       "</div>"
      ],
      "text/plain": [
       "            BTCUSD  ETHUSD\n",
       "Date                      \n",
       "2019-05-19    -1.0     1.0\n",
       "2019-05-20    -1.0     1.0\n",
       "2019-05-21    -1.0     1.0\n",
       "2019-05-22    -1.0     1.0\n",
       "2019-05-23    -1.0     1.0"
      ]
     },
     "execution_count": 57,
     "metadata": {},
     "output_type": "execute_result"
    }
   ],
   "source": [
    "positions.tail()"
   ]
  },
  {
   "cell_type": "markdown",
   "metadata": {},
   "source": [
    "Plot"
   ]
  },
  {
   "cell_type": "code",
   "execution_count": 58,
   "metadata": {},
   "outputs": [
    {
     "data": {
      "text/plain": [
       "<matplotlib.axes._subplots.AxesSubplot at 0x1c17f1d908>"
      ]
     },
     "execution_count": 58,
     "metadata": {},
     "output_type": "execute_result"
    },
    {
     "data": {
      "image/png": "[encoded data removed]",
      "text/plain": [
       "<Figure size 432x288 with 1 Axes>"
      ]
     },
     "metadata": {
      "needs_background": "light"
     },
     "output_type": "display_data"
    }
   ],
   "source": [
    "positions.plot()"
   ]
  },
  {
   "cell_type": "markdown",
   "metadata": {},
   "source": [
    "### Calculate The PnL"
   ]
  },
  {
   "cell_type": "markdown",
   "metadata": {},
   "source": [
    "Calculate the returns"
   ]
  },
  {
   "cell_type": "code",
   "execution_count": 59,
   "metadata": {},
   "outputs": [],
   "source": [
    "returns = pd.DataFrame({crypto1: last[crypto1],\n",
    "                        crypto2: last[crypto2]})"
   ]
  },
  {
   "cell_type": "code",
   "execution_count": 60,
   "metadata": {},
   "outputs": [],
   "source": [
    "returns = returns.pct_change()"
   ]
  },
  {
   "cell_type": "markdown",
   "metadata": {},
   "source": [
    "Check"
   ]
  },
  {
   "cell_type": "code",
   "execution_count": 61,
   "metadata": {},
   "outputs": [
    {
     "data": {
      "text/html": [
       "<div>\n",
       "<style scoped>\n",
       "    .dataframe tbody tr th:only-of-type {\n",
       "        vertical-align: middle;\n",
       "    }\n",
       "\n",
       "    .dataframe tbody tr th {\n",
       "        vertical-align: top;\n",
       "    }\n",
       "\n",
       "    .dataframe thead th {\n",
       "        text-align: right;\n",
       "    }\n",
       "</style>\n",
       "<table border=\"1\" class=\"dataframe\">\n",
       "  <thead>\n",
       "    <tr style=\"text-align: right;\">\n",
       "      <th></th>\n",
       "      <th>BTCUSD</th>\n",
       "      <th>ETHUSD</th>\n",
       "    </tr>\n",
       "    <tr>\n",
       "      <th>Date</th>\n",
       "      <th></th>\n",
       "      <th></th>\n",
       "    </tr>\n",
       "  </thead>\n",
       "  <tbody>\n",
       "    <tr>\n",
       "      <th>2017-05-19</th>\n",
       "      <td>NaN</td>\n",
       "      <td>NaN</td>\n",
       "    </tr>\n",
       "    <tr>\n",
       "      <th>2017-05-20</th>\n",
       "      <td>0.049746</td>\n",
       "      <td>0.004054</td>\n",
       "    </tr>\n",
       "    <tr>\n",
       "      <th>2017-05-21</th>\n",
       "      <td>-0.014555</td>\n",
       "      <td>0.143310</td>\n",
       "    </tr>\n",
       "    <tr>\n",
       "      <th>2017-05-22</th>\n",
       "      <td>-0.027479</td>\n",
       "      <td>-0.051247</td>\n",
       "    </tr>\n",
       "    <tr>\n",
       "      <th>2017-05-23</th>\n",
       "      <td>0.124174</td>\n",
       "      <td>0.219124</td>\n",
       "    </tr>\n",
       "  </tbody>\n",
       "</table>\n",
       "</div>"
      ],
      "text/plain": [
       "              BTCUSD    ETHUSD\n",
       "Date                          \n",
       "2017-05-19       NaN       NaN\n",
       "2017-05-20  0.049746  0.004054\n",
       "2017-05-21 -0.014555  0.143310\n",
       "2017-05-22 -0.027479 -0.051247\n",
       "2017-05-23  0.124174  0.219124"
      ]
     },
     "execution_count": 61,
     "metadata": {},
     "output_type": "execute_result"
    }
   ],
   "source": [
    "returns.head()"
   ]
  },
  {
   "cell_type": "code",
   "execution_count": 62,
   "metadata": {},
   "outputs": [
    {
     "data": {
      "text/html": [
       "<div>\n",
       "<style scoped>\n",
       "    .dataframe tbody tr th:only-of-type {\n",
       "        vertical-align: middle;\n",
       "    }\n",
       "\n",
       "    .dataframe tbody tr th {\n",
       "        vertical-align: top;\n",
       "    }\n",
       "\n",
       "    .dataframe thead th {\n",
       "        text-align: right;\n",
       "    }\n",
       "</style>\n",
       "<table border=\"1\" class=\"dataframe\">\n",
       "  <thead>\n",
       "    <tr style=\"text-align: right;\">\n",
       "      <th></th>\n",
       "      <th>BTCUSD</th>\n",
       "      <th>ETHUSD</th>\n",
       "    </tr>\n",
       "    <tr>\n",
       "      <th>Date</th>\n",
       "      <th></th>\n",
       "      <th></th>\n",
       "    </tr>\n",
       "  </thead>\n",
       "  <tbody>\n",
       "    <tr>\n",
       "      <th>2019-05-19</th>\n",
       "      <td>0.118610</td>\n",
       "      <td>0.105179</td>\n",
       "    </tr>\n",
       "    <tr>\n",
       "      <th>2019-05-20</th>\n",
       "      <td>-0.031854</td>\n",
       "      <td>-0.041694</td>\n",
       "    </tr>\n",
       "    <tr>\n",
       "      <th>2019-05-21</th>\n",
       "      <td>0.006633</td>\n",
       "      <td>0.024229</td>\n",
       "    </tr>\n",
       "    <tr>\n",
       "      <th>2019-05-22</th>\n",
       "      <td>-0.029773</td>\n",
       "      <td>-0.042167</td>\n",
       "    </tr>\n",
       "    <tr>\n",
       "      <th>2019-05-23</th>\n",
       "      <td>0.020906</td>\n",
       "      <td>0.001302</td>\n",
       "    </tr>\n",
       "  </tbody>\n",
       "</table>\n",
       "</div>"
      ],
      "text/plain": [
       "              BTCUSD    ETHUSD\n",
       "Date                          \n",
       "2019-05-19  0.118610  0.105179\n",
       "2019-05-20 -0.031854 -0.041694\n",
       "2019-05-21  0.006633  0.024229\n",
       "2019-05-22 -0.029773 -0.042167\n",
       "2019-05-23  0.020906  0.001302"
      ]
     },
     "execution_count": 62,
     "metadata": {},
     "output_type": "execute_result"
    }
   ],
   "source": [
    "returns.tail()"
   ]
  },
  {
   "cell_type": "markdown",
   "metadata": {},
   "source": [
    "Lag the positions, since we calculate the spread at last price"
   ]
  },
  {
   "cell_type": "code",
   "execution_count": 63,
   "metadata": {},
   "outputs": [],
   "source": [
    "positions = positions.shift(periods=1)"
   ]
  },
  {
   "cell_type": "markdown",
   "metadata": {},
   "source": [
    "Calculate the pnl"
   ]
  },
  {
   "cell_type": "code",
   "execution_count": 64,
   "metadata": {},
   "outputs": [],
   "source": [
    "pnl = returns * positions"
   ]
  },
  {
   "cell_type": "code",
   "execution_count": 65,
   "metadata": {},
   "outputs": [
    {
     "data": {
      "text/html": [
       "<div>\n",
       "<style scoped>\n",
       "    .dataframe tbody tr th:only-of-type {\n",
       "        vertical-align: middle;\n",
       "    }\n",
       "\n",
       "    .dataframe tbody tr th {\n",
       "        vertical-align: top;\n",
       "    }\n",
       "\n",
       "    .dataframe thead th {\n",
       "        text-align: right;\n",
       "    }\n",
       "</style>\n",
       "<table border=\"1\" class=\"dataframe\">\n",
       "  <thead>\n",
       "    <tr style=\"text-align: right;\">\n",
       "      <th></th>\n",
       "      <th>BTCUSD</th>\n",
       "      <th>ETHUSD</th>\n",
       "    </tr>\n",
       "    <tr>\n",
       "      <th>Date</th>\n",
       "      <th></th>\n",
       "      <th></th>\n",
       "    </tr>\n",
       "  </thead>\n",
       "  <tbody>\n",
       "    <tr>\n",
       "      <th>2017-05-19</th>\n",
       "      <td>NaN</td>\n",
       "      <td>NaN</td>\n",
       "    </tr>\n",
       "    <tr>\n",
       "      <th>2017-05-20</th>\n",
       "      <td>0.0</td>\n",
       "      <td>0.0</td>\n",
       "    </tr>\n",
       "    <tr>\n",
       "      <th>2017-05-21</th>\n",
       "      <td>-0.0</td>\n",
       "      <td>0.0</td>\n",
       "    </tr>\n",
       "    <tr>\n",
       "      <th>2017-05-22</th>\n",
       "      <td>-0.0</td>\n",
       "      <td>-0.0</td>\n",
       "    </tr>\n",
       "    <tr>\n",
       "      <th>2017-05-23</th>\n",
       "      <td>0.0</td>\n",
       "      <td>0.0</td>\n",
       "    </tr>\n",
       "  </tbody>\n",
       "</table>\n",
       "</div>"
      ],
      "text/plain": [
       "            BTCUSD  ETHUSD\n",
       "Date                      \n",
       "2017-05-19     NaN     NaN\n",
       "2017-05-20     0.0     0.0\n",
       "2017-05-21    -0.0     0.0\n",
       "2017-05-22    -0.0    -0.0\n",
       "2017-05-23     0.0     0.0"
      ]
     },
     "execution_count": 65,
     "metadata": {},
     "output_type": "execute_result"
    }
   ],
   "source": [
    "pnl.head()"
   ]
  },
  {
   "cell_type": "code",
   "execution_count": 66,
   "metadata": {},
   "outputs": [
    {
     "data": {
      "text/html": [
       "<div>\n",
       "<style scoped>\n",
       "    .dataframe tbody tr th:only-of-type {\n",
       "        vertical-align: middle;\n",
       "    }\n",
       "\n",
       "    .dataframe tbody tr th {\n",
       "        vertical-align: top;\n",
       "    }\n",
       "\n",
       "    .dataframe thead th {\n",
       "        text-align: right;\n",
       "    }\n",
       "</style>\n",
       "<table border=\"1\" class=\"dataframe\">\n",
       "  <thead>\n",
       "    <tr style=\"text-align: right;\">\n",
       "      <th></th>\n",
       "      <th>BTCUSD</th>\n",
       "      <th>ETHUSD</th>\n",
       "    </tr>\n",
       "    <tr>\n",
       "      <th>Date</th>\n",
       "      <th></th>\n",
       "      <th></th>\n",
       "    </tr>\n",
       "  </thead>\n",
       "  <tbody>\n",
       "    <tr>\n",
       "      <th>2019-05-19</th>\n",
       "      <td>-0.118610</td>\n",
       "      <td>0.105179</td>\n",
       "    </tr>\n",
       "    <tr>\n",
       "      <th>2019-05-20</th>\n",
       "      <td>0.031854</td>\n",
       "      <td>-0.041694</td>\n",
       "    </tr>\n",
       "    <tr>\n",
       "      <th>2019-05-21</th>\n",
       "      <td>-0.006633</td>\n",
       "      <td>0.024229</td>\n",
       "    </tr>\n",
       "    <tr>\n",
       "      <th>2019-05-22</th>\n",
       "      <td>0.029773</td>\n",
       "      <td>-0.042167</td>\n",
       "    </tr>\n",
       "    <tr>\n",
       "      <th>2019-05-23</th>\n",
       "      <td>-0.020906</td>\n",
       "      <td>0.001302</td>\n",
       "    </tr>\n",
       "  </tbody>\n",
       "</table>\n",
       "</div>"
      ],
      "text/plain": [
       "              BTCUSD    ETHUSD\n",
       "Date                          \n",
       "2019-05-19 -0.118610  0.105179\n",
       "2019-05-20  0.031854 -0.041694\n",
       "2019-05-21 -0.006633  0.024229\n",
       "2019-05-22  0.029773 -0.042167\n",
       "2019-05-23 -0.020906  0.001302"
      ]
     },
     "execution_count": 66,
     "metadata": {},
     "output_type": "execute_result"
    }
   ],
   "source": [
    "pnl.tail()"
   ]
  },
  {
   "cell_type": "code",
   "execution_count": 67,
   "metadata": {},
   "outputs": [
    {
     "data": {
      "text/plain": [
       "<matplotlib.axes._subplots.AxesSubplot at 0x1c181b3a58>"
      ]
     },
     "execution_count": 67,
     "metadata": {},
     "output_type": "execute_result"
    },
    {
     "data": {
      "image/png": "[encoded data removed]",
      "text/plain": [
       "<Figure size 432x288 with 1 Axes>"
      ]
     },
     "metadata": {
      "needs_background": "light"
     },
     "output_type": "display_data"
    }
   ],
   "source": [
    "pnl.plot()"
   ]
  },
  {
   "cell_type": "markdown",
   "metadata": {},
   "source": [
    "Calculate the net pnl"
   ]
  },
  {
   "cell_type": "code",
   "execution_count": 68,
   "metadata": {},
   "outputs": [],
   "source": [
    "pnl_net = pnl.sum(axis='columns')"
   ]
  },
  {
   "cell_type": "code",
   "execution_count": 69,
   "metadata": {},
   "outputs": [
    {
     "data": {
      "text/plain": [
       "Date\n",
       "2017-05-19    0.0\n",
       "2017-05-20    0.0\n",
       "2017-05-21    0.0\n",
       "2017-05-22    0.0\n",
       "2017-05-23    0.0\n",
       "dtype: float64"
      ]
     },
     "execution_count": 69,
     "metadata": {},
     "output_type": "execute_result"
    }
   ],
   "source": [
    "pnl_net.head()"
   ]
  },
  {
   "cell_type": "code",
   "execution_count": 70,
   "metadata": {},
   "outputs": [
    {
     "data": {
      "text/plain": [
       "Date\n",
       "2019-05-19   -0.013431\n",
       "2019-05-20   -0.009840\n",
       "2019-05-21    0.017595\n",
       "2019-05-22   -0.012394\n",
       "2019-05-23   -0.019604\n",
       "dtype: float64"
      ]
     },
     "execution_count": 70,
     "metadata": {},
     "output_type": "execute_result"
    }
   ],
   "source": [
    "pnl_net.tail()"
   ]
  },
  {
   "cell_type": "code",
   "execution_count": 71,
   "metadata": {},
   "outputs": [
    {
     "data": {
      "text/plain": [
       "<matplotlib.axes._subplots.AxesSubplot at 0x1c18169978>"
      ]
     },
     "execution_count": 71,
     "metadata": {},
     "output_type": "execute_result"
    },
    {
     "data": {
      "image/png": "[encoded data removed]",
      "text/plain": [
       "<Figure size 432x288 with 1 Axes>"
      ]
     },
     "metadata": {
      "needs_background": "light"
     },
     "output_type": "display_data"
    }
   ],
   "source": [
    "pnl_net.cumsum().plot()"
   ]
  },
  {
   "cell_type": "markdown",
   "metadata": {},
   "source": [
    "### Calculate the Sharpe ratio"
   ]
  },
  {
   "cell_type": "markdown",
   "metadata": {},
   "source": [
    "Under the training set"
   ]
  },
  {
   "cell_type": "code",
   "execution_count": 72,
   "metadata": {},
   "outputs": [],
   "source": [
    "sharpe_training = np.sqrt(252) * np.average(pnl_net[:cutoff1]) / np.std(pnl_net[:cutoff1])"
   ]
  },
  {
   "cell_type": "code",
   "execution_count": 73,
   "metadata": {},
   "outputs": [
    {
     "data": {
      "text/plain": [
       "1.0977269760285295"
      ]
     },
     "execution_count": 73,
     "metadata": {},
     "output_type": "execute_result"
    }
   ],
   "source": [
    "sharpe_training"
   ]
  },
  {
   "cell_type": "markdown",
   "metadata": {},
   "source": [
    "Under the test set"
   ]
  },
  {
   "cell_type": "code",
   "execution_count": 74,
   "metadata": {},
   "outputs": [],
   "source": [
    "sharpe_test = np.sqrt(252) * np.average(pnl_net[cutoff2:]) / np.std(pnl_net[cutoff2:])"
   ]
  },
  {
   "cell_type": "code",
   "execution_count": 75,
   "metadata": {},
   "outputs": [
    {
     "data": {
      "text/plain": [
       "-0.1539972434439597"
      ]
     },
     "execution_count": 75,
     "metadata": {},
     "output_type": "execute_result"
    }
   ],
   "source": [
    "sharpe_test"
   ]
  },
  {
   "cell_type": "markdown",
   "metadata": {},
   "source": [
    "## Conclusion\n",
    "..."
   ]
  }
 ],
 "metadata": {
  "kernelspec": {
   "display_name": "Python 3",
   "language": "python",
   "name": "python3"
  },
  "language_info": {
   "codemirror_mode": {
    "name": "ipython",
    "version": 3
   },
   "file_extension": ".py",
   "mimetype": "text/x-python",
   "name": "python",
   "nbconvert_exporter": "python",
   "pygments_lexer": "ipython3",
   "version": "3.7.1"
  }
 },
 "nbformat": 4,
 "nbformat_minor": 2
}
