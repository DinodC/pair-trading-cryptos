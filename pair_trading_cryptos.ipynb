{
 "cells": [
  {
   "cell_type": "markdown",
   "metadata": {},
   "source": [
    "# Pair Trading With Cryptocurrencies"
   ]
  },
  {
   "cell_type": "markdown",
   "metadata": {},
   "source": [
    "## How To Implement A Pair Trading Strategy Using Python"
   ]
  },
  {
   "cell_type": "markdown",
   "metadata": {},
   "source": [
    "## Introduction\n",
    "..."
   ]
  },
  {
   "cell_type": "markdown",
   "metadata": {},
   "source": [
    "Import packages"
   ]
  },
  {
   "cell_type": "code",
   "execution_count": 1,
   "metadata": {},
   "outputs": [],
   "source": [
    "import pandas as pd"
   ]
  },
  {
   "cell_type": "code",
   "execution_count": 2,
   "metadata": {},
   "outputs": [],
   "source": [
    "from pandas import Series, DataFrame"
   ]
  },
  {
   "cell_type": "code",
   "execution_count": 5,
   "metadata": {},
   "outputs": [],
   "source": [
    "import pickle"
   ]
  },
  {
   "cell_type": "code",
   "execution_count": 4,
   "metadata": {},
   "outputs": [],
   "source": [
    "import matplotlib.pyplot as plt"
   ]
  },
  {
   "cell_type": "code",
   "execution_count": 90,
   "metadata": {},
   "outputs": [],
   "source": [
    "import statsmodels.api as sm"
   ]
  },
  {
   "cell_type": "code",
   "execution_count": 6,
   "metadata": {},
   "outputs": [],
   "source": [
    "%matplotlib inline"
   ]
  },
  {
   "cell_type": "markdown",
   "metadata": {},
   "source": [
    "## Data Preparation"
   ]
  },
  {
   "cell_type": "markdown",
   "metadata": {},
   "source": [
    "Load data"
   ]
  },
  {
   "cell_type": "code",
   "execution_count": 8,
   "metadata": {},
   "outputs": [],
   "source": [
    "with open('data_bitfinex.pickle', 'rb') as f:\n",
    "    data = pickle.load(f)\n",
    "    \n",
    "f.close()"
   ]
  },
  {
   "cell_type": "markdown",
   "metadata": {},
   "source": [
    "Collect tickers"
   ]
  },
  {
   "cell_type": "code",
   "execution_count": 43,
   "metadata": {},
   "outputs": [],
   "source": [
    "tickers = list(data.columns.levels[0])"
   ]
  },
  {
   "cell_type": "code",
   "execution_count": 44,
   "metadata": {
    "scrolled": true
   },
   "outputs": [
    {
     "data": {
      "text/plain": [
       "['BCCUSD',\n",
       " 'BCUUSD',\n",
       " 'BTCUSD',\n",
       " 'DSHUSD',\n",
       " 'EOSUSD',\n",
       " 'ETCUSD',\n",
       " 'ETHUSD',\n",
       " 'LTCUSD',\n",
       " 'RRTUSD',\n",
       " 'SANUSD',\n",
       " 'XMRUSD',\n",
       " 'XRPUSD',\n",
       " 'ZECUSD']"
      ]
     },
     "execution_count": 44,
     "metadata": {},
     "output_type": "execute_result"
    }
   ],
   "source": [
    "tickers"
   ]
  },
  {
   "cell_type": "markdown",
   "metadata": {},
   "source": [
    "Create a dictionary of last prices"
   ]
  },
  {
   "cell_type": "code",
   "execution_count": 51,
   "metadata": {},
   "outputs": [],
   "source": [
    "last_dict = {}"
   ]
  },
  {
   "cell_type": "code",
   "execution_count": 52,
   "metadata": {},
   "outputs": [],
   "source": [
    "for i in tickers:\n",
    "    last_dict[i] = data[i].Last"
   ]
  },
  {
   "cell_type": "markdown",
   "metadata": {},
   "source": [
    "Convert dictionary of last prices to DataFrame"
   ]
  },
  {
   "cell_type": "code",
   "execution_count": 55,
   "metadata": {},
   "outputs": [],
   "source": [
    "last = pd.DataFrame(last_dict)"
   ]
  },
  {
   "cell_type": "markdown",
   "metadata": {},
   "source": [
    "Check"
   ]
  },
  {
   "cell_type": "code",
   "execution_count": 59,
   "metadata": {},
   "outputs": [
    {
     "data": {
      "text/html": [
       "<div>\n",
       "<style scoped>\n",
       "    .dataframe tbody tr th:only-of-type {\n",
       "        vertical-align: middle;\n",
       "    }\n",
       "\n",
       "    .dataframe tbody tr th {\n",
       "        vertical-align: top;\n",
       "    }\n",
       "\n",
       "    .dataframe thead th {\n",
       "        text-align: right;\n",
       "    }\n",
       "</style>\n",
       "<table border=\"1\" class=\"dataframe\">\n",
       "  <thead>\n",
       "    <tr style=\"text-align: right;\">\n",
       "      <th></th>\n",
       "      <th>BCCUSD</th>\n",
       "      <th>BCUUSD</th>\n",
       "      <th>BTCUSD</th>\n",
       "      <th>DSHUSD</th>\n",
       "      <th>EOSUSD</th>\n",
       "      <th>ETCUSD</th>\n",
       "      <th>ETHUSD</th>\n",
       "      <th>LTCUSD</th>\n",
       "      <th>RRTUSD</th>\n",
       "      <th>SANUSD</th>\n",
       "      <th>XMRUSD</th>\n",
       "      <th>XRPUSD</th>\n",
       "      <th>ZECUSD</th>\n",
       "    </tr>\n",
       "    <tr>\n",
       "      <th>Date</th>\n",
       "      <th></th>\n",
       "      <th></th>\n",
       "      <th></th>\n",
       "      <th></th>\n",
       "      <th></th>\n",
       "      <th></th>\n",
       "      <th></th>\n",
       "      <th></th>\n",
       "      <th></th>\n",
       "      <th></th>\n",
       "      <th></th>\n",
       "      <th></th>\n",
       "      <th></th>\n",
       "    </tr>\n",
       "  </thead>\n",
       "  <tbody>\n",
       "    <tr>\n",
       "      <th>2017-05-19</th>\n",
       "      <td>1787.6</td>\n",
       "      <td>201.30</td>\n",
       "      <td>1970.0</td>\n",
       "      <td>98.028</td>\n",
       "      <td>NaN</td>\n",
       "      <td>7.4993</td>\n",
       "      <td>125.79</td>\n",
       "      <td>26.824</td>\n",
       "      <td>0.090696</td>\n",
       "      <td>NaN</td>\n",
       "      <td>31.498</td>\n",
       "      <td>0.31800</td>\n",
       "      <td>105.84</td>\n",
       "    </tr>\n",
       "    <tr>\n",
       "      <th>2017-05-20</th>\n",
       "      <td>1820.0</td>\n",
       "      <td>193.85</td>\n",
       "      <td>2068.0</td>\n",
       "      <td>102.450</td>\n",
       "      <td>NaN</td>\n",
       "      <td>7.1010</td>\n",
       "      <td>126.30</td>\n",
       "      <td>27.467</td>\n",
       "      <td>0.090696</td>\n",
       "      <td>NaN</td>\n",
       "      <td>35.342</td>\n",
       "      <td>0.34689</td>\n",
       "      <td>106.75</td>\n",
       "    </tr>\n",
       "    <tr>\n",
       "      <th>2017-05-21</th>\n",
       "      <td>1753.0</td>\n",
       "      <td>200.15</td>\n",
       "      <td>2037.9</td>\n",
       "      <td>102.010</td>\n",
       "      <td>NaN</td>\n",
       "      <td>7.6000</td>\n",
       "      <td>144.40</td>\n",
       "      <td>26.050</td>\n",
       "      <td>0.088110</td>\n",
       "      <td>NaN</td>\n",
       "      <td>34.140</td>\n",
       "      <td>0.33345</td>\n",
       "      <td>117.71</td>\n",
       "    </tr>\n",
       "    <tr>\n",
       "      <th>2017-05-22</th>\n",
       "      <td>1850.0</td>\n",
       "      <td>200.00</td>\n",
       "      <td>1981.9</td>\n",
       "      <td>115.020</td>\n",
       "      <td>NaN</td>\n",
       "      <td>7.9482</td>\n",
       "      <td>137.00</td>\n",
       "      <td>23.291</td>\n",
       "      <td>0.089990</td>\n",
       "      <td>NaN</td>\n",
       "      <td>34.889</td>\n",
       "      <td>0.28001</td>\n",
       "      <td>194.10</td>\n",
       "    </tr>\n",
       "    <tr>\n",
       "      <th>2017-05-23</th>\n",
       "      <td>2000.0</td>\n",
       "      <td>214.53</td>\n",
       "      <td>2228.0</td>\n",
       "      <td>132.250</td>\n",
       "      <td>NaN</td>\n",
       "      <td>9.9974</td>\n",
       "      <td>167.02</td>\n",
       "      <td>29.750</td>\n",
       "      <td>0.092496</td>\n",
       "      <td>NaN</td>\n",
       "      <td>53.326</td>\n",
       "      <td>0.32090</td>\n",
       "      <td>250.00</td>\n",
       "    </tr>\n",
       "  </tbody>\n",
       "</table>\n",
       "</div>"
      ],
      "text/plain": [
       "            BCCUSD  BCUUSD  BTCUSD   DSHUSD  EOSUSD  ETCUSD  ETHUSD  LTCUSD  \\\n",
       "Date                                                                          \n",
       "2017-05-19  1787.6  201.30  1970.0   98.028     NaN  7.4993  125.79  26.824   \n",
       "2017-05-20  1820.0  193.85  2068.0  102.450     NaN  7.1010  126.30  27.467   \n",
       "2017-05-21  1753.0  200.15  2037.9  102.010     NaN  7.6000  144.40  26.050   \n",
       "2017-05-22  1850.0  200.00  1981.9  115.020     NaN  7.9482  137.00  23.291   \n",
       "2017-05-23  2000.0  214.53  2228.0  132.250     NaN  9.9974  167.02  29.750   \n",
       "\n",
       "              RRTUSD  SANUSD  XMRUSD   XRPUSD  ZECUSD  \n",
       "Date                                                   \n",
       "2017-05-19  0.090696     NaN  31.498  0.31800  105.84  \n",
       "2017-05-20  0.090696     NaN  35.342  0.34689  106.75  \n",
       "2017-05-21  0.088110     NaN  34.140  0.33345  117.71  \n",
       "2017-05-22  0.089990     NaN  34.889  0.28001  194.10  \n",
       "2017-05-23  0.092496     NaN  53.326  0.32090  250.00  "
      ]
     },
     "execution_count": 59,
     "metadata": {},
     "output_type": "execute_result"
    }
   ],
   "source": [
    "last.head()"
   ]
  },
  {
   "cell_type": "code",
   "execution_count": 60,
   "metadata": {},
   "outputs": [
    {
     "data": {
      "text/html": [
       "<div>\n",
       "<style scoped>\n",
       "    .dataframe tbody tr th:only-of-type {\n",
       "        vertical-align: middle;\n",
       "    }\n",
       "\n",
       "    .dataframe tbody tr th {\n",
       "        vertical-align: top;\n",
       "    }\n",
       "\n",
       "    .dataframe thead th {\n",
       "        text-align: right;\n",
       "    }\n",
       "</style>\n",
       "<table border=\"1\" class=\"dataframe\">\n",
       "  <thead>\n",
       "    <tr style=\"text-align: right;\">\n",
       "      <th></th>\n",
       "      <th>BCCUSD</th>\n",
       "      <th>BCUUSD</th>\n",
       "      <th>BTCUSD</th>\n",
       "      <th>DSHUSD</th>\n",
       "      <th>EOSUSD</th>\n",
       "      <th>ETCUSD</th>\n",
       "      <th>ETHUSD</th>\n",
       "      <th>LTCUSD</th>\n",
       "      <th>RRTUSD</th>\n",
       "      <th>SANUSD</th>\n",
       "      <th>XMRUSD</th>\n",
       "      <th>XRPUSD</th>\n",
       "      <th>ZECUSD</th>\n",
       "    </tr>\n",
       "    <tr>\n",
       "      <th>Date</th>\n",
       "      <th></th>\n",
       "      <th></th>\n",
       "      <th></th>\n",
       "      <th></th>\n",
       "      <th></th>\n",
       "      <th></th>\n",
       "      <th></th>\n",
       "      <th></th>\n",
       "      <th></th>\n",
       "      <th></th>\n",
       "      <th></th>\n",
       "      <th></th>\n",
       "      <th></th>\n",
       "    </tr>\n",
       "  </thead>\n",
       "  <tbody>\n",
       "    <tr>\n",
       "      <th>2019-05-19</th>\n",
       "      <td>NaN</td>\n",
       "      <td>NaN</td>\n",
       "      <td>8174.8</td>\n",
       "      <td>164.46</td>\n",
       "      <td>6.477079</td>\n",
       "      <td>7.8201</td>\n",
       "      <td>261.43</td>\n",
       "      <td>96.002</td>\n",
       "      <td>0.043800</td>\n",
       "      <td>1.02730</td>\n",
       "      <td>89.805</td>\n",
       "      <td>0.42290</td>\n",
       "      <td>77.911</td>\n",
       "    </tr>\n",
       "    <tr>\n",
       "      <th>2019-05-20</th>\n",
       "      <td>NaN</td>\n",
       "      <td>NaN</td>\n",
       "      <td>7914.4</td>\n",
       "      <td>167.43</td>\n",
       "      <td>6.242500</td>\n",
       "      <td>7.3603</td>\n",
       "      <td>250.53</td>\n",
       "      <td>90.967</td>\n",
       "      <td>0.043700</td>\n",
       "      <td>0.97400</td>\n",
       "      <td>86.704</td>\n",
       "      <td>0.39650</td>\n",
       "      <td>75.697</td>\n",
       "    </tr>\n",
       "    <tr>\n",
       "      <th>2019-05-21</th>\n",
       "      <td>NaN</td>\n",
       "      <td>NaN</td>\n",
       "      <td>7966.9</td>\n",
       "      <td>166.99</td>\n",
       "      <td>6.301800</td>\n",
       "      <td>7.4557</td>\n",
       "      <td>256.60</td>\n",
       "      <td>91.729</td>\n",
       "      <td>0.042301</td>\n",
       "      <td>0.96700</td>\n",
       "      <td>89.026</td>\n",
       "      <td>0.39900</td>\n",
       "      <td>75.178</td>\n",
       "    </tr>\n",
       "    <tr>\n",
       "      <th>2019-05-22</th>\n",
       "      <td>NaN</td>\n",
       "      <td>NaN</td>\n",
       "      <td>7729.7</td>\n",
       "      <td>155.95</td>\n",
       "      <td>5.964400</td>\n",
       "      <td>6.9617</td>\n",
       "      <td>245.78</td>\n",
       "      <td>88.645</td>\n",
       "      <td>0.042270</td>\n",
       "      <td>0.98555</td>\n",
       "      <td>84.304</td>\n",
       "      <td>0.37734</td>\n",
       "      <td>70.679</td>\n",
       "    </tr>\n",
       "    <tr>\n",
       "      <th>2019-05-23</th>\n",
       "      <td>NaN</td>\n",
       "      <td>NaN</td>\n",
       "      <td>7891.3</td>\n",
       "      <td>154.52</td>\n",
       "      <td>6.064500</td>\n",
       "      <td>7.0569</td>\n",
       "      <td>246.10</td>\n",
       "      <td>89.251</td>\n",
       "      <td>0.042270</td>\n",
       "      <td>0.93645</td>\n",
       "      <td>84.664</td>\n",
       "      <td>0.38003</td>\n",
       "      <td>71.724</td>\n",
       "    </tr>\n",
       "  </tbody>\n",
       "</table>\n",
       "</div>"
      ],
      "text/plain": [
       "            BCCUSD  BCUUSD  BTCUSD  DSHUSD    EOSUSD  ETCUSD  ETHUSD  LTCUSD  \\\n",
       "Date                                                                           \n",
       "2019-05-19     NaN     NaN  8174.8  164.46  6.477079  7.8201  261.43  96.002   \n",
       "2019-05-20     NaN     NaN  7914.4  167.43  6.242500  7.3603  250.53  90.967   \n",
       "2019-05-21     NaN     NaN  7966.9  166.99  6.301800  7.4557  256.60  91.729   \n",
       "2019-05-22     NaN     NaN  7729.7  155.95  5.964400  6.9617  245.78  88.645   \n",
       "2019-05-23     NaN     NaN  7891.3  154.52  6.064500  7.0569  246.10  89.251   \n",
       "\n",
       "              RRTUSD   SANUSD  XMRUSD   XRPUSD  ZECUSD  \n",
       "Date                                                    \n",
       "2019-05-19  0.043800  1.02730  89.805  0.42290  77.911  \n",
       "2019-05-20  0.043700  0.97400  86.704  0.39650  75.697  \n",
       "2019-05-21  0.042301  0.96700  89.026  0.39900  75.178  \n",
       "2019-05-22  0.042270  0.98555  84.304  0.37734  70.679  \n",
       "2019-05-23  0.042270  0.93645  84.664  0.38003  71.724  "
      ]
     },
     "execution_count": 60,
     "metadata": {},
     "output_type": "execute_result"
    }
   ],
   "source": [
    "last.tail()"
   ]
  },
  {
   "cell_type": "code",
   "execution_count": 61,
   "metadata": {},
   "outputs": [
    {
     "data": {
      "text/html": [
       "<div>\n",
       "<style scoped>\n",
       "    .dataframe tbody tr th:only-of-type {\n",
       "        vertical-align: middle;\n",
       "    }\n",
       "\n",
       "    .dataframe tbody tr th {\n",
       "        vertical-align: top;\n",
       "    }\n",
       "\n",
       "    .dataframe thead th {\n",
       "        text-align: right;\n",
       "    }\n",
       "</style>\n",
       "<table border=\"1\" class=\"dataframe\">\n",
       "  <thead>\n",
       "    <tr style=\"text-align: right;\">\n",
       "      <th></th>\n",
       "      <th>BCCUSD</th>\n",
       "      <th>BCUUSD</th>\n",
       "      <th>BTCUSD</th>\n",
       "      <th>DSHUSD</th>\n",
       "      <th>EOSUSD</th>\n",
       "      <th>ETCUSD</th>\n",
       "      <th>ETHUSD</th>\n",
       "      <th>LTCUSD</th>\n",
       "      <th>RRTUSD</th>\n",
       "      <th>SANUSD</th>\n",
       "      <th>XMRUSD</th>\n",
       "      <th>XRPUSD</th>\n",
       "      <th>ZECUSD</th>\n",
       "    </tr>\n",
       "  </thead>\n",
       "  <tbody>\n",
       "    <tr>\n",
       "      <th>count</th>\n",
       "      <td>215.000000</td>\n",
       "      <td>215.000000</td>\n",
       "      <td>712.000000</td>\n",
       "      <td>712.000000</td>\n",
       "      <td>483.000000</td>\n",
       "      <td>712.000000</td>\n",
       "      <td>712.000000</td>\n",
       "      <td>711.000000</td>\n",
       "      <td>711.000000</td>\n",
       "      <td>472.000000</td>\n",
       "      <td>712.000000</td>\n",
       "      <td>712.000000</td>\n",
       "      <td>711.000000</td>\n",
       "    </tr>\n",
       "    <tr>\n",
       "      <th>mean</th>\n",
       "      <td>4797.132093</td>\n",
       "      <td>292.164488</td>\n",
       "      <td>6297.287691</td>\n",
       "      <td>287.632192</td>\n",
       "      <td>3.683205</td>\n",
       "      <td>14.281943</td>\n",
       "      <td>368.428862</td>\n",
       "      <td>84.798965</td>\n",
       "      <td>0.078213</td>\n",
       "      <td>0.602140</td>\n",
       "      <td>125.295864</td>\n",
       "      <td>0.468881</td>\n",
       "      <td>205.455135</td>\n",
       "    </tr>\n",
       "    <tr>\n",
       "      <th>std</th>\n",
       "      <td>3809.541788</td>\n",
       "      <td>156.675981</td>\n",
       "      <td>3046.770749</td>\n",
       "      <td>231.953919</td>\n",
       "      <td>2.227089</td>\n",
       "      <td>8.135075</td>\n",
       "      <td>254.802203</td>\n",
       "      <td>58.395382</td>\n",
       "      <td>0.056773</td>\n",
       "      <td>0.662396</td>\n",
       "      <td>88.610652</td>\n",
       "      <td>0.364259</td>\n",
       "      <td>132.558672</td>\n",
       "    </tr>\n",
       "    <tr>\n",
       "      <th>min</th>\n",
       "      <td>1345.000000</td>\n",
       "      <td>64.000000</td>\n",
       "      <td>1949.900000</td>\n",
       "      <td>59.512000</td>\n",
       "      <td>0.488800</td>\n",
       "      <td>3.452200</td>\n",
       "      <td>85.039000</td>\n",
       "      <td>21.845000</td>\n",
       "      <td>0.033010</td>\n",
       "      <td>0.145010</td>\n",
       "      <td>29.744000</td>\n",
       "      <td>0.148210</td>\n",
       "      <td>47.051000</td>\n",
       "    </tr>\n",
       "    <tr>\n",
       "      <th>25%</th>\n",
       "      <td>2398.300000</td>\n",
       "      <td>192.970000</td>\n",
       "      <td>3965.200000</td>\n",
       "      <td>132.195000</td>\n",
       "      <td>1.788650</td>\n",
       "      <td>7.451100</td>\n",
       "      <td>178.225000</td>\n",
       "      <td>46.686500</td>\n",
       "      <td>0.040348</td>\n",
       "      <td>0.310993</td>\n",
       "      <td>53.109000</td>\n",
       "      <td>0.261860</td>\n",
       "      <td>85.598500</td>\n",
       "    </tr>\n",
       "    <tr>\n",
       "      <th>50%</th>\n",
       "      <td>3500.000000</td>\n",
       "      <td>230.010000</td>\n",
       "      <td>6284.350000</td>\n",
       "      <td>202.760000</td>\n",
       "      <td>3.590000</td>\n",
       "      <td>13.954500</td>\n",
       "      <td>292.545000</td>\n",
       "      <td>61.000000</td>\n",
       "      <td>0.056213</td>\n",
       "      <td>0.456895</td>\n",
       "      <td>101.530000</td>\n",
       "      <td>0.335150</td>\n",
       "      <td>191.270000</td>\n",
       "    </tr>\n",
       "    <tr>\n",
       "      <th>75%</th>\n",
       "      <td>5310.600000</td>\n",
       "      <td>387.550000</td>\n",
       "      <td>7681.375000</td>\n",
       "      <td>348.690000</td>\n",
       "      <td>5.395750</td>\n",
       "      <td>17.399750</td>\n",
       "      <td>471.400000</td>\n",
       "      <td>100.087500</td>\n",
       "      <td>0.085495</td>\n",
       "      <td>0.629570</td>\n",
       "      <td>161.325000</td>\n",
       "      <td>0.525350</td>\n",
       "      <td>270.150000</td>\n",
       "    </tr>\n",
       "    <tr>\n",
       "      <th>max</th>\n",
       "      <td>19433.000000</td>\n",
       "      <td>810.000000</td>\n",
       "      <td>19210.000000</td>\n",
       "      <td>1424.600000</td>\n",
       "      <td>11.491000</td>\n",
       "      <td>42.416000</td>\n",
       "      <td>1380.000000</td>\n",
       "      <td>355.510000</td>\n",
       "      <td>0.372000</td>\n",
       "      <td>4.642000</td>\n",
       "      <td>470.990000</td>\n",
       "      <td>2.760400</td>\n",
       "      <td>753.570000</td>\n",
       "    </tr>\n",
       "  </tbody>\n",
       "</table>\n",
       "</div>"
      ],
      "text/plain": [
       "             BCCUSD      BCUUSD        BTCUSD       DSHUSD      EOSUSD  \\\n",
       "count    215.000000  215.000000    712.000000   712.000000  483.000000   \n",
       "mean    4797.132093  292.164488   6297.287691   287.632192    3.683205   \n",
       "std     3809.541788  156.675981   3046.770749   231.953919    2.227089   \n",
       "min     1345.000000   64.000000   1949.900000    59.512000    0.488800   \n",
       "25%     2398.300000  192.970000   3965.200000   132.195000    1.788650   \n",
       "50%     3500.000000  230.010000   6284.350000   202.760000    3.590000   \n",
       "75%     5310.600000  387.550000   7681.375000   348.690000    5.395750   \n",
       "max    19433.000000  810.000000  19210.000000  1424.600000   11.491000   \n",
       "\n",
       "           ETCUSD       ETHUSD      LTCUSD      RRTUSD      SANUSD  \\\n",
       "count  712.000000   712.000000  711.000000  711.000000  472.000000   \n",
       "mean    14.281943   368.428862   84.798965    0.078213    0.602140   \n",
       "std      8.135075   254.802203   58.395382    0.056773    0.662396   \n",
       "min      3.452200    85.039000   21.845000    0.033010    0.145010   \n",
       "25%      7.451100   178.225000   46.686500    0.040348    0.310993   \n",
       "50%     13.954500   292.545000   61.000000    0.056213    0.456895   \n",
       "75%     17.399750   471.400000  100.087500    0.085495    0.629570   \n",
       "max     42.416000  1380.000000  355.510000    0.372000    4.642000   \n",
       "\n",
       "           XMRUSD      XRPUSD      ZECUSD  \n",
       "count  712.000000  712.000000  711.000000  \n",
       "mean   125.295864    0.468881  205.455135  \n",
       "std     88.610652    0.364259  132.558672  \n",
       "min     29.744000    0.148210   47.051000  \n",
       "25%     53.109000    0.261860   85.598500  \n",
       "50%    101.530000    0.335150  191.270000  \n",
       "75%    161.325000    0.525350  270.150000  \n",
       "max    470.990000    2.760400  753.570000  "
      ]
     },
     "execution_count": 61,
     "metadata": {},
     "output_type": "execute_result"
    }
   ],
   "source": [
    "last.describe()"
   ]
  },
  {
   "cell_type": "markdown",
   "metadata": {},
   "source": [
    "Drop cryptocurrencies which have less than 2y data"
   ]
  },
  {
   "cell_type": "code",
   "execution_count": 63,
   "metadata": {},
   "outputs": [],
   "source": [
    "last.drop(['BCCUSD', 'BCUUSD', 'EOSUSD', 'SANUSD'], axis='columns', inplace=True)"
   ]
  },
  {
   "cell_type": "markdown",
   "metadata": {},
   "source": [
    "Check"
   ]
  },
  {
   "cell_type": "code",
   "execution_count": 64,
   "metadata": {},
   "outputs": [
    {
     "data": {
      "text/html": [
       "<div>\n",
       "<style scoped>\n",
       "    .dataframe tbody tr th:only-of-type {\n",
       "        vertical-align: middle;\n",
       "    }\n",
       "\n",
       "    .dataframe tbody tr th {\n",
       "        vertical-align: top;\n",
       "    }\n",
       "\n",
       "    .dataframe thead th {\n",
       "        text-align: right;\n",
       "    }\n",
       "</style>\n",
       "<table border=\"1\" class=\"dataframe\">\n",
       "  <thead>\n",
       "    <tr style=\"text-align: right;\">\n",
       "      <th></th>\n",
       "      <th>BTCUSD</th>\n",
       "      <th>DSHUSD</th>\n",
       "      <th>ETCUSD</th>\n",
       "      <th>ETHUSD</th>\n",
       "      <th>LTCUSD</th>\n",
       "      <th>RRTUSD</th>\n",
       "      <th>XMRUSD</th>\n",
       "      <th>XRPUSD</th>\n",
       "      <th>ZECUSD</th>\n",
       "    </tr>\n",
       "  </thead>\n",
       "  <tbody>\n",
       "    <tr>\n",
       "      <th>count</th>\n",
       "      <td>712.000000</td>\n",
       "      <td>712.000000</td>\n",
       "      <td>712.000000</td>\n",
       "      <td>712.000000</td>\n",
       "      <td>711.000000</td>\n",
       "      <td>711.000000</td>\n",
       "      <td>712.000000</td>\n",
       "      <td>712.000000</td>\n",
       "      <td>711.000000</td>\n",
       "    </tr>\n",
       "    <tr>\n",
       "      <th>mean</th>\n",
       "      <td>6297.287691</td>\n",
       "      <td>287.632192</td>\n",
       "      <td>14.281943</td>\n",
       "      <td>368.428862</td>\n",
       "      <td>84.798965</td>\n",
       "      <td>0.078213</td>\n",
       "      <td>125.295864</td>\n",
       "      <td>0.468881</td>\n",
       "      <td>205.455135</td>\n",
       "    </tr>\n",
       "    <tr>\n",
       "      <th>std</th>\n",
       "      <td>3046.770749</td>\n",
       "      <td>231.953919</td>\n",
       "      <td>8.135075</td>\n",
       "      <td>254.802203</td>\n",
       "      <td>58.395382</td>\n",
       "      <td>0.056773</td>\n",
       "      <td>88.610652</td>\n",
       "      <td>0.364259</td>\n",
       "      <td>132.558672</td>\n",
       "    </tr>\n",
       "    <tr>\n",
       "      <th>min</th>\n",
       "      <td>1949.900000</td>\n",
       "      <td>59.512000</td>\n",
       "      <td>3.452200</td>\n",
       "      <td>85.039000</td>\n",
       "      <td>21.845000</td>\n",
       "      <td>0.033010</td>\n",
       "      <td>29.744000</td>\n",
       "      <td>0.148210</td>\n",
       "      <td>47.051000</td>\n",
       "    </tr>\n",
       "    <tr>\n",
       "      <th>25%</th>\n",
       "      <td>3965.200000</td>\n",
       "      <td>132.195000</td>\n",
       "      <td>7.451100</td>\n",
       "      <td>178.225000</td>\n",
       "      <td>46.686500</td>\n",
       "      <td>0.040348</td>\n",
       "      <td>53.109000</td>\n",
       "      <td>0.261860</td>\n",
       "      <td>85.598500</td>\n",
       "    </tr>\n",
       "    <tr>\n",
       "      <th>50%</th>\n",
       "      <td>6284.350000</td>\n",
       "      <td>202.760000</td>\n",
       "      <td>13.954500</td>\n",
       "      <td>292.545000</td>\n",
       "      <td>61.000000</td>\n",
       "      <td>0.056213</td>\n",
       "      <td>101.530000</td>\n",
       "      <td>0.335150</td>\n",
       "      <td>191.270000</td>\n",
       "    </tr>\n",
       "    <tr>\n",
       "      <th>75%</th>\n",
       "      <td>7681.375000</td>\n",
       "      <td>348.690000</td>\n",
       "      <td>17.399750</td>\n",
       "      <td>471.400000</td>\n",
       "      <td>100.087500</td>\n",
       "      <td>0.085495</td>\n",
       "      <td>161.325000</td>\n",
       "      <td>0.525350</td>\n",
       "      <td>270.150000</td>\n",
       "    </tr>\n",
       "    <tr>\n",
       "      <th>max</th>\n",
       "      <td>19210.000000</td>\n",
       "      <td>1424.600000</td>\n",
       "      <td>42.416000</td>\n",
       "      <td>1380.000000</td>\n",
       "      <td>355.510000</td>\n",
       "      <td>0.372000</td>\n",
       "      <td>470.990000</td>\n",
       "      <td>2.760400</td>\n",
       "      <td>753.570000</td>\n",
       "    </tr>\n",
       "  </tbody>\n",
       "</table>\n",
       "</div>"
      ],
      "text/plain": [
       "             BTCUSD       DSHUSD      ETCUSD       ETHUSD      LTCUSD  \\\n",
       "count    712.000000   712.000000  712.000000   712.000000  711.000000   \n",
       "mean    6297.287691   287.632192   14.281943   368.428862   84.798965   \n",
       "std     3046.770749   231.953919    8.135075   254.802203   58.395382   \n",
       "min     1949.900000    59.512000    3.452200    85.039000   21.845000   \n",
       "25%     3965.200000   132.195000    7.451100   178.225000   46.686500   \n",
       "50%     6284.350000   202.760000   13.954500   292.545000   61.000000   \n",
       "75%     7681.375000   348.690000   17.399750   471.400000  100.087500   \n",
       "max    19210.000000  1424.600000   42.416000  1380.000000  355.510000   \n",
       "\n",
       "           RRTUSD      XMRUSD      XRPUSD      ZECUSD  \n",
       "count  711.000000  712.000000  712.000000  711.000000  \n",
       "mean     0.078213  125.295864    0.468881  205.455135  \n",
       "std      0.056773   88.610652    0.364259  132.558672  \n",
       "min      0.033010   29.744000    0.148210   47.051000  \n",
       "25%      0.040348   53.109000    0.261860   85.598500  \n",
       "50%      0.056213  101.530000    0.335150  191.270000  \n",
       "75%      0.085495  161.325000    0.525350  270.150000  \n",
       "max      0.372000  470.990000    2.760400  753.570000  "
      ]
     },
     "execution_count": 64,
     "metadata": {},
     "output_type": "execute_result"
    }
   ],
   "source": [
    "last.describe()"
   ]
  },
  {
   "cell_type": "markdown",
   "metadata": {},
   "source": [
    "Plot"
   ]
  },
  {
   "cell_type": "markdown",
   "metadata": {},
   "source": []
  },
  {
   "cell_type": "code",
   "execution_count": 100,
   "metadata": {},
   "outputs": [
    {
     "data": {
      "text/plain": [
       "<matplotlib.legend.Legend at 0x1c2c6fdf60>"
      ]
     },
     "execution_count": 100,
     "metadata": {},
     "output_type": "execute_result"
    },
    {
     "data": {
      "image/png": "[encoded data removed]",
      "text/plain": [
       "<Figure size 1440x1440 with 2 Axes>"
      ]
     },
     "metadata": {
      "needs_background": "light"
     },
     "output_type": "display_data"
    }
   ],
   "source": [
    "# Adjust plot size\n",
    "plt.figure(figsize=(20, 20))\n",
    "\n",
    "\n",
    "plt.subplot(3, 1, 1)\n",
    "# DSHUSD, ETHUSD and ZECUSD\n",
    "plt.plot(last['DSHUSD'])\n",
    "plt.plot(last['ETHUSD'])\n",
    "plt.plot(last['ZECUSD'])\n",
    "# Title\n",
    "plt.title('DSHUSD, ETHUSD and ZECUSD')\n",
    "# Legend\n",
    "plt.legend(['DSHUSD', 'ETHUSD', 'ZECUSD'])\n",
    "\n",
    "plt.subplot(3, 1, 2)\n",
    "# LTCUSD and XMRUSD\n",
    "plt.plot(last['LTCUSD'])\n",
    "plt.plot(last['XMRUSD'])\n",
    "# Title\n",
    "plt.title('LTCUSD and XMRUSD')\n",
    "# Legend\n",
    "plt.legend(['LTCUSD', 'XMRUSD'])"
   ]
  },
  {
   "cell_type": "markdown",
   "metadata": {},
   "source": [
    "## Pair Trading Strategy"
   ]
  },
  {
   "cell_type": "markdown",
   "metadata": {},
   "source": [
    "### Training Set"
   ]
  },
  {
   "cell_type": "markdown",
   "metadata": {},
   "source": [
    "Define the training set"
   ]
  },
  {
   "cell_type": "code",
   "execution_count": 85,
   "metadata": {},
   "outputs": [],
   "source": [
    "training_set = last.loc[:'2017-12-22']"
   ]
  },
  {
   "cell_type": "markdown",
   "metadata": {},
   "source": [
    "Check"
   ]
  },
  {
   "cell_type": "code",
   "execution_count": 86,
   "metadata": {},
   "outputs": [
    {
     "data": {
      "text/html": [
       "<div>\n",
       "<style scoped>\n",
       "    .dataframe tbody tr th:only-of-type {\n",
       "        vertical-align: middle;\n",
       "    }\n",
       "\n",
       "    .dataframe tbody tr th {\n",
       "        vertical-align: top;\n",
       "    }\n",
       "\n",
       "    .dataframe thead th {\n",
       "        text-align: right;\n",
       "    }\n",
       "</style>\n",
       "<table border=\"1\" class=\"dataframe\">\n",
       "  <thead>\n",
       "    <tr style=\"text-align: right;\">\n",
       "      <th></th>\n",
       "      <th>BTCUSD</th>\n",
       "      <th>DSHUSD</th>\n",
       "      <th>ETCUSD</th>\n",
       "      <th>ETHUSD</th>\n",
       "      <th>LTCUSD</th>\n",
       "      <th>RRTUSD</th>\n",
       "      <th>XMRUSD</th>\n",
       "      <th>XRPUSD</th>\n",
       "      <th>ZECUSD</th>\n",
       "    </tr>\n",
       "    <tr>\n",
       "      <th>Date</th>\n",
       "      <th></th>\n",
       "      <th></th>\n",
       "      <th></th>\n",
       "      <th></th>\n",
       "      <th></th>\n",
       "      <th></th>\n",
       "      <th></th>\n",
       "      <th></th>\n",
       "      <th></th>\n",
       "    </tr>\n",
       "  </thead>\n",
       "  <tbody>\n",
       "    <tr>\n",
       "      <th>2017-05-19</th>\n",
       "      <td>1970.0</td>\n",
       "      <td>98.028</td>\n",
       "      <td>7.4993</td>\n",
       "      <td>125.79</td>\n",
       "      <td>26.824</td>\n",
       "      <td>0.090696</td>\n",
       "      <td>31.498</td>\n",
       "      <td>0.31800</td>\n",
       "      <td>105.84</td>\n",
       "    </tr>\n",
       "    <tr>\n",
       "      <th>2017-05-20</th>\n",
       "      <td>2068.0</td>\n",
       "      <td>102.450</td>\n",
       "      <td>7.1010</td>\n",
       "      <td>126.30</td>\n",
       "      <td>27.467</td>\n",
       "      <td>0.090696</td>\n",
       "      <td>35.342</td>\n",
       "      <td>0.34689</td>\n",
       "      <td>106.75</td>\n",
       "    </tr>\n",
       "    <tr>\n",
       "      <th>2017-05-21</th>\n",
       "      <td>2037.9</td>\n",
       "      <td>102.010</td>\n",
       "      <td>7.6000</td>\n",
       "      <td>144.40</td>\n",
       "      <td>26.050</td>\n",
       "      <td>0.088110</td>\n",
       "      <td>34.140</td>\n",
       "      <td>0.33345</td>\n",
       "      <td>117.71</td>\n",
       "    </tr>\n",
       "    <tr>\n",
       "      <th>2017-05-22</th>\n",
       "      <td>1981.9</td>\n",
       "      <td>115.020</td>\n",
       "      <td>7.9482</td>\n",
       "      <td>137.00</td>\n",
       "      <td>23.291</td>\n",
       "      <td>0.089990</td>\n",
       "      <td>34.889</td>\n",
       "      <td>0.28001</td>\n",
       "      <td>194.10</td>\n",
       "    </tr>\n",
       "    <tr>\n",
       "      <th>2017-05-23</th>\n",
       "      <td>2228.0</td>\n",
       "      <td>132.250</td>\n",
       "      <td>9.9974</td>\n",
       "      <td>167.02</td>\n",
       "      <td>29.750</td>\n",
       "      <td>0.092496</td>\n",
       "      <td>53.326</td>\n",
       "      <td>0.32090</td>\n",
       "      <td>250.00</td>\n",
       "    </tr>\n",
       "  </tbody>\n",
       "</table>\n",
       "</div>"
      ],
      "text/plain": [
       "            BTCUSD   DSHUSD  ETCUSD  ETHUSD  LTCUSD    RRTUSD  XMRUSD  \\\n",
       "Date                                                                    \n",
       "2017-05-19  1970.0   98.028  7.4993  125.79  26.824  0.090696  31.498   \n",
       "2017-05-20  2068.0  102.450  7.1010  126.30  27.467  0.090696  35.342   \n",
       "2017-05-21  2037.9  102.010  7.6000  144.40  26.050  0.088110  34.140   \n",
       "2017-05-22  1981.9  115.020  7.9482  137.00  23.291  0.089990  34.889   \n",
       "2017-05-23  2228.0  132.250  9.9974  167.02  29.750  0.092496  53.326   \n",
       "\n",
       "             XRPUSD  ZECUSD  \n",
       "Date                         \n",
       "2017-05-19  0.31800  105.84  \n",
       "2017-05-20  0.34689  106.75  \n",
       "2017-05-21  0.33345  117.71  \n",
       "2017-05-22  0.28001  194.10  \n",
       "2017-05-23  0.32090  250.00  "
      ]
     },
     "execution_count": 86,
     "metadata": {},
     "output_type": "execute_result"
    }
   ],
   "source": [
    "training_set.head()"
   ]
  },
  {
   "cell_type": "code",
   "execution_count": 87,
   "metadata": {},
   "outputs": [
    {
     "data": {
      "text/html": [
       "<div>\n",
       "<style scoped>\n",
       "    .dataframe tbody tr th:only-of-type {\n",
       "        vertical-align: middle;\n",
       "    }\n",
       "\n",
       "    .dataframe tbody tr th {\n",
       "        vertical-align: top;\n",
       "    }\n",
       "\n",
       "    .dataframe thead th {\n",
       "        text-align: right;\n",
       "    }\n",
       "</style>\n",
       "<table border=\"1\" class=\"dataframe\">\n",
       "  <thead>\n",
       "    <tr style=\"text-align: right;\">\n",
       "      <th></th>\n",
       "      <th>BTCUSD</th>\n",
       "      <th>DSHUSD</th>\n",
       "      <th>ETCUSD</th>\n",
       "      <th>ETHUSD</th>\n",
       "      <th>LTCUSD</th>\n",
       "      <th>RRTUSD</th>\n",
       "      <th>XMRUSD</th>\n",
       "      <th>XRPUSD</th>\n",
       "      <th>ZECUSD</th>\n",
       "    </tr>\n",
       "    <tr>\n",
       "      <th>Date</th>\n",
       "      <th></th>\n",
       "      <th></th>\n",
       "      <th></th>\n",
       "      <th></th>\n",
       "      <th></th>\n",
       "      <th></th>\n",
       "      <th></th>\n",
       "      <th></th>\n",
       "      <th></th>\n",
       "    </tr>\n",
       "  </thead>\n",
       "  <tbody>\n",
       "    <tr>\n",
       "      <th>2017-12-18</th>\n",
       "      <td>18959.0</td>\n",
       "      <td>1085.0</td>\n",
       "      <td>33.987</td>\n",
       "      <td>708.78</td>\n",
       "      <td>313.50</td>\n",
       "      <td>0.28890</td>\n",
       "      <td>345.41</td>\n",
       "      <td>0.70932</td>\n",
       "      <td>527.91</td>\n",
       "    </tr>\n",
       "    <tr>\n",
       "      <th>2017-12-19</th>\n",
       "      <td>18925.0</td>\n",
       "      <td>1141.6</td>\n",
       "      <td>38.001</td>\n",
       "      <td>784.00</td>\n",
       "      <td>355.51</td>\n",
       "      <td>0.27199</td>\n",
       "      <td>372.91</td>\n",
       "      <td>0.75624</td>\n",
       "      <td>584.61</td>\n",
       "    </tr>\n",
       "    <tr>\n",
       "      <th>2017-12-20</th>\n",
       "      <td>17340.0</td>\n",
       "      <td>1135.2</td>\n",
       "      <td>37.418</td>\n",
       "      <td>800.00</td>\n",
       "      <td>340.35</td>\n",
       "      <td>0.25800</td>\n",
       "      <td>355.37</td>\n",
       "      <td>0.72900</td>\n",
       "      <td>591.02</td>\n",
       "    </tr>\n",
       "    <tr>\n",
       "      <th>2017-12-21</th>\n",
       "      <td>16425.0</td>\n",
       "      <td>1424.6</td>\n",
       "      <td>38.999</td>\n",
       "      <td>795.91</td>\n",
       "      <td>304.31</td>\n",
       "      <td>0.25148</td>\n",
       "      <td>470.99</td>\n",
       "      <td>0.71395</td>\n",
       "      <td>665.00</td>\n",
       "    </tr>\n",
       "    <tr>\n",
       "      <th>2017-12-22</th>\n",
       "      <td>15650.0</td>\n",
       "      <td>1352.1</td>\n",
       "      <td>37.181</td>\n",
       "      <td>786.99</td>\n",
       "      <td>306.97</td>\n",
       "      <td>0.24000</td>\n",
       "      <td>420.42</td>\n",
       "      <td>1.11940</td>\n",
       "      <td>649.99</td>\n",
       "    </tr>\n",
       "  </tbody>\n",
       "</table>\n",
       "</div>"
      ],
      "text/plain": [
       "             BTCUSD  DSHUSD  ETCUSD  ETHUSD  LTCUSD   RRTUSD  XMRUSD   XRPUSD  \\\n",
       "Date                                                                            \n",
       "2017-12-18  18959.0  1085.0  33.987  708.78  313.50  0.28890  345.41  0.70932   \n",
       "2017-12-19  18925.0  1141.6  38.001  784.00  355.51  0.27199  372.91  0.75624   \n",
       "2017-12-20  17340.0  1135.2  37.418  800.00  340.35  0.25800  355.37  0.72900   \n",
       "2017-12-21  16425.0  1424.6  38.999  795.91  304.31  0.25148  470.99  0.71395   \n",
       "2017-12-22  15650.0  1352.1  37.181  786.99  306.97  0.24000  420.42  1.11940   \n",
       "\n",
       "            ZECUSD  \n",
       "Date                \n",
       "2017-12-18  527.91  \n",
       "2017-12-19  584.61  \n",
       "2017-12-20  591.02  \n",
       "2017-12-21  665.00  \n",
       "2017-12-22  649.99  "
      ]
     },
     "execution_count": 87,
     "metadata": {},
     "output_type": "execute_result"
    }
   ],
   "source": [
    "training_set.tail()"
   ]
  },
  {
   "cell_type": "code",
   "execution_count": 88,
   "metadata": {},
   "outputs": [
    {
     "data": {
      "text/html": [
       "<div>\n",
       "<style scoped>\n",
       "    .dataframe tbody tr th:only-of-type {\n",
       "        vertical-align: middle;\n",
       "    }\n",
       "\n",
       "    .dataframe tbody tr th {\n",
       "        vertical-align: top;\n",
       "    }\n",
       "\n",
       "    .dataframe thead th {\n",
       "        text-align: right;\n",
       "    }\n",
       "</style>\n",
       "<table border=\"1\" class=\"dataframe\">\n",
       "  <thead>\n",
       "    <tr style=\"text-align: right;\">\n",
       "      <th></th>\n",
       "      <th>BTCUSD</th>\n",
       "      <th>DSHUSD</th>\n",
       "      <th>ETCUSD</th>\n",
       "      <th>ETHUSD</th>\n",
       "      <th>LTCUSD</th>\n",
       "      <th>RRTUSD</th>\n",
       "      <th>XMRUSD</th>\n",
       "      <th>XRPUSD</th>\n",
       "      <th>ZECUSD</th>\n",
       "    </tr>\n",
       "  </thead>\n",
       "  <tbody>\n",
       "    <tr>\n",
       "      <th>count</th>\n",
       "      <td>215.000000</td>\n",
       "      <td>215.000000</td>\n",
       "      <td>215.000000</td>\n",
       "      <td>215.000000</td>\n",
       "      <td>215.000000</td>\n",
       "      <td>215.000000</td>\n",
       "      <td>215.000000</td>\n",
       "      <td>215.000000</td>\n",
       "      <td>215.000000</td>\n",
       "    </tr>\n",
       "    <tr>\n",
       "      <th>mean</th>\n",
       "      <td>5207.076193</td>\n",
       "      <td>322.526465</td>\n",
       "      <td>16.475827</td>\n",
       "      <td>313.134279</td>\n",
       "      <td>64.731758</td>\n",
       "      <td>0.129734</td>\n",
       "      <td>97.278935</td>\n",
       "      <td>0.242957</td>\n",
       "      <td>261.156093</td>\n",
       "    </tr>\n",
       "    <tr>\n",
       "      <th>std</th>\n",
       "      <td>3784.299130</td>\n",
       "      <td>223.402565</td>\n",
       "      <td>5.760548</td>\n",
       "      <td>113.899267</td>\n",
       "      <td>55.993577</td>\n",
       "      <td>0.062390</td>\n",
       "      <td>74.558226</td>\n",
       "      <td>0.119014</td>\n",
       "      <td>81.759324</td>\n",
       "    </tr>\n",
       "    <tr>\n",
       "      <th>min</th>\n",
       "      <td>1949.900000</td>\n",
       "      <td>97.592000</td>\n",
       "      <td>7.101000</td>\n",
       "      <td>125.790000</td>\n",
       "      <td>21.845000</td>\n",
       "      <td>0.037999</td>\n",
       "      <td>29.744000</td>\n",
       "      <td>0.148210</td>\n",
       "      <td>105.840000</td>\n",
       "    </tr>\n",
       "    <tr>\n",
       "      <th>25%</th>\n",
       "      <td>2652.400000</td>\n",
       "      <td>181.520000</td>\n",
       "      <td>12.946500</td>\n",
       "      <td>257.315000</td>\n",
       "      <td>43.119000</td>\n",
       "      <td>0.078340</td>\n",
       "      <td>45.698500</td>\n",
       "      <td>0.193090</td>\n",
       "      <td>212.900000</td>\n",
       "    </tr>\n",
       "    <tr>\n",
       "      <th>50%</th>\n",
       "      <td>4162.600000</td>\n",
       "      <td>284.190000</td>\n",
       "      <td>15.552000</td>\n",
       "      <td>297.400000</td>\n",
       "      <td>51.593000</td>\n",
       "      <td>0.112500</td>\n",
       "      <td>86.852000</td>\n",
       "      <td>0.217850</td>\n",
       "      <td>238.590000</td>\n",
       "    </tr>\n",
       "    <tr>\n",
       "      <th>75%</th>\n",
       "      <td>5899.550000</td>\n",
       "      <td>342.435000</td>\n",
       "      <td>17.603500</td>\n",
       "      <td>334.825000</td>\n",
       "      <td>62.580000</td>\n",
       "      <td>0.153495</td>\n",
       "      <td>115.000000</td>\n",
       "      <td>0.252215</td>\n",
       "      <td>290.000000</td>\n",
       "    </tr>\n",
       "    <tr>\n",
       "      <th>max</th>\n",
       "      <td>19210.000000</td>\n",
       "      <td>1424.600000</td>\n",
       "      <td>38.999000</td>\n",
       "      <td>800.000000</td>\n",
       "      <td>355.510000</td>\n",
       "      <td>0.372000</td>\n",
       "      <td>470.990000</td>\n",
       "      <td>1.119400</td>\n",
       "      <td>665.000000</td>\n",
       "    </tr>\n",
       "  </tbody>\n",
       "</table>\n",
       "</div>"
      ],
      "text/plain": [
       "             BTCUSD       DSHUSD      ETCUSD      ETHUSD      LTCUSD  \\\n",
       "count    215.000000   215.000000  215.000000  215.000000  215.000000   \n",
       "mean    5207.076193   322.526465   16.475827  313.134279   64.731758   \n",
       "std     3784.299130   223.402565    5.760548  113.899267   55.993577   \n",
       "min     1949.900000    97.592000    7.101000  125.790000   21.845000   \n",
       "25%     2652.400000   181.520000   12.946500  257.315000   43.119000   \n",
       "50%     4162.600000   284.190000   15.552000  297.400000   51.593000   \n",
       "75%     5899.550000   342.435000   17.603500  334.825000   62.580000   \n",
       "max    19210.000000  1424.600000   38.999000  800.000000  355.510000   \n",
       "\n",
       "           RRTUSD      XMRUSD      XRPUSD      ZECUSD  \n",
       "count  215.000000  215.000000  215.000000  215.000000  \n",
       "mean     0.129734   97.278935    0.242957  261.156093  \n",
       "std      0.062390   74.558226    0.119014   81.759324  \n",
       "min      0.037999   29.744000    0.148210  105.840000  \n",
       "25%      0.078340   45.698500    0.193090  212.900000  \n",
       "50%      0.112500   86.852000    0.217850  238.590000  \n",
       "75%      0.153495  115.000000    0.252215  290.000000  \n",
       "max      0.372000  470.990000    1.119400  665.000000  "
      ]
     },
     "execution_count": 88,
     "metadata": {},
     "output_type": "execute_result"
    }
   ],
   "source": [
    "training_set.describe()"
   ]
  },
  {
   "cell_type": "markdown",
   "metadata": {},
   "source": [
    "### The Hedge Ratio"
   ]
  },
  {
   "cell_type": "markdown",
   "metadata": {},
   "source": [
    "#### DSHUSD and ETHUSD"
   ]
  },
  {
   "cell_type": "markdown",
   "metadata": {},
   "source": [
    "Model $$ DSHUSD = HedgeRatio * ETHUSD $$"
   ]
  },
  {
   "cell_type": "code",
   "execution_count": 102,
   "metadata": {},
   "outputs": [],
   "source": [
    "model = sm.OLS(training_set['DSHUSD'], training_set['ETHUSD'])"
   ]
  },
  {
   "cell_type": "code",
   "execution_count": 104,
   "metadata": {},
   "outputs": [],
   "source": [
    "result = model.fit()"
   ]
  },
  {
   "cell_type": "code",
   "execution_count": 106,
   "metadata": {},
   "outputs": [
    {
     "data": {
      "text/html": [
       "<table class=\"simpletable\">\n",
       "<caption>OLS Regression Results</caption>\n",
       "<tr>\n",
       "  <th>Dep. Variable:</th>         <td>DSHUSD</td>      <th>  R-squared:         </th> <td>   0.906</td> \n",
       "</tr>\n",
       "<tr>\n",
       "  <th>Model:</th>                   <td>OLS</td>       <th>  Adj. R-squared:    </th> <td>   0.905</td> \n",
       "</tr>\n",
       "<tr>\n",
       "  <th>Method:</th>             <td>Least Squares</td>  <th>  F-statistic:       </th> <td>   2055.</td> \n",
       "</tr>\n",
       "<tr>\n",
       "  <th>Date:</th>             <td>Fri, 24 May 2019</td> <th>  Prob (F-statistic):</th> <td>1.10e-111</td>\n",
       "</tr>\n",
       "<tr>\n",
       "  <th>Time:</th>                 <td>17:41:15</td>     <th>  Log-Likelihood:    </th> <td> -1335.1</td> \n",
       "</tr>\n",
       "<tr>\n",
       "  <th>No. Observations:</th>      <td>   215</td>      <th>  AIC:               </th> <td>   2672.</td> \n",
       "</tr>\n",
       "<tr>\n",
       "  <th>Df Residuals:</th>          <td>   214</td>      <th>  BIC:               </th> <td>   2676.</td> \n",
       "</tr>\n",
       "<tr>\n",
       "  <th>Df Model:</th>              <td>     1</td>      <th>                     </th>     <td> </td>    \n",
       "</tr>\n",
       "<tr>\n",
       "  <th>Covariance Type:</th>      <td>nonrobust</td>    <th>                     </th>     <td> </td>    \n",
       "</tr>\n",
       "</table>\n",
       "<table class=\"simpletable\">\n",
       "<tr>\n",
       "     <td></td>       <th>coef</th>     <th>std err</th>      <th>t</th>      <th>P>|t|</th>  <th>[0.025</th>    <th>0.975]</th>  \n",
       "</tr>\n",
       "<tr>\n",
       "  <th>ETHUSD</th> <td>    1.1200</td> <td>    0.025</td> <td>   45.331</td> <td> 0.000</td> <td>    1.071</td> <td>    1.169</td>\n",
       "</tr>\n",
       "</table>\n",
       "<table class=\"simpletable\">\n",
       "<tr>\n",
       "  <th>Omnibus:</th>       <td>73.344</td> <th>  Durbin-Watson:     </th> <td>   0.075</td>\n",
       "</tr>\n",
       "<tr>\n",
       "  <th>Prob(Omnibus):</th> <td> 0.000</td> <th>  Jarque-Bera (JB):  </th> <td> 201.247</td>\n",
       "</tr>\n",
       "<tr>\n",
       "  <th>Skew:</th>          <td> 1.488</td> <th>  Prob(JB):          </th> <td>1.99e-44</td>\n",
       "</tr>\n",
       "<tr>\n",
       "  <th>Kurtosis:</th>      <td> 6.689</td> <th>  Cond. No.          </th> <td>    1.00</td>\n",
       "</tr>\n",
       "</table><br/><br/>Warnings:<br/>[1] Standard Errors assume that the covariance matrix of the errors is correctly specified."
      ],
      "text/plain": [
       "<class 'statsmodels.iolib.summary.Summary'>\n",
       "\"\"\"\n",
       "                            OLS Regression Results                            \n",
       "==============================================================================\n",
       "Dep. Variable:                 DSHUSD   R-squared:                       0.906\n",
       "Model:                            OLS   Adj. R-squared:                  0.905\n",
       "Method:                 Least Squares   F-statistic:                     2055.\n",
       "Date:                Fri, 24 May 2019   Prob (F-statistic):          1.10e-111\n",
       "Time:                        17:41:15   Log-Likelihood:                -1335.1\n",
       "No. Observations:                 215   AIC:                             2672.\n",
       "Df Residuals:                     214   BIC:                             2676.\n",
       "Df Model:                           1                                         \n",
       "Covariance Type:            nonrobust                                         \n",
       "==============================================================================\n",
       "                 coef    std err          t      P>|t|      [0.025      0.975]\n",
       "------------------------------------------------------------------------------\n",
       "ETHUSD         1.1200      0.025     45.331      0.000       1.071       1.169\n",
       "==============================================================================\n",
       "Omnibus:                       73.344   Durbin-Watson:                   0.075\n",
       "Prob(Omnibus):                  0.000   Jarque-Bera (JB):              201.247\n",
       "Skew:                           1.488   Prob(JB):                     1.99e-44\n",
       "Kurtosis:                       6.689   Cond. No.                         1.00\n",
       "==============================================================================\n",
       "\n",
       "Warnings:\n",
       "[1] Standard Errors assume that the covariance matrix of the errors is correctly specified.\n",
       "\"\"\""
      ]
     },
     "execution_count": 106,
     "metadata": {},
     "output_type": "execute_result"
    }
   ],
   "source": [
    "result.summary()"
   ]
  },
  {
   "cell_type": "markdown",
   "metadata": {},
   "source": [
    "Set the hedge ratio"
   ]
  },
  {
   "cell_type": "code",
   "execution_count": 108,
   "metadata": {},
   "outputs": [],
   "source": [
    "hedge_ratio = result.params['ETHUSD']"
   ]
  },
  {
   "cell_type": "markdown",
   "metadata": {},
   "source": [
    "Plot"
   ]
  },
  {
   "cell_type": "code",
   "execution_count": 123,
   "metadata": {},
   "outputs": [
    {
     "data": {
      "text/plain": [
       "<matplotlib.legend.Legend at 0x1c2fa41358>"
      ]
     },
     "execution_count": 123,
     "metadata": {},
     "output_type": "execute_result"
    },
    {
     "data": {
      "image/png": "[encoded data removed]",
      "text/plain": [
       "<Figure size 1440x360 with 1 Axes>"
      ]
     },
     "metadata": {
      "needs_background": "light"
     },
     "output_type": "display_data"
    }
   ],
   "source": [
    "# Adjust plot size\n",
    "plt.figure(figsize=[20, 5])\n",
    "\n",
    "plt.plot(last['DSHUSD'])\n",
    "plt.plot(hedge_ratio * last['ETHUSD'])\n",
    "\n",
    "# Title\n",
    "plt.title('DSHUSD and ETHUSD')\n",
    "\n",
    "# Legend \n",
    "plt.legend(['DSHUSD', 'hedge_ratio * ETHUSD'])"
   ]
  },
  {
   "cell_type": "markdown",
   "metadata": {},
   "source": [
    "Calculate the spread"
   ]
  },
  {
   "cell_type": "code",
   "execution_count": 124,
   "metadata": {},
   "outputs": [],
   "source": [
    "spread = last['DSHUSD'] - hedge_ratio * last['ETHUSD']"
   ]
  },
  {
   "cell_type": "code",
   "execution_count": 126,
   "metadata": {},
   "outputs": [
    {
     "data": {
      "text/plain": [
       "<matplotlib.axes._subplots.AxesSubplot at 0x1c2fc43748>"
      ]
     },
     "execution_count": 126,
     "metadata": {},
     "output_type": "execute_result"
    },
    {
     "data": {
      "image/png": "[encoded data removed]",
      "text/plain": [
       "<Figure size 432x288 with 1 Axes>"
      ]
     },
     "metadata": {
      "needs_background": "light"
     },
     "output_type": "display_data"
    }
   ],
   "source": [
    "spread.plot()"
   ]
  },
  {
   "cell_type": "markdown",
   "metadata": {},
   "source": [
    "Mean of the spread on the training set"
   ]
  },
  {
   "cell_type": "code",
   "execution_count": 130,
   "metadata": {},
   "outputs": [],
   "source": [
    "spread_mean = spread[:'2017-12-22'].mean()"
   ]
  },
  {
   "cell_type": "code",
   "execution_count": 131,
   "metadata": {},
   "outputs": [
    {
     "data": {
      "text/plain": [
       "-28.193228611132398"
      ]
     },
     "execution_count": 131,
     "metadata": {},
     "output_type": "execute_result"
    }
   ],
   "source": [
    "spread_mean"
   ]
  },
  {
   "cell_type": "markdown",
   "metadata": {},
   "source": [
    "Standard deviation of the spread on the training set"
   ]
  },
  {
   "cell_type": "code",
   "execution_count": 132,
   "metadata": {},
   "outputs": [],
   "source": [
    "spread_std = spread[:'2017-12-22'].std()"
   ]
  },
  {
   "cell_type": "code",
   "execution_count": 133,
   "metadata": {},
   "outputs": [
    {
     "data": {
      "text/plain": [
       "117.32947761504481"
      ]
     },
     "execution_count": 133,
     "metadata": {},
     "output_type": "execute_result"
    }
   ],
   "source": [
    "spread_std"
   ]
  },
  {
   "cell_type": "markdown",
   "metadata": {},
   "source": [
    "z-score"
   ]
  },
  {
   "cell_type": "code",
   "execution_count": 134,
   "metadata": {},
   "outputs": [],
   "source": [
    "z_score = (spread - spread_mean) / spread_std"
   ]
  },
  {
   "cell_type": "code",
   "execution_count": 136,
   "metadata": {},
   "outputs": [
    {
     "data": {
      "text/plain": [
       "<matplotlib.axes._subplots.AxesSubplot at 0x1221fc2b0>"
      ]
     },
     "execution_count": 136,
     "metadata": {},
     "output_type": "execute_result"
    },
    {
     "data": {
      "image/png": "[encoded data removed]",
      "text/plain": [
       "<Figure size 432x288 with 1 Axes>"
      ]
     },
     "metadata": {
      "needs_background": "light"
     },
     "output_type": "display_data"
    }
   ],
   "source": [
    "z_score.plot()"
   ]
  },
  {
   "cell_type": "markdown",
   "metadata": {},
   "source": [
    "### Trading Strategy"
   ]
  },
  {
   "cell_type": "code",
   "execution_count": null,
   "metadata": {},
   "outputs": [],
   "source": []
  },
  {
   "cell_type": "code",
   "execution_count": null,
   "metadata": {},
   "outputs": [],
   "source": []
  },
  {
   "cell_type": "markdown",
   "metadata": {},
   "source": [
    "## Conclusion\n",
    "..."
   ]
  }
 ],
 "metadata": {
  "kernelspec": {
   "display_name": "Python 3",
   "language": "python",
   "name": "python3"
  },
  "language_info": {
   "codemirror_mode": {
    "name": "ipython",
    "version": 3
   },
   "file_extension": ".py",
   "mimetype": "text/x-python",
   "name": "python",
   "nbconvert_exporter": "python",
   "pygments_lexer": "ipython3",
   "version": "3.7.1"
  }
 },
 "nbformat": 4,
 "nbformat_minor": 2
}
