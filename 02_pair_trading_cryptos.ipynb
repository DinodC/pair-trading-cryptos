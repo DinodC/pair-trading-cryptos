{
 "cells": [
  {
   "cell_type": "markdown",
   "metadata": {},
   "source": [
    "# Pair Trading With Cryptocurrencies"
   ]
  },
  {
   "cell_type": "markdown",
   "metadata": {},
   "source": [
    "## How To Implement A Pair Trading Strategy Using Python"
   ]
  },
  {
   "cell_type": "markdown",
   "metadata": {},
   "source": [
    "## Introduction\n",
    "\n",
    "### Provide Background \n",
    "...\n",
    "\n",
    "### Provide Menu\n",
    "..."
   ]
  },
  {
   "cell_type": "markdown",
   "metadata": {},
   "source": [
    "Import packages"
   ]
  },
  {
   "cell_type": "code",
   "execution_count": 1,
   "metadata": {},
   "outputs": [],
   "source": [
    "import numpy as np"
   ]
  },
  {
   "cell_type": "code",
   "execution_count": 2,
   "metadata": {},
   "outputs": [],
   "source": [
    "import pandas as pd"
   ]
  },
  {
   "cell_type": "code",
   "execution_count": 3,
   "metadata": {},
   "outputs": [],
   "source": [
    "from pandas import Series, DataFrame"
   ]
  },
  {
   "cell_type": "code",
   "execution_count": 4,
   "metadata": {},
   "outputs": [],
   "source": [
    "import pickle"
   ]
  },
  {
   "cell_type": "code",
   "execution_count": 5,
   "metadata": {},
   "outputs": [],
   "source": [
    "import matplotlib.pyplot as plt"
   ]
  },
  {
   "cell_type": "code",
   "execution_count": 6,
   "metadata": {},
   "outputs": [],
   "source": [
    "import statsmodels.api as sm"
   ]
  },
  {
   "cell_type": "code",
   "execution_count": 7,
   "metadata": {},
   "outputs": [],
   "source": [
    "%matplotlib inline"
   ]
  },
  {
   "cell_type": "markdown",
   "metadata": {},
   "source": [
    "## Data Preparation"
   ]
  },
  {
   "cell_type": "markdown",
   "metadata": {},
   "source": [
    "Load data"
   ]
  },
  {
   "cell_type": "code",
   "execution_count": 8,
   "metadata": {},
   "outputs": [],
   "source": [
    "with open('data_coinmarketcap.pickle', 'rb') as f:\n",
    "    data = pickle.load(f)\n",
    "    \n",
    "f.close()"
   ]
  },
  {
   "cell_type": "markdown",
   "metadata": {},
   "source": [
    "Check"
   ]
  },
  {
   "cell_type": "code",
   "execution_count": 9,
   "metadata": {
    "scrolled": false
   },
   "outputs": [
    {
     "data": {
      "text/html": [
       "<div>\n",
       "<style scoped>\n",
       "    .dataframe tbody tr th:only-of-type {\n",
       "        vertical-align: middle;\n",
       "    }\n",
       "\n",
       "    .dataframe tbody tr th {\n",
       "        vertical-align: top;\n",
       "    }\n",
       "\n",
       "    .dataframe thead tr th {\n",
       "        text-align: left;\n",
       "    }\n",
       "</style>\n",
       "<table border=\"1\" class=\"dataframe\">\n",
       "  <thead>\n",
       "    <tr>\n",
       "      <th></th>\n",
       "      <th colspan=\"6\" halign=\"left\">BTC</th>\n",
       "      <th colspan=\"4\" halign=\"left\">ETH</th>\n",
       "      <th>...</th>\n",
       "      <th colspan=\"4\" halign=\"left\">XRP</th>\n",
       "      <th colspan=\"6\" halign=\"left\">LTC</th>\n",
       "    </tr>\n",
       "    <tr>\n",
       "      <th></th>\n",
       "      <th>Open</th>\n",
       "      <th>High</th>\n",
       "      <th>Low</th>\n",
       "      <th>Close</th>\n",
       "      <th>Volume</th>\n",
       "      <th>Market Cap</th>\n",
       "      <th>Open</th>\n",
       "      <th>High</th>\n",
       "      <th>Low</th>\n",
       "      <th>Close</th>\n",
       "      <th>...</th>\n",
       "      <th>Low</th>\n",
       "      <th>Close</th>\n",
       "      <th>Volume</th>\n",
       "      <th>Market Cap</th>\n",
       "      <th>Open</th>\n",
       "      <th>High</th>\n",
       "      <th>Low</th>\n",
       "      <th>Close</th>\n",
       "      <th>Volume</th>\n",
       "      <th>Market Cap</th>\n",
       "    </tr>\n",
       "  </thead>\n",
       "  <tbody>\n",
       "    <tr>\n",
       "      <th>2013-04-28</th>\n",
       "      <td>135.30</td>\n",
       "      <td>135.98</td>\n",
       "      <td>132.10</td>\n",
       "      <td>134.21</td>\n",
       "      <td>0.0</td>\n",
       "      <td>1.488567e+09</td>\n",
       "      <td>NaN</td>\n",
       "      <td>NaN</td>\n",
       "      <td>NaN</td>\n",
       "      <td>NaN</td>\n",
       "      <td>...</td>\n",
       "      <td>NaN</td>\n",
       "      <td>NaN</td>\n",
       "      <td>NaN</td>\n",
       "      <td>NaN</td>\n",
       "      <td>4.30</td>\n",
       "      <td>4.40</td>\n",
       "      <td>4.18</td>\n",
       "      <td>4.35</td>\n",
       "      <td>0.0</td>\n",
       "      <td>74636938.0</td>\n",
       "    </tr>\n",
       "    <tr>\n",
       "      <th>2013-04-29</th>\n",
       "      <td>134.44</td>\n",
       "      <td>147.49</td>\n",
       "      <td>134.00</td>\n",
       "      <td>144.54</td>\n",
       "      <td>0.0</td>\n",
       "      <td>1.603769e+09</td>\n",
       "      <td>NaN</td>\n",
       "      <td>NaN</td>\n",
       "      <td>NaN</td>\n",
       "      <td>NaN</td>\n",
       "      <td>...</td>\n",
       "      <td>NaN</td>\n",
       "      <td>NaN</td>\n",
       "      <td>NaN</td>\n",
       "      <td>NaN</td>\n",
       "      <td>4.37</td>\n",
       "      <td>4.57</td>\n",
       "      <td>4.23</td>\n",
       "      <td>4.38</td>\n",
       "      <td>0.0</td>\n",
       "      <td>75388964.0</td>\n",
       "    </tr>\n",
       "    <tr>\n",
       "      <th>2013-04-30</th>\n",
       "      <td>144.00</td>\n",
       "      <td>146.93</td>\n",
       "      <td>134.05</td>\n",
       "      <td>139.00</td>\n",
       "      <td>0.0</td>\n",
       "      <td>1.542813e+09</td>\n",
       "      <td>NaN</td>\n",
       "      <td>NaN</td>\n",
       "      <td>NaN</td>\n",
       "      <td>NaN</td>\n",
       "      <td>...</td>\n",
       "      <td>NaN</td>\n",
       "      <td>NaN</td>\n",
       "      <td>NaN</td>\n",
       "      <td>NaN</td>\n",
       "      <td>4.40</td>\n",
       "      <td>4.57</td>\n",
       "      <td>4.17</td>\n",
       "      <td>4.30</td>\n",
       "      <td>0.0</td>\n",
       "      <td>74020918.0</td>\n",
       "    </tr>\n",
       "    <tr>\n",
       "      <th>2013-05-01</th>\n",
       "      <td>139.00</td>\n",
       "      <td>139.89</td>\n",
       "      <td>107.72</td>\n",
       "      <td>116.99</td>\n",
       "      <td>0.0</td>\n",
       "      <td>1.298955e+09</td>\n",
       "      <td>NaN</td>\n",
       "      <td>NaN</td>\n",
       "      <td>NaN</td>\n",
       "      <td>NaN</td>\n",
       "      <td>...</td>\n",
       "      <td>NaN</td>\n",
       "      <td>NaN</td>\n",
       "      <td>NaN</td>\n",
       "      <td>NaN</td>\n",
       "      <td>4.29</td>\n",
       "      <td>4.36</td>\n",
       "      <td>3.52</td>\n",
       "      <td>3.80</td>\n",
       "      <td>0.0</td>\n",
       "      <td>65604596.0</td>\n",
       "    </tr>\n",
       "    <tr>\n",
       "      <th>2013-05-02</th>\n",
       "      <td>116.38</td>\n",
       "      <td>125.60</td>\n",
       "      <td>92.28</td>\n",
       "      <td>105.21</td>\n",
       "      <td>0.0</td>\n",
       "      <td>1.168517e+09</td>\n",
       "      <td>NaN</td>\n",
       "      <td>NaN</td>\n",
       "      <td>NaN</td>\n",
       "      <td>NaN</td>\n",
       "      <td>...</td>\n",
       "      <td>NaN</td>\n",
       "      <td>NaN</td>\n",
       "      <td>NaN</td>\n",
       "      <td>NaN</td>\n",
       "      <td>3.78</td>\n",
       "      <td>4.04</td>\n",
       "      <td>3.01</td>\n",
       "      <td>3.37</td>\n",
       "      <td>0.0</td>\n",
       "      <td>58287979.0</td>\n",
       "    </tr>\n",
       "  </tbody>\n",
       "</table>\n",
       "<p>5 rows × 24 columns</p>\n",
       "</div>"
      ],
      "text/plain": [
       "               BTC                                               ETH           \\\n",
       "              Open    High     Low   Close Volume    Market Cap Open High Low   \n",
       "2013-04-28  135.30  135.98  132.10  134.21    0.0  1.488567e+09  NaN  NaN NaN   \n",
       "2013-04-29  134.44  147.49  134.00  144.54    0.0  1.603769e+09  NaN  NaN NaN   \n",
       "2013-04-30  144.00  146.93  134.05  139.00    0.0  1.542813e+09  NaN  NaN NaN   \n",
       "2013-05-01  139.00  139.89  107.72  116.99    0.0  1.298955e+09  NaN  NaN NaN   \n",
       "2013-05-02  116.38  125.60   92.28  105.21    0.0  1.168517e+09  NaN  NaN NaN   \n",
       "\n",
       "                     ...     XRP                           LTC              \\\n",
       "           Close     ...     Low Close Volume Market Cap  Open  High   Low   \n",
       "2013-04-28   NaN     ...     NaN   NaN    NaN        NaN  4.30  4.40  4.18   \n",
       "2013-04-29   NaN     ...     NaN   NaN    NaN        NaN  4.37  4.57  4.23   \n",
       "2013-04-30   NaN     ...     NaN   NaN    NaN        NaN  4.40  4.57  4.17   \n",
       "2013-05-01   NaN     ...     NaN   NaN    NaN        NaN  4.29  4.36  3.52   \n",
       "2013-05-02   NaN     ...     NaN   NaN    NaN        NaN  3.78  4.04  3.01   \n",
       "\n",
       "                                     \n",
       "           Close Volume  Market Cap  \n",
       "2013-04-28  4.35    0.0  74636938.0  \n",
       "2013-04-29  4.38    0.0  75388964.0  \n",
       "2013-04-30  4.30    0.0  74020918.0  \n",
       "2013-05-01  3.80    0.0  65604596.0  \n",
       "2013-05-02  3.37    0.0  58287979.0  \n",
       "\n",
       "[5 rows x 24 columns]"
      ]
     },
     "execution_count": 9,
     "metadata": {},
     "output_type": "execute_result"
    }
   ],
   "source": [
    "data.head()"
   ]
  },
  {
   "cell_type": "code",
   "execution_count": 10,
   "metadata": {},
   "outputs": [
    {
     "data": {
      "text/html": [
       "<div>\n",
       "<style scoped>\n",
       "    .dataframe tbody tr th:only-of-type {\n",
       "        vertical-align: middle;\n",
       "    }\n",
       "\n",
       "    .dataframe tbody tr th {\n",
       "        vertical-align: top;\n",
       "    }\n",
       "\n",
       "    .dataframe thead tr th {\n",
       "        text-align: left;\n",
       "    }\n",
       "</style>\n",
       "<table border=\"1\" class=\"dataframe\">\n",
       "  <thead>\n",
       "    <tr>\n",
       "      <th></th>\n",
       "      <th colspan=\"6\" halign=\"left\">BTC</th>\n",
       "      <th colspan=\"4\" halign=\"left\">ETH</th>\n",
       "      <th>...</th>\n",
       "      <th colspan=\"4\" halign=\"left\">XRP</th>\n",
       "      <th colspan=\"6\" halign=\"left\">LTC</th>\n",
       "    </tr>\n",
       "    <tr>\n",
       "      <th></th>\n",
       "      <th>Open</th>\n",
       "      <th>High</th>\n",
       "      <th>Low</th>\n",
       "      <th>Close</th>\n",
       "      <th>Volume</th>\n",
       "      <th>Market Cap</th>\n",
       "      <th>Open</th>\n",
       "      <th>High</th>\n",
       "      <th>Low</th>\n",
       "      <th>Close</th>\n",
       "      <th>...</th>\n",
       "      <th>Low</th>\n",
       "      <th>Close</th>\n",
       "      <th>Volume</th>\n",
       "      <th>Market Cap</th>\n",
       "      <th>Open</th>\n",
       "      <th>High</th>\n",
       "      <th>Low</th>\n",
       "      <th>Close</th>\n",
       "      <th>Volume</th>\n",
       "      <th>Market Cap</th>\n",
       "    </tr>\n",
       "  </thead>\n",
       "  <tbody>\n",
       "    <tr>\n",
       "      <th>2019-05-20</th>\n",
       "      <td>8196.92</td>\n",
       "      <td>8200.97</td>\n",
       "      <td>7678.78</td>\n",
       "      <td>7978.31</td>\n",
       "      <td>2.384340e+10</td>\n",
       "      <td>1.413157e+11</td>\n",
       "      <td>261.27</td>\n",
       "      <td>261.55</td>\n",
       "      <td>241.8</td>\n",
       "      <td>251.86</td>\n",
       "      <td>...</td>\n",
       "      <td>0.384647</td>\n",
       "      <td>0.398003</td>\n",
       "      <td>2.258367e+09</td>\n",
       "      <td>1.676255e+10</td>\n",
       "      <td>95.34</td>\n",
       "      <td>95.34</td>\n",
       "      <td>88.57</td>\n",
       "      <td>91.49</td>\n",
       "      <td>3.566921e+09</td>\n",
       "      <td>5.659973e+09</td>\n",
       "    </tr>\n",
       "    <tr>\n",
       "      <th>2019-05-21</th>\n",
       "      <td>7977.97</td>\n",
       "      <td>8062.17</td>\n",
       "      <td>7843.34</td>\n",
       "      <td>7963.33</td>\n",
       "      <td>2.512725e+10</td>\n",
       "      <td>1.410656e+11</td>\n",
       "      <td>251.65</td>\n",
       "      <td>262.11</td>\n",
       "      <td>248.2</td>\n",
       "      <td>255.22</td>\n",
       "      <td>...</td>\n",
       "      <td>0.389302</td>\n",
       "      <td>0.397603</td>\n",
       "      <td>1.811582e+09</td>\n",
       "      <td>1.674573e+10</td>\n",
       "      <td>91.57</td>\n",
       "      <td>92.44</td>\n",
       "      <td>89.59</td>\n",
       "      <td>91.51</td>\n",
       "      <td>3.145769e+09</td>\n",
       "      <td>5.662154e+09</td>\n",
       "    </tr>\n",
       "    <tr>\n",
       "      <th>2019-05-22</th>\n",
       "      <td>NaN</td>\n",
       "      <td>NaN</td>\n",
       "      <td>NaN</td>\n",
       "      <td>NaN</td>\n",
       "      <td>NaN</td>\n",
       "      <td>NaN</td>\n",
       "      <td>NaN</td>\n",
       "      <td>NaN</td>\n",
       "      <td>NaN</td>\n",
       "      <td>NaN</td>\n",
       "      <td>...</td>\n",
       "      <td>NaN</td>\n",
       "      <td>NaN</td>\n",
       "      <td>NaN</td>\n",
       "      <td>NaN</td>\n",
       "      <td>91.51</td>\n",
       "      <td>92.00</td>\n",
       "      <td>87.55</td>\n",
       "      <td>88.21</td>\n",
       "      <td>3.398528e+09</td>\n",
       "      <td>5.459427e+09</td>\n",
       "    </tr>\n",
       "    <tr>\n",
       "      <th>2019-05-23</th>\n",
       "      <td>NaN</td>\n",
       "      <td>NaN</td>\n",
       "      <td>NaN</td>\n",
       "      <td>NaN</td>\n",
       "      <td>NaN</td>\n",
       "      <td>NaN</td>\n",
       "      <td>NaN</td>\n",
       "      <td>NaN</td>\n",
       "      <td>NaN</td>\n",
       "      <td>NaN</td>\n",
       "      <td>...</td>\n",
       "      <td>NaN</td>\n",
       "      <td>NaN</td>\n",
       "      <td>NaN</td>\n",
       "      <td>NaN</td>\n",
       "      <td>88.20</td>\n",
       "      <td>89.74</td>\n",
       "      <td>85.23</td>\n",
       "      <td>89.18</td>\n",
       "      <td>3.208807e+09</td>\n",
       "      <td>5.520439e+09</td>\n",
       "    </tr>\n",
       "    <tr>\n",
       "      <th>2019-05-24</th>\n",
       "      <td>NaN</td>\n",
       "      <td>NaN</td>\n",
       "      <td>NaN</td>\n",
       "      <td>NaN</td>\n",
       "      <td>NaN</td>\n",
       "      <td>NaN</td>\n",
       "      <td>NaN</td>\n",
       "      <td>NaN</td>\n",
       "      <td>NaN</td>\n",
       "      <td>NaN</td>\n",
       "      <td>...</td>\n",
       "      <td>NaN</td>\n",
       "      <td>NaN</td>\n",
       "      <td>NaN</td>\n",
       "      <td>NaN</td>\n",
       "      <td>88.97</td>\n",
       "      <td>102.75</td>\n",
       "      <td>88.32</td>\n",
       "      <td>99.90</td>\n",
       "      <td>5.393658e+09</td>\n",
       "      <td>6.185976e+09</td>\n",
       "    </tr>\n",
       "  </tbody>\n",
       "</table>\n",
       "<p>5 rows × 24 columns</p>\n",
       "</div>"
      ],
      "text/plain": [
       "                BTC                                                         \\\n",
       "               Open     High      Low    Close        Volume    Market Cap   \n",
       "2019-05-20  8196.92  8200.97  7678.78  7978.31  2.384340e+10  1.413157e+11   \n",
       "2019-05-21  7977.97  8062.17  7843.34  7963.33  2.512725e+10  1.410656e+11   \n",
       "2019-05-22      NaN      NaN      NaN      NaN           NaN           NaN   \n",
       "2019-05-23      NaN      NaN      NaN      NaN           NaN           NaN   \n",
       "2019-05-24      NaN      NaN      NaN      NaN           NaN           NaN   \n",
       "\n",
       "               ETH                             ...            XRP            \\\n",
       "              Open    High    Low   Close      ...            Low     Close   \n",
       "2019-05-20  261.27  261.55  241.8  251.86      ...       0.384647  0.398003   \n",
       "2019-05-21  251.65  262.11  248.2  255.22      ...       0.389302  0.397603   \n",
       "2019-05-22     NaN     NaN    NaN     NaN      ...            NaN       NaN   \n",
       "2019-05-23     NaN     NaN    NaN     NaN      ...            NaN       NaN   \n",
       "2019-05-24     NaN     NaN    NaN     NaN      ...            NaN       NaN   \n",
       "\n",
       "                                          LTC                        \\\n",
       "                  Volume    Market Cap   Open    High    Low  Close   \n",
       "2019-05-20  2.258367e+09  1.676255e+10  95.34   95.34  88.57  91.49   \n",
       "2019-05-21  1.811582e+09  1.674573e+10  91.57   92.44  89.59  91.51   \n",
       "2019-05-22           NaN           NaN  91.51   92.00  87.55  88.21   \n",
       "2019-05-23           NaN           NaN  88.20   89.74  85.23  89.18   \n",
       "2019-05-24           NaN           NaN  88.97  102.75  88.32  99.90   \n",
       "\n",
       "                                        \n",
       "                  Volume    Market Cap  \n",
       "2019-05-20  3.566921e+09  5.659973e+09  \n",
       "2019-05-21  3.145769e+09  5.662154e+09  \n",
       "2019-05-22  3.398528e+09  5.459427e+09  \n",
       "2019-05-23  3.208807e+09  5.520439e+09  \n",
       "2019-05-24  5.393658e+09  6.185976e+09  \n",
       "\n",
       "[5 rows x 24 columns]"
      ]
     },
     "execution_count": 10,
     "metadata": {},
     "output_type": "execute_result"
    }
   ],
   "source": [
    "data.tail()"
   ]
  },
  {
   "cell_type": "markdown",
   "metadata": {},
   "source": [
    "Collect ids"
   ]
  },
  {
   "cell_type": "code",
   "execution_count": 11,
   "metadata": {},
   "outputs": [],
   "source": [
    "id = list(data.columns.levels[0])"
   ]
  },
  {
   "cell_type": "markdown",
   "metadata": {},
   "source": [
    "Create a dictionary"
   ]
  },
  {
   "cell_type": "code",
   "execution_count": 12,
   "metadata": {},
   "outputs": [],
   "source": [
    "close_dict = {}"
   ]
  },
  {
   "cell_type": "code",
   "execution_count": 13,
   "metadata": {},
   "outputs": [],
   "source": [
    "for i in id:\n",
    "    close_dict[i] = data[i]['Close']"
   ]
  },
  {
   "cell_type": "markdown",
   "metadata": {},
   "source": [
    "Convert the dictionary to a DataFrame"
   ]
  },
  {
   "cell_type": "code",
   "execution_count": 14,
   "metadata": {},
   "outputs": [],
   "source": [
    "close = pd.DataFrame(close_dict)"
   ]
  },
  {
   "cell_type": "markdown",
   "metadata": {},
   "source": [
    "Check"
   ]
  },
  {
   "cell_type": "code",
   "execution_count": 15,
   "metadata": {},
   "outputs": [
    {
     "data": {
      "text/html": [
       "<div>\n",
       "<style scoped>\n",
       "    .dataframe tbody tr th:only-of-type {\n",
       "        vertical-align: middle;\n",
       "    }\n",
       "\n",
       "    .dataframe tbody tr th {\n",
       "        vertical-align: top;\n",
       "    }\n",
       "\n",
       "    .dataframe thead th {\n",
       "        text-align: right;\n",
       "    }\n",
       "</style>\n",
       "<table border=\"1\" class=\"dataframe\">\n",
       "  <thead>\n",
       "    <tr style=\"text-align: right;\">\n",
       "      <th></th>\n",
       "      <th>BTC</th>\n",
       "      <th>ETH</th>\n",
       "      <th>LTC</th>\n",
       "      <th>XRP</th>\n",
       "    </tr>\n",
       "  </thead>\n",
       "  <tbody>\n",
       "    <tr>\n",
       "      <th>2013-04-28</th>\n",
       "      <td>134.21</td>\n",
       "      <td>NaN</td>\n",
       "      <td>4.35</td>\n",
       "      <td>NaN</td>\n",
       "    </tr>\n",
       "    <tr>\n",
       "      <th>2013-04-29</th>\n",
       "      <td>144.54</td>\n",
       "      <td>NaN</td>\n",
       "      <td>4.38</td>\n",
       "      <td>NaN</td>\n",
       "    </tr>\n",
       "    <tr>\n",
       "      <th>2013-04-30</th>\n",
       "      <td>139.00</td>\n",
       "      <td>NaN</td>\n",
       "      <td>4.30</td>\n",
       "      <td>NaN</td>\n",
       "    </tr>\n",
       "    <tr>\n",
       "      <th>2013-05-01</th>\n",
       "      <td>116.99</td>\n",
       "      <td>NaN</td>\n",
       "      <td>3.80</td>\n",
       "      <td>NaN</td>\n",
       "    </tr>\n",
       "    <tr>\n",
       "      <th>2013-05-02</th>\n",
       "      <td>105.21</td>\n",
       "      <td>NaN</td>\n",
       "      <td>3.37</td>\n",
       "      <td>NaN</td>\n",
       "    </tr>\n",
       "  </tbody>\n",
       "</table>\n",
       "</div>"
      ],
      "text/plain": [
       "               BTC  ETH   LTC  XRP\n",
       "2013-04-28  134.21  NaN  4.35  NaN\n",
       "2013-04-29  144.54  NaN  4.38  NaN\n",
       "2013-04-30  139.00  NaN  4.30  NaN\n",
       "2013-05-01  116.99  NaN  3.80  NaN\n",
       "2013-05-02  105.21  NaN  3.37  NaN"
      ]
     },
     "execution_count": 15,
     "metadata": {},
     "output_type": "execute_result"
    }
   ],
   "source": [
    "close.head()"
   ]
  },
  {
   "cell_type": "code",
   "execution_count": 16,
   "metadata": {},
   "outputs": [
    {
     "data": {
      "text/html": [
       "<div>\n",
       "<style scoped>\n",
       "    .dataframe tbody tr th:only-of-type {\n",
       "        vertical-align: middle;\n",
       "    }\n",
       "\n",
       "    .dataframe tbody tr th {\n",
       "        vertical-align: top;\n",
       "    }\n",
       "\n",
       "    .dataframe thead th {\n",
       "        text-align: right;\n",
       "    }\n",
       "</style>\n",
       "<table border=\"1\" class=\"dataframe\">\n",
       "  <thead>\n",
       "    <tr style=\"text-align: right;\">\n",
       "      <th></th>\n",
       "      <th>BTC</th>\n",
       "      <th>ETH</th>\n",
       "      <th>LTC</th>\n",
       "      <th>XRP</th>\n",
       "    </tr>\n",
       "  </thead>\n",
       "  <tbody>\n",
       "    <tr>\n",
       "      <th>2019-05-20</th>\n",
       "      <td>7978.31</td>\n",
       "      <td>251.86</td>\n",
       "      <td>91.49</td>\n",
       "      <td>0.398003</td>\n",
       "    </tr>\n",
       "    <tr>\n",
       "      <th>2019-05-21</th>\n",
       "      <td>7963.33</td>\n",
       "      <td>255.22</td>\n",
       "      <td>91.51</td>\n",
       "      <td>0.397603</td>\n",
       "    </tr>\n",
       "    <tr>\n",
       "      <th>2019-05-22</th>\n",
       "      <td>NaN</td>\n",
       "      <td>NaN</td>\n",
       "      <td>88.21</td>\n",
       "      <td>NaN</td>\n",
       "    </tr>\n",
       "    <tr>\n",
       "      <th>2019-05-23</th>\n",
       "      <td>NaN</td>\n",
       "      <td>NaN</td>\n",
       "      <td>89.18</td>\n",
       "      <td>NaN</td>\n",
       "    </tr>\n",
       "    <tr>\n",
       "      <th>2019-05-24</th>\n",
       "      <td>NaN</td>\n",
       "      <td>NaN</td>\n",
       "      <td>99.90</td>\n",
       "      <td>NaN</td>\n",
       "    </tr>\n",
       "  </tbody>\n",
       "</table>\n",
       "</div>"
      ],
      "text/plain": [
       "                BTC     ETH    LTC       XRP\n",
       "2019-05-20  7978.31  251.86  91.49  0.398003\n",
       "2019-05-21  7963.33  255.22  91.51  0.397603\n",
       "2019-05-22      NaN     NaN  88.21       NaN\n",
       "2019-05-23      NaN     NaN  89.18       NaN\n",
       "2019-05-24      NaN     NaN  99.90       NaN"
      ]
     },
     "execution_count": 16,
     "metadata": {},
     "output_type": "execute_result"
    }
   ],
   "source": [
    "close.tail()"
   ]
  },
  {
   "cell_type": "code",
   "execution_count": 17,
   "metadata": {},
   "outputs": [
    {
     "data": {
      "text/html": [
       "<div>\n",
       "<style scoped>\n",
       "    .dataframe tbody tr th:only-of-type {\n",
       "        vertical-align: middle;\n",
       "    }\n",
       "\n",
       "    .dataframe tbody tr th {\n",
       "        vertical-align: top;\n",
       "    }\n",
       "\n",
       "    .dataframe thead th {\n",
       "        text-align: right;\n",
       "    }\n",
       "</style>\n",
       "<table border=\"1\" class=\"dataframe\">\n",
       "  <thead>\n",
       "    <tr style=\"text-align: right;\">\n",
       "      <th></th>\n",
       "      <th>BTC</th>\n",
       "      <th>ETH</th>\n",
       "      <th>LTC</th>\n",
       "      <th>XRP</th>\n",
       "    </tr>\n",
       "  </thead>\n",
       "  <tbody>\n",
       "    <tr>\n",
       "      <th>count</th>\n",
       "      <td>2215.000000</td>\n",
       "      <td>1384.000000</td>\n",
       "      <td>2218.000000</td>\n",
       "      <td>2117.000000</td>\n",
       "    </tr>\n",
       "    <tr>\n",
       "      <th>mean</th>\n",
       "      <td>2451.666005</td>\n",
       "      <td>204.419357</td>\n",
       "      <td>32.872976</td>\n",
       "      <td>0.176969</td>\n",
       "    </tr>\n",
       "    <tr>\n",
       "      <th>std</th>\n",
       "      <td>3363.891547</td>\n",
       "      <td>261.440400</td>\n",
       "      <td>52.720152</td>\n",
       "      <td>0.331741</td>\n",
       "    </tr>\n",
       "    <tr>\n",
       "      <th>min</th>\n",
       "      <td>68.430000</td>\n",
       "      <td>0.434829</td>\n",
       "      <td>1.160000</td>\n",
       "      <td>0.002810</td>\n",
       "    </tr>\n",
       "    <tr>\n",
       "      <th>25%</th>\n",
       "      <td>349.900000</td>\n",
       "      <td>10.722500</td>\n",
       "      <td>3.390000</td>\n",
       "      <td>0.006399</td>\n",
       "    </tr>\n",
       "    <tr>\n",
       "      <th>50%</th>\n",
       "      <td>631.110000</td>\n",
       "      <td>116.830000</td>\n",
       "      <td>4.810000</td>\n",
       "      <td>0.010140</td>\n",
       "    </tr>\n",
       "    <tr>\n",
       "      <th>75%</th>\n",
       "      <td>3906.335000</td>\n",
       "      <td>298.470000</td>\n",
       "      <td>46.805000</td>\n",
       "      <td>0.289678</td>\n",
       "    </tr>\n",
       "    <tr>\n",
       "      <th>max</th>\n",
       "      <td>19497.400000</td>\n",
       "      <td>1396.420000</td>\n",
       "      <td>358.340000</td>\n",
       "      <td>3.380000</td>\n",
       "    </tr>\n",
       "  </tbody>\n",
       "</table>\n",
       "</div>"
      ],
      "text/plain": [
       "                BTC          ETH          LTC          XRP\n",
       "count   2215.000000  1384.000000  2218.000000  2117.000000\n",
       "mean    2451.666005   204.419357    32.872976     0.176969\n",
       "std     3363.891547   261.440400    52.720152     0.331741\n",
       "min       68.430000     0.434829     1.160000     0.002810\n",
       "25%      349.900000    10.722500     3.390000     0.006399\n",
       "50%      631.110000   116.830000     4.810000     0.010140\n",
       "75%     3906.335000   298.470000    46.805000     0.289678\n",
       "max    19497.400000  1396.420000   358.340000     3.380000"
      ]
     },
     "execution_count": 17,
     "metadata": {},
     "output_type": "execute_result"
    }
   ],
   "source": [
    "close.describe()"
   ]
  },
  {
   "cell_type": "markdown",
   "metadata": {},
   "source": [
    "## Pair Trading Strategy Implementation"
   ]
  },
  {
   "cell_type": "markdown",
   "metadata": {},
   "source": [
    "### Define The Training And Test Sets\n",
    "..."
   ]
  },
  {
   "cell_type": "markdown",
   "metadata": {},
   "source": [
    "### Calculate The Spread Between BTC And Other Cryptos\n",
    "#### Calculate The Hedge Ratio\n",
    "...\n",
    "#### Calculate The Spread\n",
    "..."
   ]
  },
  {
   "cell_type": "markdown",
   "metadata": {},
   "source": [
    "### Pair Trading Strategy\n",
    "The pair trading strategy is inspired from from [E. Chan's book](https://www.amazon.com/Quantitative-Trading-Build-Algorithmic-Business/dp/0470284889/ref=sr_1_1?crid=39RKR1QE7L1BS&keywords=quantitative+trading&qid=1558788312&s=gateway&sprefix=quantitativ%2Caps%2C500&sr=8-1).\n",
    "..."
   ]
  },
  {
   "cell_type": "markdown",
   "metadata": {},
   "source": [
    "### Implementation"
   ]
  },
  {
   "cell_type": "code",
   "execution_count": 18,
   "metadata": {},
   "outputs": [],
   "source": [
    "# Define training set\n",
    "training_start = '2015-08-07'\n",
    "training_end = '2016-08-01'\n",
    "training_set = close[training_start:training_end]\n",
    "\n",
    "# Define test set\n",
    "test_start = '2016-08-02'\n",
    "test_end = '2017-02-01'\n",
    "test_set = close[test_start:test_end]\n",
    "\n",
    "# Set crypto 1 to BTC\n",
    "crypto_1 = id[0]\n",
    "\n",
    "# Define entry and exit thresholds\n",
    "entry_threshold = 1\n",
    "exit_threshold = 0.5\n",
    "\n",
    "# Initialize output\n",
    "output = {id[1]: {},\n",
    "          id[2]: {}, \n",
    "          id[3]: {}}\n",
    "\n",
    "#\n",
    "for i in range(1, len(id)):\n",
    "    \n",
    "    # Set crypto 2 to ETH, LTC and XRP\n",
    "    crypto_2 = id[i]\n",
    "    \n",
    "    # Calculate the hedge ratio using the training set\n",
    "    model = sm.OLS(training_set[crypto_1], training_set[crypto_2])\n",
    "    result = model.fit()\n",
    "    hedge_ratio = result.params[crypto_2]\n",
    "\n",
    "    # Calculate the spread\n",
    "    spread = close[crypto_1] - hedge_ratio * close[crypto_2]\n",
    "    # Mean of the spread on the training set\n",
    "    spread_mean = spread[training_start:training_end].mean()\n",
    "    # Standard deviation of the spread calculated on the training set\n",
    "    spread_std = spread[training_start:training_end].std()\n",
    "    # Z-score of the spread\n",
    "    z_score = (spread - spread_mean) / spread_std\n",
    "    \n",
    "    # Implement pair trading strategy\n",
    "    # Create masks for long, short and exit positions\n",
    "    longs = (z_score <= -entry_threshold)\n",
    "    shorts = (z_score >= entry_threshold)\n",
    "    exits = (np.abs(z_score) <= exit_threshold)\n",
    "    # Initialize the positions\n",
    "    positions = pd.DataFrame({crypto_1: np.nan * pd.Series(range(len(z_score))),\n",
    "                              crypto_2: np.nan * pd.Series(range(len(z_score)))},\n",
    "                             index=z_score.index)\n",
    "    # Update the positions\n",
    "    [positions[crypto_1][longs], positions[crypto_2][longs]] = [1, -1]\n",
    "    [positions[crypto_1][shorts], positions[crypto_2][shorts]] = [-1, 1]\n",
    "    [positions[crypto_1][exits], positions[crypto_2][exits]] = [0, 0]\n",
    "    # Carry foward the positions except when there is an exit\n",
    "    positions.fillna(method='ffill', inplace=True)\n",
    "    # Lag the positions to the next day because we base calculations on close\n",
    "    positions = positions.shift(periods=1)\n",
    "    \n",
    "    # Calculate the performance\n",
    "    # Initialize the returns\n",
    "    returns = pd.DataFrame({crypto_1: close[crypto_1],\n",
    "                            crypto_2: close[crypto_2]})\n",
    "    # Update the returns\n",
    "    returns = returns.pct_change()\n",
    "    # Calculate the pnl\n",
    "    pnl = returns * positions\n",
    "    pnl_net = pnl.sum(axis='columns')\n",
    "    # Calculate the Sharpe ratio under the training set\n",
    "    sharpe_training = np.sqrt(252) * pnl_net[training_start:training_end].mean() / pnl_net[training_start:training_end].std()\n",
    "    # Calculate the Sharpe ratio under the test set\n",
    "    sharpe_test = np.sqrt(252) * pnl_net[test_start:test_end].mean() / pnl_net[test_start:test_end].std()\n",
    "    \n",
    "    # Generate the output\n",
    "    # Gather data\n",
    "    data = {'spread': z_score,\n",
    "            'positions': positions,\n",
    "            'pnl': pnl_net,\n",
    "            'sharpe training': sharpe_training,\n",
    "            'sharpe test': sharpe_test}\n",
    "    # Update the output\n",
    "    output.update({crypto_2: data})\n",
    "    "
   ]
  },
  {
   "cell_type": "markdown",
   "metadata": {},
   "source": [
    "## Pair Trading Strategy Results"
   ]
  },
  {
   "cell_type": "markdown",
   "metadata": {},
   "source": [
    "### Spread"
   ]
  },
  {
   "cell_type": "markdown",
   "metadata": {},
   "source": [
    "Plot"
   ]
  },
  {
   "cell_type": "code",
   "execution_count": 19,
   "metadata": {},
   "outputs": [
    {
     "data": {
      "text/plain": [
       "(-6, 6)"
      ]
     },
     "execution_count": 19,
     "metadata": {},
     "output_type": "execute_result"
    },
    {
     "data": {
      "image/png": "[encoded data removed]",
      "text/plain": [
       "<Figure size 1440x360 with 2 Axes>"
      ]
     },
     "metadata": {
      "needs_background": "light"
     },
     "output_type": "display_data"
    }
   ],
   "source": [
    "plt.figure(figsize=[20, 5])\n",
    "\n",
    "plt.subplot(1, 2, 1)\n",
    "plt.plot(output['ETH']['spread'][training_start:training_end])\n",
    "plt.plot(output['LTC']['spread'][training_start:training_end])\n",
    "plt.plot(output['XRP']['spread'][training_start:training_end])\n",
    "plt.title('Spread Under The Training Set')\n",
    "plt.legend(['ETH', 'LTC', 'XRP'])\n",
    "plt.ylim(-6, 6)\n",
    "\n",
    "plt.subplot(1, 2, 2)\n",
    "plt.plot(output['ETH']['spread'][test_start:test_end])\n",
    "plt.plot(output['LTC']['spread'][test_start:test_end])\n",
    "plt.plot(output['XRP']['spread'][test_start:test_end])\n",
    "plt.title('Spread Under The Test Set')\n",
    "plt.legend(['ETH', 'LTC', 'XRP'])\n",
    "plt.ylim(-6, 6)"
   ]
  },
  {
   "cell_type": "markdown",
   "metadata": {},
   "source": [
    "Remarks:\n",
    "- ...\n",
    "- ...\n",
    "- ..."
   ]
  },
  {
   "cell_type": "markdown",
   "metadata": {},
   "source": [
    "### Sharpe Ratio"
   ]
  },
  {
   "cell_type": "markdown",
   "metadata": {},
   "source": [
    "Table"
   ]
  },
  {
   "cell_type": "code",
   "execution_count": 20,
   "metadata": {},
   "outputs": [],
   "source": [
    "sharpe = pd.DataFrame({'BTC & ETH': [output['ETH']['sharpe training'], output['ETH']['sharpe test']],\n",
    "                       'BTC & LTC': [output['LTC']['sharpe training'], output['LTC']['sharpe test']],\n",
    "                       'BTC & XRP': [output['XRP']['sharpe training'], output['XRP']['sharpe test']]},\n",
    "                      index=pd.MultiIndex.from_product([['Sharpe Ratio'], ['Training Set', 'Test Set']]))"
   ]
  },
  {
   "cell_type": "code",
   "execution_count": 21,
   "metadata": {
    "scrolled": true
   },
   "outputs": [
    {
     "data": {
      "text/html": [
       "<div>\n",
       "<style scoped>\n",
       "    .dataframe tbody tr th:only-of-type {\n",
       "        vertical-align: middle;\n",
       "    }\n",
       "\n",
       "    .dataframe tbody tr th {\n",
       "        vertical-align: top;\n",
       "    }\n",
       "\n",
       "    .dataframe thead th {\n",
       "        text-align: right;\n",
       "    }\n",
       "</style>\n",
       "<table border=\"1\" class=\"dataframe\">\n",
       "  <thead>\n",
       "    <tr style=\"text-align: right;\">\n",
       "      <th></th>\n",
       "      <th></th>\n",
       "      <th>BTC &amp; ETH</th>\n",
       "      <th>BTC &amp; LTC</th>\n",
       "      <th>BTC &amp; XRP</th>\n",
       "    </tr>\n",
       "  </thead>\n",
       "  <tbody>\n",
       "    <tr>\n",
       "      <th rowspan=\"2\" valign=\"top\">Sharpe Ratio</th>\n",
       "      <th>Training Set</th>\n",
       "      <td>1.587326</td>\n",
       "      <td>0.644986</td>\n",
       "      <td>0.420515</td>\n",
       "    </tr>\n",
       "    <tr>\n",
       "      <th>Test Set</th>\n",
       "      <td>0.467068</td>\n",
       "      <td>-1.464933</td>\n",
       "      <td>-0.192094</td>\n",
       "    </tr>\n",
       "  </tbody>\n",
       "</table>\n",
       "</div>"
      ],
      "text/plain": [
       "                           BTC & ETH  BTC & LTC  BTC & XRP\n",
       "Sharpe Ratio Training Set   1.587326   0.644986   0.420515\n",
       "             Test Set       0.467068  -1.464933  -0.192094"
      ]
     },
     "execution_count": 21,
     "metadata": {},
     "output_type": "execute_result"
    }
   ],
   "source": [
    "sharpe"
   ]
  },
  {
   "cell_type": "markdown",
   "metadata": {},
   "source": [
    "Remarks:\n",
    "- ...\n",
    "- ...\n",
    "- ..."
   ]
  },
  {
   "cell_type": "markdown",
   "metadata": {},
   "source": [
    "### PnL"
   ]
  },
  {
   "cell_type": "markdown",
   "metadata": {},
   "source": [
    "Plot"
   ]
  },
  {
   "cell_type": "code",
   "execution_count": 22,
   "metadata": {},
   "outputs": [
    {
     "data": {
      "text/plain": [
       "(-0.5, 3)"
      ]
     },
     "execution_count": 22,
     "metadata": {},
     "output_type": "execute_result"
    },
    {
     "data": {
      "image/png": "[encoded data removed]",
      "text/plain": [
       "<Figure size 1440x360 with 2 Axes>"
      ]
     },
     "metadata": {
      "needs_background": "light"
     },
     "output_type": "display_data"
    }
   ],
   "source": [
    "plt.figure(figsize=[20, 5])\n",
    "\n",
    "plt.subplot(1, 2, 1)\n",
    "plt.plot(output['ETH']['pnl'].cumsum()[training_start:training_end])\n",
    "plt.plot(output['LTC']['pnl'].cumsum()[training_start:training_end])\n",
    "plt.plot(output['XRP']['pnl'].cumsum()[training_start:training_end])\n",
    "plt.title('Cumulative PnL Under The Training Set')\n",
    "plt.legend(['ETH', 'LTC', 'XRP'])\n",
    "plt.ylim(-0.5, 3)\n",
    "\n",
    "plt.subplot(1, 2, 2)\n",
    "plt.plot(output['ETH']['pnl'].cumsum()[test_start:test_end])\n",
    "plt.plot(output['LTC']['pnl'].cumsum()[test_start:test_end])\n",
    "plt.plot(output['XRP']['pnl'].cumsum()[test_start:test_end])\n",
    "plt.title('Cumulative PnL Under The Test Set')\n",
    "plt.legend(['ETH', 'LTC', 'XRP'])\n",
    "plt.ylim(-0.5, 3)"
   ]
  },
  {
   "cell_type": "markdown",
   "metadata": {},
   "source": [
    "Remarks:\n",
    "- ...\n",
    "- ...\n",
    "- ..."
   ]
  },
  {
   "cell_type": "markdown",
   "metadata": {},
   "source": [
    "## Conclusion\n",
    "\n",
    "### Review The Main Takeaways\n",
    "...\n",
    "\n",
    "### Provide A Preview Of What Is Next (If There Is One)\n",
    "..."
   ]
  }
 ],
 "metadata": {
  "kernelspec": {
   "display_name": "Python 3",
   "language": "python",
   "name": "python3"
  },
  "language_info": {
   "codemirror_mode": {
    "name": "ipython",
    "version": 3
   },
   "file_extension": ".py",
   "mimetype": "text/x-python",
   "name": "python",
   "nbconvert_exporter": "python",
   "pygments_lexer": "ipython3",
   "version": "3.7.1"
  }
 },
 "nbformat": 4,
 "nbformat_minor": 2
}
